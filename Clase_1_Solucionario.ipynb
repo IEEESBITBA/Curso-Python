{
  "nbformat": 4,
  "nbformat_minor": 0,
  "metadata": {
    "colab": {
      "name": "Clase 1 Solucionario.ipynb",
      "provenance": [],
      "collapsed_sections": [],
      "toc_visible": true
    },
    "kernelspec": {
      "name": "python3",
      "display_name": "Python 3"
    }
  },
  "cells": [
    {
      "cell_type": "markdown",
      "metadata": {
        "id": "zUpAx4mvVgz6"
      },
      "source": [
        "# Clase 1 - Solucionario\n",
        "\n",
        "En este documento se encuentran soluciones propuestas para todos los desafíos y ejercicios de la Clase 1. Los problemas pueden ser resueltos de muchas maneras distintas por lo cual no se preocupen si las soluciones que proponen ustedes no son idénticas a las que les proponemos.\n"
      ]
    },
    {
      "cell_type": "markdown",
      "metadata": {
        "id": "Taq1M60JCWcf"
      },
      "source": [
        "### Mini-desafio - input(), print()\n",
        "\n",
        "Diseñar un programa en el cual el usuario ingrese tres números, uno a la vez, y se muestre a la salida el promedio de los tres números."
      ]
    },
    {
      "cell_type": "code",
      "metadata": {
        "id": "CTYAThUpChMY"
      },
      "source": [
        "n1 = int(input(\"Ingrese el número 1:\"))\n",
        "n2 = int(input('Ingrese el numero 2:'))\n",
        "n3 = int(input('Ingrese el numero 3:'))\n",
        "prom = (n1+n2+n3)/3\n",
        "print(prom)"
      ],
      "execution_count": null,
      "outputs": []
    },
    {
      "cell_type": "markdown",
      "metadata": {
        "id": "KrdB7sMFbPJw"
      },
      "source": [
        "### Mini-desafio - operador modulo %\n",
        "\n",
        "Realizar un programa al cual se ingresa el día del año mediante un número de 0 a 364, y que muestra en pantalla a qué día de la semana corresponde mediante un número de 0 a 6 (mostrar el número 0 si corresponde a Lunes y 6 si es Domingo)\n",
        "\n",
        "Suponemos que el día 0 del año cae un Lunes."
      ]
    },
    {
      "cell_type": "code",
      "metadata": {
        "id": "lJkAZmLnbfjw"
      },
      "source": [
        "dia = int( input(\"Ingrese el dia del año: \") )\n",
        "print( dia%7 )"
      ],
      "execution_count": null,
      "outputs": []
    },
    {
      "cell_type": "markdown",
      "metadata": {
        "id": "mUrWYINjEk-6"
      },
      "source": [
        "### Mini-desafio - if, else\n",
        "1. Realizar un programa que revise si una nota está aprobada (es decir si es mayor o igual a 4) utilizando un if/else. La nota será ingresada por el usuario usando input().\n",
        "2. Realizar un programa que convierta una nota porcentual del 0 al 100 a una letra entre A y F de acuerdo a la siguiente conversión:\n",
        "\n",
        " - A: 90–100\n",
        "\n",
        " - B: 80–89\n",
        "\n",
        " - C: 70–79\n",
        "\n",
        " - D: 60–69\n",
        "\n",
        " - F: 0–59"
      ]
    },
    {
      "cell_type": "code",
      "metadata": {
        "id": "rK3F0gJkFQlh"
      },
      "source": [
        "# Primera parte\n",
        "nota = int(input(\"Ingrese nota:\"))\n",
        "if nota>=4:\n",
        "    print('Aprobado')\n",
        "else:\n",
        "    print('Desaprobado')"
      ],
      "execution_count": null,
      "outputs": []
    },
    {
      "cell_type": "code",
      "metadata": {
        "id": "Bl4t4rlbV2ck"
      },
      "source": [
        "# Segunda parte\n",
        "nota = int(input(\"Ingrese nota:\"))\n",
        "\n",
        "if nota > 100 or nota < 0:\n",
        "    print('Nota fuera de rango 0-100')\n",
        "elif nota >= 90:\n",
        "    print('Nota: A')\n",
        "elif nota >= 80:\n",
        "    print('Nota: B')\n",
        "elif nota >= 70:\n",
        "    print('Nota: C')\n",
        "elif nota >= 60:\n",
        "    print('Nota: D')\n",
        "else:\n",
        "    print('Nota: F')"
      ],
      "execution_count": null,
      "outputs": []
    },
    {
      "cell_type": "markdown",
      "metadata": {
        "id": "fDFzdkHrxnPE"
      },
      "source": [
        "### Mini-desafío If y While\n",
        "Implementar un programa que muestre la siguiente secuencia:\n",
        "\n",
        "1, 2, 3, 4, 5, 4, 3, 2, 1, 0\n",
        "\n",
        "**Para un desafío mayor:** Utilizar un solo *while*, un solo *if* y un solo *else*\n"
      ]
    },
    {
      "cell_type": "code",
      "metadata": {
        "id": "ELNQM61IIni8"
      },
      "source": [
        "x = 1\n",
        "while x <= 10:\n",
        "    if x < 6:\n",
        "        print(x)\n",
        "    else:\n",
        "        print(10-x)\n",
        "    x+=1"
      ],
      "execution_count": null,
      "outputs": []
    },
    {
      "cell_type": "markdown",
      "metadata": {
        "id": "UoNf8Ce-NAi5"
      },
      "source": [
        "### Mini-desafío for\n",
        "Mostrar la siguiente secuencia de datos utilizando la instrucción for y la instrucción if:\n",
        "\n",
        "0, 1, 4, 9, 16, 25, 6, 7, 8, 9"
      ]
    },
    {
      "cell_type": "code",
      "metadata": {
        "id": "E3NctxBaM3kG"
      },
      "source": [
        "for x in range(0, 10):\n",
        "    if x<6:\n",
        "        print(x**2)\n",
        "    else:\n",
        "        print(x)"
      ],
      "execution_count": null,
      "outputs": []
    },
    {
      "cell_type": "markdown",
      "metadata": {
        "id": "sgCdpQfDS5wG"
      },
      "source": [
        "### Mini-desafío funciones\n",
        "Escribir una función que chequee los siguientes usuarios y contraseñas:\n",
        "*  Usuario: Juan  -  Contraseña: 12345_\n",
        "*  Usuario: Pablo - Contraseña: xDcFvGbHn\n",
        "\n",
        "La función debe recibir como parámetros el usuario y la contraseña, y debe devolver el valor True o False."
      ]
    },
    {
      "cell_type": "markdown",
      "metadata": {
        "id": "DVmnL_ZcFvnS"
      },
      "source": [
        "#### Solución 1"
      ]
    },
    {
      "cell_type": "code",
      "metadata": {
        "id": "cqBdQ2P-RPU6"
      },
      "source": [
        "# Solucion propuesta 1\n",
        "def login(usuario, contraseña):\n",
        "  if (usuario == 'Juan' and contraseña == '12345_') or \\\n",
        "  (usuario == 'Pablo' and contraseña == 'xDcFvGbHn'):\n",
        "    return True\n",
        "  else:\n",
        "    return False\n",
        "\n",
        "val = login('Hola','Adios')\n",
        "print(val)\n",
        "val = login('Pablo','xDcFvGbHn')\n",
        "print(val)"
      ],
      "execution_count": null,
      "outputs": []
    },
    {
      "cell_type": "markdown",
      "metadata": {
        "id": "rwK87c1zFwIY"
      },
      "source": [
        "#### Solución 2"
      ]
    },
    {
      "cell_type": "code",
      "metadata": {
        "id": "CIiMB-5jErd5"
      },
      "source": [
        "# Solucion propuesta 2\n",
        "\n",
        "# Al usar 1 sólo return, es más fácil analizar el código\n",
        "# (este es un problema con códigos más complejos con decenas de return)\n",
        "def login(usuario, contraseña):\n",
        "  acceso = False\n",
        "  if usuario == 'Juan' and contraseña == '12345_':\n",
        "    acceso = True\n",
        "  if usuario == 'Pablo' and contraseña == 'xDcFvGbHn':\n",
        "    acceso = True\n",
        "  return acceso\n",
        "\n",
        "val = login('Hola','Adios')\n",
        "print(val)\n",
        "val = login('Pablo','xDcFvGbHn')\n",
        "print(val)"
      ],
      "execution_count": null,
      "outputs": []
    },
    {
      "cell_type": "markdown",
      "metadata": {
        "id": "13AcDcKZWX0b"
      },
      "source": [
        "# Ejercitación integradora $\\newcommand{\\dif}{\\bigstar}$$\\newcommand{\\facil}{\\color{\\green}{\\dif}}$ $\\newcommand{\\pieceofcake}{\\color{\\cyan}{\\dif}}$$\\newcommand{\\medio}{\\color{\\yellow}{\\dif\\dif}}$$\\newcommand{\\media}{\\medio}$$\\newcommand{\\normal}{\\medio}$  $\\newcommand{\\dificil}{\\color{\\orange}{\\dif\\dif\\dif}}$ $\\newcommand{\\imposible}{\\color{\\red}{\\dif\\dif\\dif\\dif}}$\n",
        "$\\newcommand{\\tarc}{\\large\\frown}$\n",
        "$\\newcommand{\\arc}[1]{\\stackrel{\\tarc}{#1}}$\n",
        "<head>\n",
        "<style type=\"text/css\">\n",
        "  img{ \n",
        "    display: block;\n",
        "    margin-left:auto;\n",
        "    margin-right:auto;\n",
        "  }\n",
        "  </style>\n",
        "  </head>"
      ]
    },
    {
      "cell_type": "markdown",
      "metadata": {
        "id": "ZJ8oR4DW3z4A"
      },
      "source": [
        "###$\\facil$   Cálculo de promedio \n",
        "Cálcular la nota de un alumno es una tarea cotidiana de un profesor. Esta tarea suele realizarse a mano o en excel muchas veces. En esta ocasión la haremos en python. \n",
        "- Escribir una función que calcule el promedio de 3 notas y entrege ese valor usando **return**.\n",
        "- Reescribir la función anterior modificandola para asignar una importancia al primer examen de 20%, al segundo de 50% y al tercero de 30%.\n",
        "- Llamar a cada función anterior 3 veces con distintas notas y verificar, mediante la instrucción **if**, si el alumno aprobó en cada caso (suponga que 4 es la nota de aprobación).\n"
      ]
    },
    {
      "cell_type": "markdown",
      "metadata": {
        "id": "6VAXnwt56VX4"
      },
      "source": [
        "#### Solución"
      ]
    },
    {
      "cell_type": "code",
      "metadata": {
        "id": "vX10lzxk5HGK"
      },
      "source": [
        "# Promedio común\n",
        "def promedio(n1,n2,n3):\n",
        "    p = (n1+n2+n3)/3\n",
        "    return p\n",
        "\n",
        "# Promedio ponderado\n",
        "def ponderado(n1,n2,n3):\n",
        "    p = n1*0.2 + n2*0.5 + n3*0.3\n",
        "    return p\n",
        "\n",
        "if ponderado(3, 4, 5) >= 4:\n",
        "  print(\"Aprobado\")\n",
        "else:\n",
        "  print(\"Desaprobado\")\n",
        "\n",
        "if ponderado(1, 5, 10) >= 4:\n",
        "  print(\"Aprobado\")\n",
        "else:\n",
        "  print(\"Desaprobado\")\n",
        "\n",
        "if ponderado(4, 3, 5) >= 4:\n",
        "  print(\"Aprobado\")\n",
        "else:\n",
        "  print(\"Desaprobado\")\n"
      ],
      "execution_count": null,
      "outputs": []
    },
    {
      "cell_type": "markdown",
      "metadata": {
        "id": "3j1ROqeFJdP-"
      },
      "source": [
        "###$\\facil$ Una buena e-stimación\n",
        "El número $e$ tiene inmensa utilidad para el análisis y la estadística, es una de las super-estrellas de la matemática, y su utilidad radica en que la función $e^x$  es igual a su derivada, por definición de $e$.\n",
        "\n",
        "Gracias a las series de Taylor podemos obtener la siguiente definición del número $e$:\n",
        "\n",
        "$e=1+\\frac{1}{1!}+\\frac{1}{2!}+\\frac{1}{3!}+\\frac{1}{4!}+\\frac{1}{5!}+...$\n",
        "\n",
        "Se pide obtener una aproximación del número $e$ calculando la suma de los primeros $20$ términos de esta sucesión infinita.\n",
        "\n",
        "**Tips**\n",
        "* $n! = 1\\cdot 2\\cdot 3 \\cdot\\ ...\\ \\cdot n$."
      ]
    },
    {
      "cell_type": "markdown",
      "metadata": {
        "id": "IMsVqhNuU-yE"
      },
      "source": [
        "#### Solución"
      ]
    },
    {
      "cell_type": "code",
      "metadata": {
        "id": "VUJ_m4VNU_as"
      },
      "source": [
        "def f(n):\n",
        "  if n<2:\n",
        "    return n\n",
        "  else:\n",
        "    return n*f(n-1)\n",
        "\n",
        "e = 1\n",
        "for n in range(1, 20):\n",
        "  e += 1/f(n)\n",
        "\n",
        "print(e)"
      ],
      "execution_count": null,
      "outputs": []
    },
    {
      "cell_type": "markdown",
      "metadata": {
        "id": "tS0MU0yrKfAs"
      },
      "source": [
        "###$\\medio$ Ejercicio de entrevista en Ingemática \n",
        "Escriba un programa que imprima los números del 1 al 100, pero que para cada número que sea múltiplo de 3 imprima  `N3`, para los múltiplos de 5 imprima `N5`, y para los múltiplos de los dos, `N3N5`.\n",
        "\n",
        "**Tips**\n",
        "* ¡Si el número es divisible por 3 entonces el resto de la división vale cero!\n",
        "```\n",
        "numero % 3 == 0\n",
        ">> True\n",
        "```\n"
      ]
    },
    {
      "cell_type": "markdown",
      "metadata": {
        "id": "3GQmu8it6aAf"
      },
      "source": [
        "#### Solución"
      ]
    },
    {
      "cell_type": "code",
      "metadata": {
        "id": "IUtY_MurVkMl"
      },
      "source": [
        "# Ejercicio de entrevista en Ingemática: Solución propuesta\n",
        "\n",
        "for i in range(1,101):\n",
        "    if i%3==0 and i%5==0:\n",
        "        print('N3N5')\n",
        "    elif i%3==0:\n",
        "        print('N3')\n",
        "    elif i%5==0:\n",
        "        print('N5')\n",
        "    else:\n",
        "        print(i)"
      ],
      "execution_count": null,
      "outputs": []
    },
    {
      "cell_type": "markdown",
      "metadata": {
        "id": "0Af6_xLhRVrE"
      },
      "source": [
        "###$\\medio$   Test de primalidad \n",
        "Escribir una función que recibe un numero y devuelve *True* si el numero es primo y *False* en caso contrario.\n",
        "\n",
        "Mediante un *for* verificar la *primalidad* de los numeros del $1$ al $20$.\n",
        "\n",
        "**Tips**\n",
        "\n",
        "* Un número $N$ es primo cuando tiene exactamente $2$ divisores ($1$ y $N$). Sin embargo alcanza con verificar que no es múltiplo de ningún número entre $2$ y $\\sqrt{N}$ (recordar que $\\sqrt{N}=N^{0.5}$)\n",
        "* El numero 1 **no** es primo."
      ]
    },
    {
      "cell_type": "markdown",
      "metadata": {
        "id": "QP2VvcvTcCMK"
      },
      "source": [
        "#### Solución"
      ]
    },
    {
      "cell_type": "code",
      "metadata": {
        "id": "GpKKblYHb_IR"
      },
      "source": [
        "def esPrimo(n):\n",
        "  if n == 1:\n",
        "    return False\n",
        "  \n",
        "  d=2\n",
        "  while d <= n**0.5:\n",
        "    if n%d == 0:\n",
        "      return False\n",
        "    d = d+1\n",
        "  else:\n",
        "    return True\n",
        "  \n",
        "for x in range(1,21):\n",
        "  print( x, \"es primo?\", esPrimo(x) )"
      ],
      "execution_count": null,
      "outputs": []
    },
    {
      "cell_type": "markdown",
      "metadata": {
        "id": "fm_1Ogs_k0Uu"
      },
      "source": [
        "### $\\normal$ La leyenda de Filius Bonacci  \n",
        "\n",
        "<img class=\"img\" src=\"https://upload.wikimedia.org/wikipedia/commons/9/93/Fibonacci_spiral_34.svg\" height=\"200\" alt = \"Espiral Fibonacci\" title = \"\">\n",
        "\n",
        "Imprima $n$ números de la [sucesion de Fibonacci](https://es.wikipedia.org/wiki/Sucesi%C3%B3n_de_Fibonacci)\n",
        "\n",
        "\n",
        "```\n",
        "0, 1, 1, 2, 3, 5, 8, 13, 21 ...\n",
        "```"
      ]
    },
    {
      "cell_type": "markdown",
      "metadata": {
        "id": "Dwb5ojE86dpX"
      },
      "source": [
        "#### Solución 1"
      ]
    },
    {
      "cell_type": "code",
      "metadata": {
        "id": "Am1NHiy6xeMp"
      },
      "source": [
        "#  La leyenda de Filius Bonacci: Solución propuesta 1\n",
        "\n",
        "a0 = 0\n",
        "a1 = 1\n",
        "n = 10\n",
        "for i in range(n):\n",
        "    if i%2==0:\n",
        "        print(a0)\n",
        "        a0+=a1\n",
        "    else:\n",
        "        print(a1)\n",
        "        a1+=a0"
      ],
      "execution_count": null,
      "outputs": []
    },
    {
      "cell_type": "markdown",
      "metadata": {
        "id": "6IVUuhXK7tgW"
      },
      "source": [
        "#### Solución 2"
      ]
    },
    {
      "cell_type": "code",
      "metadata": {
        "id": "I_SMzAn676j4"
      },
      "source": [
        "#  La leyenda de Filius Bonacci: Solución propuesta 2\n",
        "\n",
        "# les damos cualquier valor inicial a las variables que almacenan los valores anteriores\n",
        "ante_ultimo = 0\n",
        "ultimo = 0\n",
        "\n",
        "n = 11\n",
        "for i in range(1, n):\n",
        "    if i == 1:\n",
        "        actual = 0 # primer termino de fibonacci vale 0\n",
        "    elif i == 2:\n",
        "        actual = 1 # segundo termino de fibonacci vale 1\n",
        "    else:\n",
        "        # el resto de los terminos es la suma de los dos anteriores\n",
        "        actual = ante_ultimo + ultimo \n",
        "    \n",
        "    print(actual)\n",
        "    \n",
        "    ante_ultimo = ultimo\n",
        "    ultimo = actual\n",
        "  "
      ],
      "execution_count": null,
      "outputs": []
    },
    {
      "cell_type": "markdown",
      "metadata": {
        "id": "LLwil3m73D7h"
      },
      "source": [
        "#### Solución 3"
      ]
    },
    {
      "cell_type": "code",
      "metadata": {
        "id": "4V4OvWV-1NPt"
      },
      "source": [
        "ault = 0 # anteultimo\n",
        "ult = 1 # ultimo\n",
        "n = 10\n",
        "print(ault)\n",
        "for i in range(n-1):\n",
        "  print(ult)\n",
        "  ult, ault = ault + ult, ult"
      ],
      "execution_count": null,
      "outputs": []
    },
    {
      "cell_type": "markdown",
      "metadata": {
        "id": "_QLEV2dP64fo"
      },
      "source": [
        "###$\\medio$  Dominó  \n",
        "\n",
        "El [Dominó](https://es.wikipedia.org/wiki/Domin%C3%B3) es un juego de mesa muy popular. \n",
        "En este ejercicio no vamos a programar un juego de Domino, pero sí contar sus fichas.\n",
        "\n",
        "<img src=\"https://es.calcuworld.com/wp-content/uploads/sites/2/2018/04/cantidad-de-fichas-domino.jpg\" height=\"200\" alt = \"Fichas domino desparramadas sobre una mesa\">\n",
        "\n",
        "A pesar de que el domino tradicional se juega con fichas hasta el número 6, vamos a considerar un juego de fichas de valor máximo $n$.\n",
        "\n",
        "- Escribir una función que calcule la cantidad de fichas para un juego de dominó completo con fichas que contienen hasta el número $n$.\n",
        "Nota: ¡No hay fichas repetidas! 2-4 es la misma ficha que 4-2. ¡Observar que en el dominó hay fichas con valor 0!\n",
        "\n",
        "```\n",
        "   cantidadFichas(3)\n",
        "   >>> 10\n",
        "   cantidadFichas(4)\n",
        "   >>> 15\n",
        "```\n",
        "\n",
        "- Escribir una función que muestre todas las fichas para un juego de dominó como el anterior, en cualquier orden.\n",
        "\n",
        "```\n",
        "   mostrarFichas(3)\n",
        "   >>> 0-0\n",
        "   >>> 0-1\n",
        "   >>> 0-2\n",
        "   >>> 0-3\n",
        "   >>> 1-1\n",
        "   >>> 1-2\n",
        "   >>> 1-3\n",
        "   >>> 2-2\n",
        "   >>> 2-3\n",
        "   >>> 3-3\n",
        "```\n",
        "\n",
        "- Llamar a las funciones anteriores con distintos valores para corroborar su funcionamiento\n",
        "\n",
        "- $\\dificil$ *Challenge*: Escribir una función que, dada una cantidad de fichas, calcule cuál es el $n$ (valor máximo) de las fichas. Si el número de fichas no corresponde a la cantidad de fichas de ningún juego de dominó completo retornar -1.\n",
        "\n",
        "```\n",
        "   valorMaximo(10)\n",
        "   >>> 3\n",
        "   valorMaximo(11)\n",
        "   >>> -1\n",
        "   valorMaximo(15)\n",
        "   >>> 4\n",
        "```\n"
      ]
    },
    {
      "cell_type": "markdown",
      "metadata": {
        "id": "wqn7ONpV6gn3"
      },
      "source": [
        "#### Solución"
      ]
    },
    {
      "cell_type": "code",
      "metadata": {
        "id": "Q5MAhD1Jb1rN"
      },
      "source": [
        "# Dominó: Solución propuesta\n",
        "\n",
        "def cantidadFichas(n):\n",
        "    print((n+1)*(n+2)//2)\n",
        "    \n",
        "def mostrarFichas(n):\n",
        "    for i in range(0,n+1):\n",
        "        for j in range(i,n+1):\n",
        "            print(str(i)+'-'+str(j))\n",
        "            \n",
        "def valorMaximo(num):\n",
        "    n = 1\n",
        "    while (n+1)*(n+2)/2 < num:\n",
        "        n+=1\n",
        "    if (n+1)*(n+2)/2 == num:\n",
        "        print(n)\n",
        "    else:\n",
        "        print(-1)\n",
        "\n",
        "# Probamos con distintos casos las tres funciones\n",
        "\n",
        "print(\"CantidadFichas(3)\")\n",
        "cantidadFichas(3)\n",
        "\n",
        "print(\"CantidadFichas(4)\")\n",
        "cantidadFichas(4)\n",
        "\n",
        "print(\"mostrarFichas(3)\")\n",
        "mostrarFichas(3)\n",
        "\n",
        "print(\"ValorMaximo(10)\")\n",
        "valorMaximo(10)\n",
        "\n",
        "print(\"ValorMaximo(11)\")\n",
        "valorMaximo(11)\n",
        "\n",
        "print(\"ValorMaximo(15)\")\n",
        "valorMaximo(15)"
      ],
      "execution_count": null,
      "outputs": []
    },
    {
      "cell_type": "markdown",
      "metadata": {
        "id": "kp4VOBzNMbPa"
      },
      "source": [
        "###$\\dificil$ El ejercicio más integrador\n",
        "\n",
        "Se pide calcular una integral definida en un intervalo de una función genérica.\n",
        "\n",
        "En lugar de obtener un resultado exacto, realizaremos una aproximación del resultado aplicando la integral de Riemann. Para lograr esto vamos a aproximar una función mediante muchos rectángulos muy angostos. Para obtener el resultado de la integral vamos a sumar el área de todos estos rectángulos entre cierto intervalo $[a, b]$:\n",
        "\n",
        "![Riemann1](https://upload.wikimedia.org/wikipedia/commons/a/af/Riemann_Integration_4.png)\n",
        "\n",
        "Primero debemos elegir un número $\\Delta x$ cuyo valor sea muy pequeño, y que determina el ancho de los rectángulos. Comenzando del límite de integración inferior $a$ obtendremos el primer área como $f(a)\\cdot \\Delta x$, luego el siguiente área será $f(a+\\Delta x)\\cdot \\Delta x$ , el tercer área es $f(a+2\\cdot\\Delta x)\\cdot \\Delta x$ , y así se sigue mientras no se supere $b$.\n",
        "\n",
        "Al elegir un valor más chico de $\\Delta x$ se obtiene una mejor aproximación:\n",
        "\n",
        "![Riemann2](https://upload.wikimedia.org/wikipedia/commons/3/34/Riemann_Integration_5.png)\n",
        "\n",
        "Se debe programar la función *integral(f, a, b, dx)* en la cual *f* sea la función a integrar (debe recibir como parámetro un número *x*, debe entregar el resultado usando *return*), *a* y *b* sean los límites de integración, y *dx* sea el ancho de los rectángulos.\n"
      ]
    },
    {
      "cell_type": "code",
      "metadata": {
        "id": "wK-qGV5dVaBI"
      },
      "source": [
        "def f1(x):\n",
        "  return 1\n",
        "\n",
        "def f2(x):\n",
        "  return x\n",
        "\n",
        "def f3(x):\n",
        "  return x**2 - 3*x\n",
        "\n",
        "def integral(f, a, b, dx):\n",
        "  resultado = 0\n",
        "  x = a\n",
        "  while (x + dx) <= b:\n",
        "    resultado += f(x) * dx\n",
        "    x += dx\n",
        "  return resultado\n",
        "\n",
        "print( integral(f1, 10, 15, 0.0001) )\n",
        "print( integral(f2, 1, 2, 0.0001) )\n",
        "print( integral(f3, 0, 3, 0.0001) )\n"
      ],
      "execution_count": null,
      "outputs": []
    },
    {
      "cell_type": "markdown",
      "metadata": {
        "id": "QkV_WCR4HUA5"
      },
      "source": [
        "###$\\dificil$ Locos por las matemáticas \n",
        "En marzo 2019, Emma Haruka Iwao, una empleada de Google, logró calcular 31,4 trillones de dígitos del famoso número pi en 121 dias usando el poder de la nube de Google. ¡Hoy ustedes pueden hacer lo mismo con la ayuda de Python!\n",
        "\n",
        "Aprovechando el descubrimiento del matemático indio Sriniviasa Ramanujan (1910) podemos emplear nuestro propio aproximador de pi.\n",
        "$$ \\frac{1}{\\pi}= \\frac{2\\sqrt{2}}{9801}\\sum_{k=0}^{\\infty} \\frac{(4k)! \\cdot (1103+26390k)}{(k!)^4 396^{4k}}$$\n",
        "\n",
        "Pueden utilizar la siguiente función para calcular [factoriales](https://es.wikipedia.org/wiki/Factorial):\n",
        "\n",
        "```\n",
        "def factorial(n):\n",
        "  if n<=1:\n",
        "    return 1\n",
        "  else:\n",
        "    return n*factorial(n-1)\n",
        "```\n",
        "$$\\textrm{factorial(4)}=4!=24 $$\n",
        "\n",
        "Si no estamos tan locos por la matemáticas podemos usar otras aproximaciones más simples como\n",
        "\n",
        "$$\\pi \\approx \\frac{22}{7} \\approx \\frac{355}{113} $$\n",
        "\n",
        "Otros números famosos:\n",
        "$$e = \\sum_{k=0}^\\infty \\frac{1}{k!} \\qquad e=\\lim_{x\\rightarrow\\infty} \\left( 1+\\frac{1}{x} \\right)^x \\qquad \\varphi = \\frac{1+\\sqrt{5}}{2} $$"
      ]
    },
    {
      "cell_type": "markdown",
      "metadata": {
        "id": "C2wS6DuzJc7S"
      },
      "source": [
        "#### Solución 1\n",
        "\n",
        "Atención: Utiliza [recursión](https://es.wikipedia.org/wiki/Recursi%C3%B3n) para calcular el factorial"
      ]
    },
    {
      "cell_type": "code",
      "metadata": {
        "id": "Mu1GbWGC-IW9"
      },
      "source": [
        "# Locos por las matemáticas: Solución propuesta 1\n",
        "\n",
        "def factorial(n): # esto es una función recursiva\n",
        "    if n<=1:\n",
        "        return 1\n",
        "    else:\n",
        "        return n*factorial(n-1)\n",
        "    \n",
        "def piApprox(num): \n",
        "    mul = 2**(3/2)/9801\n",
        "    suma = 0\n",
        "    for k in range(num):\n",
        "        suma += factorial(4*k) /factorial(k)**4 *(1103+26390*k)/396**(4*k)\n",
        "    return 1/(mul*suma)\n",
        "\n",
        "print(piApprox(10))"
      ],
      "execution_count": null,
      "outputs": []
    },
    {
      "cell_type": "markdown",
      "metadata": {
        "id": "hy28Y8-GJygs"
      },
      "source": [
        "#### Solución 2\n",
        "\n",
        "En esta solución el [factorial](https://es.wikipedia.org/wiki/Factorial) se cálcula de manera iterativa\n",
        "\n"
      ]
    },
    {
      "cell_type": "code",
      "metadata": {
        "id": "DTxNr43lJzpN"
      },
      "source": [
        "# Locos por las matemáticas: Solución propuesta 2\n",
        "\n",
        "def factorial(n): # esto es una función iterativa\n",
        "    rta = 1 # variable donde almacenaremos la respuesta\n",
        "    for i in range(1, n+1):\n",
        "        rta *= i\n",
        "    return rta\n",
        "    \n",
        "def piApprox(num): \n",
        "    mul = 2**(3/2)/9801\n",
        "    suma = 0\n",
        "    for k in range(num):\n",
        "        suma += factorial(4*k) /factorial(k)**4 *(1103+26390*k)/396**(4*k)\n",
        "    return 1/(mul*suma)\n",
        "\n",
        "print(piApprox(10))"
      ],
      "execution_count": null,
      "outputs": []
    }
  ]
}