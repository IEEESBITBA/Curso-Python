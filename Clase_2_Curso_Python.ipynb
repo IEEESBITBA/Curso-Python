{
  "nbformat": 4,
  "nbformat_minor": 0,
  "metadata": {
    "colab": {
      "name": "Clase 2 - Curso Python.ipynb",
      "provenance": [],
      "collapsed_sections": [],
      "toc_visible": true
    },
    "kernelspec": {
      "name": "python3",
      "display_name": "Python 3"
    }
  },
  "cells": [
    {
      "cell_type": "markdown",
      "metadata": {
        "id": "ghBKrYxhuQTB"
      },
      "source": [
        "#Clase 2: Tipos de datos\n",
        "Antes de poder empezar a crear aplicaciones más prácticas con nuestro código, debemos primero aprender algunas cosas más acerca del funcionamiento de Python en lo que refiere a tipos y estructuras de datos. Este conocimiento será esencial para poder crear aplicaciones de cierta complejidad.\n",
        "\n",
        "Cuando se desarrolla un programa es usual la necesidad de trabajar con información, como fue visto en la clase anterior.\n",
        "Es natural pensar que una computadora debe saber cómo es la información que tiene almacenada. *¿Es un número? ¿Es una letra? ¿Es una palabra? ¿Es una lista de cosas?*\n",
        "\n",
        "<img src=\"http://tensor-programming.com/wp-content/uploads/2016/09/variables-788x469.jpg\" alt = \"Wordcloud con tipos de datos comunes\" height = 400 title=\"Objects y structures son un conjunto de subtipos\">\n",
        "\n",
        "\n",
        "En esta ocasión vamos a profundizar sobre un aspecto en particular de dicha información el cual es llamado su \"tipo\". \n",
        "Mencionamos anteriormente que las variables son una forma de asignarle un nombre a un porción de la memoria de la computadora que se utiliza para guardar algún dato.\n",
        "\n",
        "*¿Cómo es que algunas variables representan números y otras texto? ¿Cualquier porción de la memoria sirve para guardar texto o números? ¿Otro tipo de información como imágenes y música se guardan en distintos lugares de la memoria?*\n",
        "\n",
        "La memoria en una computadora en realidad funciona toda de la misma manera. De una forma muy resumida, se puede pensar a la memoria de una computadora como una larga lista de casilleros que pueden guardar números:\n",
        "\n",
        "<br />\n",
        "\n",
        "![Memoria diagrama 1](https://raw.githubusercontent.com/IEEESBITBA/Curso-Python/master/_assets/memoria_diagrama0.png)\n",
        "\n",
        "<br />\n",
        "\n",
        "Cada vez que se crea una variable, el sistema reserva algunos casilleros para guardar su información, y cada vez que se modifique el valor de la variable lo que va a suceder es que los números guardados en esos casilleros van a cambiar acordemente:\n",
        "\n",
        "<br />\n",
        "\n",
        "![Memoria diagrama 2](https://raw.githubusercontent.com/IEEESBITBA/Curso-Python/master/_assets/memoria_diagrama1.png)\n",
        "\n",
        "<br />\n",
        "\n",
        "*¿Pero cómo podemos guardar datos que no son números?*\n",
        "\n",
        "Ya que todas las porciones de la memoria funcionan de la misma manera, entonces debemos ser nosotros los que le den un significado distinto a los diferentes tipos de información que deseo guardar. Para guardar texto se puede asociar cada letra y símbolo a un número distinto, de esta forma uso un \"casillero de memoria\" para cada letra y guardo allí el número correspondiente a la letra deseada. Para guardar colores lo más usual es representarlo mediante la mezcla de los [colores primarios de la luz](https://es.wikipedia.org/wiki/Color_primario#Colores_primarios_en_la_luz_(RGB)), de forma que uso 3 números para indicar cuánto \"mezclar\" de cada color. De esta manera, cada tipo de información se almacena en la memoria usando una representación numérica, la cuál será distinta en cada caso:\n",
        "\n",
        "<br />\n",
        "\n",
        "![Memoria diagrama 3](https://raw.githubusercontent.com/IEEESBITBA/Curso-Python/master/_assets/memoria_diagrama2.png)\n",
        "\n",
        "<br />\n",
        "\n",
        "*¿Cómo puedo saber si un \"casillero\" almacena un número, una letra, u otro tipo de información?*\n",
        "\n",
        "Acá es donde entran en juego los \"tipos\" de variable. Cada variable tiene asociado un \"tipo\", que indica qué significan los números almacenados en la memoria bajo ese nombre, y cómo interpretarlos. De esta forma se pueden tener variables de tipo numérico, de tipo string (texto) y de muchos más que veremos más adelante. Gracias a los tipos es que puedo usar la instrucción **print()** con una variable de tipo string y la interpreta correctamente como texto, en lugar de mostrar los números que se encuentran almacenados en la memoria.\n",
        "\n",
        "Distintos lenguajes de programación trabajan de diversas formas este aspecto de la información. En Python en particular, no se debe aclarar explicitamente cuál es el tipo de dato de una variable: el lenguaje de programación nos entiende y asume cuál debe ser dicho tipo. Por ejemplo, si creo la variable `x = 5`, no hace falta aclarar que `x` es de tipo numérico, se entiende implícitamente. Tambien a diferencia de muchos lenguajes en Python las variables no tienen un único tipo y pueden ir cambiando a lo largo de la ejecucion del programa, por esta razón se suele decir que Python es un lenguaje de tipado dinámico.\n",
        "\n",
        "Incluímos un anexo al final de esta clase con algunos detalles más técnicos y sutilezas acerca de este tema. No es necesario leerlo, es sólo para aquel que quiera conocer más acerca del funcionamiento de la memoria.\n",
        "\n",
        "A continuación mostraremos ejemplos con el uso de distintos tipos de dato en Python\n",
        "\n",
        "\n"
      ]
    },
    {
      "cell_type": "code",
      "metadata": {
        "id": "rt5lyfdg7VxI",
        "outputId": "c4c7299c-c3c6-4d95-d6a4-77dacf8df669",
        "colab": {
          "base_uri": "https://localhost:8080/",
          "height": 471
        }
      },
      "source": [
        "# Link a Youtube: \n",
        "# Tema: Tipos de datos.\n",
        "\n",
        "from IPython.display import YouTubeVideo\n",
        "YouTubeVideo('387LGCu0ExA', width=800, height=450)       #Video Clase 1.0"
      ],
      "execution_count": null,
      "outputs": [
        {
          "output_type": "execute_result",
          "data": {
            "text/html": [
              "\n",
              "        <iframe\n",
              "            width=\"800\"\n",
              "            height=\"450\"\n",
              "            src=\"https://www.youtube.com/embed/387LGCu0ExA\"\n",
              "            frameborder=\"0\"\n",
              "            allowfullscreen\n",
              "        ></iframe>\n",
              "        "
            ],
            "text/plain": [
              "<IPython.lib.display.YouTubeVideo at 0x7f9691d2c518>"
            ]
          },
          "metadata": {
            "tags": []
          },
          "execution_count": 2
        }
      ]
    },
    {
      "cell_type": "markdown",
      "metadata": {
        "id": "D0mAa2X5gple"
      },
      "source": [
        "## Tipos numericos"
      ]
    },
    {
      "cell_type": "code",
      "metadata": {
        "id": "6_G29O6x7cqy",
        "outputId": "abf9204b-53c3-436b-fb7b-3d986abeab59",
        "colab": {
          "base_uri": "https://localhost:8080/",
          "height": 471
        }
      },
      "source": [
        "# Link a Youtube: \n",
        "# Tema: Tipos de datos numericos, int, float y bool.\n",
        "\n",
        "from IPython.display import YouTubeVideo\n",
        "YouTubeVideo('JHryjYQncMY', width=800, height=450)       #Video Clase 1.1"
      ],
      "execution_count": null,
      "outputs": [
        {
          "output_type": "execute_result",
          "data": {
            "text/html": [
              "\n",
              "        <iframe\n",
              "            width=\"800\"\n",
              "            height=\"450\"\n",
              "            src=\"https://www.youtube.com/embed/JHryjYQncMY\"\n",
              "            frameborder=\"0\"\n",
              "            allowfullscreen\n",
              "        ></iframe>\n",
              "        "
            ],
            "text/plain": [
              "<IPython.lib.display.YouTubeVideo at 0x7f9691d2c470>"
            ]
          },
          "metadata": {
            "tags": []
          },
          "execution_count": 1
        }
      ]
    },
    {
      "cell_type": "markdown",
      "metadata": {
        "id": "aWRzjdqUyy26"
      },
      "source": [
        "### int\n",
        "Es el tipo de dato más básico, en donde pueden almacenarse numeros enteros:\n"
      ]
    },
    {
      "cell_type": "code",
      "metadata": {
        "id": "8d5ZJsBTxIYm"
      },
      "source": [
        "dias = 5\n",
        "print(dias)"
      ],
      "execution_count": null,
      "outputs": []
    },
    {
      "cell_type": "markdown",
      "metadata": {
        "id": "Y-OIPTPOvaqg"
      },
      "source": [
        "A veces operando con datos enteros podemos obtener números racionales, por ejemplo:"
      ]
    },
    {
      "cell_type": "code",
      "metadata": {
        "id": "c_WwVyZYvn7x"
      },
      "source": [
        "x = 5\n",
        "y = 2\n",
        "print(x/y) "
      ],
      "execution_count": null,
      "outputs": []
    },
    {
      "cell_type": "markdown",
      "metadata": {
        "id": "wl9jL2a7vng2"
      },
      "source": [
        "Para evitar esto podemos usar el operador **división entera: //** para obtener la parte entera del resultado de la división:\n"
      ]
    },
    {
      "cell_type": "code",
      "metadata": {
        "id": "q8LCevAueZvH"
      },
      "source": [
        "x = 5\n",
        "y = 3\n",
        "z = x//2\n",
        "print(z)"
      ],
      "execution_count": null,
      "outputs": []
    },
    {
      "cell_type": "markdown",
      "metadata": {
        "id": "Xyy2vaK0ecR2"
      },
      "source": [
        "\n",
        "Si queremos saber el resto de la división entera, usamos el operador **módulo %** que fue explicado previamente:"
      ]
    },
    {
      "cell_type": "code",
      "metadata": {
        "id": "YsRbDPj8wRZt"
      },
      "source": [
        "x = 5\n",
        "y = 2\n",
        "print(x // y) # Redondea division hacia abajo\n",
        "print(x % y)  # Operación Módulo\n",
        "\n",
        "#Se pueden mostrar varias cosas juntas si se separan con coma dentro de print()\n",
        "print(x // y, \"*\", y, \"+\", x%y,\"=\", x)"
      ],
      "execution_count": null,
      "outputs": []
    },
    {
      "cell_type": "markdown",
      "metadata": {
        "id": "tva8InGGxJas"
      },
      "source": [
        "### float\n",
        "Este tipo de dato es utilizado para almacenar números reales que pueden contener decimales.\n"
      ]
    },
    {
      "cell_type": "code",
      "metadata": {
        "id": "NsxOtoLWu0zi"
      },
      "source": [
        "pi = 3.14\n",
        "x = 3.    # Se indica que es un numero real con el . \n",
        "z = 3     # Este será un número entero\n",
        "print(x)\n",
        "print(z)"
      ],
      "execution_count": null,
      "outputs": []
    },
    {
      "cell_type": "markdown",
      "metadata": {
        "id": "LjAnxLyjyfLA"
      },
      "source": [
        "Si queremos saber la parte entera de un float, podemos simplemente convertirlo a int.\n",
        "A la acción de convertir una variable de un tipo a otro diferente se la conoce como **cast**. Esto hará la siguiente operacion:\n",
        "\n",
        "$$x \\leftarrow \\lfloor y \\rfloor $$"
      ]
    },
    {
      "cell_type": "code",
      "metadata": {
        "id": "xY1euahoyevG"
      },
      "source": [
        "y = 3.14\n",
        "x = int(y)\n",
        "print(x)"
      ],
      "execution_count": null,
      "outputs": []
    },
    {
      "cell_type": "markdown",
      "metadata": {
        "id": "pUO_oGHeLxAO"
      },
      "source": [
        "Para que el usuario ingrese un número real (de tipo float) usando *input()* debemos realizar un **cast** con la instrucción **float()**"
      ]
    },
    {
      "cell_type": "code",
      "metadata": {
        "id": "A0EyM7V4MFA1"
      },
      "source": [
        "real = float( input() )\n",
        "print(real*2)"
      ],
      "execution_count": null,
      "outputs": []
    },
    {
      "cell_type": "markdown",
      "metadata": {
        "id": "4sR5HbHxzMRW"
      },
      "source": [
        "Es importante tener en cuenta que los *float* no pueden ser infinitamente precisos. Cada variable que usamos se guarda en memoria, pero... *¡Para infinita precisión necesitaríamos infinita memoria!* Es entonces que los números con decimales suelen tener una diferencia muy pequeña con el valor que realmente deseamos.\n",
        "\n",
        "Por esto suele ser preferible cuando trabajamos con *floats*, realizar comparaciones del tipo **>** ó **<**, en lugar de **==** o **!=** porque pueden surgir problemas.\n",
        "\n",
        "¿Cuál es el problema de estos programas?"
      ]
    },
    {
      "cell_type": "code",
      "metadata": {
        "id": "MlR-LD7NzKys"
      },
      "source": [
        "# Nunca va a terminar. Usar con cuidado!\n",
        "\n",
        "var = 0.11\n",
        "while var is not 0:\n",
        "    print(var)\n",
        "    var -= 0.01\n",
        "    "
      ],
      "execution_count": null,
      "outputs": []
    },
    {
      "cell_type": "code",
      "metadata": {
        "id": "TDRC5TGT6Pqf"
      },
      "source": [
        "a = 1/3\n",
        "b = 2/3\n",
        "c = a + b\n",
        "\n",
        "print(c-b == a)"
      ],
      "execution_count": null,
      "outputs": []
    },
    {
      "cell_type": "markdown",
      "metadata": {
        "id": "qdIDmdiBxlw3"
      },
      "source": [
        "Muchas veces es necesario redondear un número decimal, ya sea para obtener un número entero o un número con menor cantidad de decimales. Esto se puede lograr con el comando **round()**, el cual permite indicar la cantidad de decimales a redondear. Si no se indica la cantidad de decimales asume por defecto que el resultado será un número entero."
      ]
    },
    {
      "cell_type": "code",
      "metadata": {
        "id": "ZUz8rLsFxy29"
      },
      "source": [
        "x = round(1234.56)\n",
        "y = round(123.456789, 2)\n",
        "z = int(8.9)\n",
        "\n",
        "print(x, y, z)"
      ],
      "execution_count": null,
      "outputs": []
    },
    {
      "cell_type": "markdown",
      "metadata": {
        "id": "zKSV7bfyLWNv"
      },
      "source": [
        "#### Mini-desafío: floats\n",
        "Crear: \n",
        "*   Una función que convierta grados **Celsius** a grados **Farenheit** (https://es.wikipedia.org/wiki/Grado_Fahrenheit)\n",
        "*   Una función que convierta grados **Celsius** a grados **Kelvin** (https://es.wikipedia.org/wiki/Kelvin)\n",
        "\n",
        "El usuario debe ingresar una temperatura en grados Celsius y el programa debe mostrar las conversiones a Farenheit y Kelvin utilizando las funciones. Si la temperatura ingresada es inferior al [cero absoluto](https://es.wikipedia.org/wiki/Cero_absoluto), el programa debe mostrar un mensaje de advertencia.\n",
        "\n",
        "Pueden leer [aqui](https://en.wikipedia.org/wiki/Conversion_of_units_of_temperature) sobre como hacer las conversiones."
      ]
    },
    {
      "cell_type": "code",
      "metadata": {
        "id": "wzwbgaKyLi1w"
      },
      "source": [
        ""
      ],
      "execution_count": null,
      "outputs": []
    },
    {
      "cell_type": "markdown",
      "metadata": {
        "id": "wejH0B1Zy8LG"
      },
      "source": [
        "### boolean\n",
        "Es un tipo de dato que puede tomar dos valores distintos, True (Verdadero) o False (Falso)"
      ]
    },
    {
      "cell_type": "code",
      "metadata": {
        "id": "6zF4f_S0zfel"
      },
      "source": [
        "llueve = False\n",
        "soleado = True\n",
        "print(not llueve == soleado)"
      ],
      "execution_count": null,
      "outputs": []
    },
    {
      "cell_type": "markdown",
      "metadata": {
        "id": "6Ej-A76P76FX"
      },
      "source": [
        "Ya veníamos usando este tipo de datos implícitamente: las comparaciones devuelven booleanos.\n",
        "\n",
        "Prácticamente cualquier dato puede *cast-earse* (convertirse) a boolean. Para los números, 0 es False y cualquier otro es True. Para otros datos, en general son False si están \"vacíos\" y True en los demás casos."
      ]
    },
    {
      "cell_type": "code",
      "metadata": {
        "id": "RTFoI7Cr88g2"
      },
      "source": [
        "print(bool(4))\n",
        "print(bool(6435645))\n",
        "\n",
        "print(bool(\"hola\"))\n",
        "print(bool(\"\"))\n",
        "\n",
        "print(int(True))\n",
        "print(int(False))\n",
        "\n",
        "\n",
        "palabraTrue = str(True)\n",
        "palabraFalse = str(False)\n",
        "print(palabraTrue)\n",
        "print(palabraFalse)"
      ],
      "execution_count": null,
      "outputs": []
    },
    {
      "cell_type": "markdown",
      "metadata": {
        "id": "TdpOoGXVx0Cy"
      },
      "source": [
        "##string\n",
        "Tipo de dato utilizado para guardar letras, palabras, oraciones, texto, etc.\n"
      ]
    },
    {
      "cell_type": "code",
      "metadata": {
        "id": "tlhEoTyRyeR9"
      },
      "source": [
        "nombre = \"Juan\"\n",
        "apellido = 'Lopez'"
      ],
      "execution_count": null,
      "outputs": []
    },
    {
      "cell_type": "markdown",
      "metadata": {
        "id": "rtkix74k1QEM"
      },
      "source": [
        "¡También podemos convertir strings a números y viceversa! Así podemos operar con ellos."
      ]
    },
    {
      "cell_type": "code",
      "metadata": {
        "id": "BZsXI7P610CL"
      },
      "source": [
        "nombre = \"3\"\n",
        "numero = 3\n",
        "\n",
        "print(nombre == numero)\n",
        "print(nombre == str(numero))\n",
        "print(nombre * 4)\n",
        "print(numero * 4)"
      ],
      "execution_count": null,
      "outputs": []
    },
    {
      "cell_type": "markdown",
      "metadata": {
        "id": "D9ohvNTqhmoD"
      },
      "source": [
        "### Operaciones con strings\n",
        "\n",
        "Con los strings podemos realizar muchas operaciones, por ejemplo:\n",
        "\n",
        "- **x+y**: En esta operacion se agrega al final de la string x el contenido de y. Ejemplo:\n"
      ]
    },
    {
      "cell_type": "code",
      "metadata": {
        "id": "mwYffWASkWAt"
      },
      "source": [
        "x= 'ho'\n",
        "y= 'la'\n",
        "print(x + y)\n",
        "print(y + x)"
      ],
      "execution_count": null,
      "outputs": []
    },
    {
      "cell_type": "markdown",
      "metadata": {
        "id": "aCoKs_fcHWzv"
      },
      "source": [
        " - **len**( $string$ ): Obtiene el tamaño de un string. Ejemplo:\n"
      ]
    },
    {
      "cell_type": "code",
      "metadata": {
        "id": "FBkJn86dHeDl"
      },
      "source": [
        "x = \"Hola\"\n",
        "y = 'Adios'\n",
        "\n",
        "print( len(x) )\n",
        "print( len(y) )"
      ],
      "execution_count": null,
      "outputs": []
    },
    {
      "cell_type": "markdown",
      "metadata": {
        "id": "5ytFOjAhkWYR"
      },
      "source": [
        " - **.startswith**( $algo$ ): Le preguntamos a la string si empieza con cierto texto. Ejemplo:\n"
      ]
    },
    {
      "cell_type": "code",
      "metadata": {
        "id": "b-yjwlABkc22"
      },
      "source": [
        "x= 'hola'\n",
        "print(x.startswith('h'))\n",
        "print(x.startswith('x'))"
      ],
      "execution_count": null,
      "outputs": []
    },
    {
      "cell_type": "markdown",
      "metadata": {
        "id": "neyr-9WckncT"
      },
      "source": [
        " - **.endswith**( $algo$ ): Le preguntamos a la string si termina con cierto texto. Ejemplo:"
      ]
    },
    {
      "cell_type": "code",
      "metadata": {
        "id": "eOpZjrHlkvg6"
      },
      "source": [
        "x= 'hola'\n",
        "print(x.endswith('o'))\n",
        "print(x.endswith('ola'))\n",
        "print(x.endswith('z'))"
      ],
      "execution_count": null,
      "outputs": []
    },
    {
      "cell_type": "markdown",
      "metadata": {
        "id": "uFlMcXbHCqGL"
      },
      "source": [
        " - **[ *índice* ]**: Se pueden obtener letras de un string. Entre corchetes se indica el *índice* de la letra deseada, empezando a contar desde cero. Ejemplo:"
      ]
    },
    {
      "cell_type": "code",
      "metadata": {
        "id": "ccAWKaqrFySn"
      },
      "source": [
        "x= 'hola'\n",
        "\n",
        "print(x[0])\n",
        "print(x[1])\n",
        "print(x[2])\n",
        "print(x[3])\n",
        "\n",
        "print(x[3]+x[2]+x[1]+x[0]+x[3])"
      ],
      "execution_count": null,
      "outputs": []
    },
    {
      "cell_type": "markdown",
      "metadata": {
        "id": "W7UlG1m2Dpxj"
      },
      "source": [
        " - **[ *comienzo* : *fin* ]**: Se puede obtener una secuencia consecutiva de letras de un string. Entre corchetes se indica el índice de la primer letra deseada, luego dos puntos, luego el índice de la última letra (la última letra no será incluída). Ejemplo:"
      ]
    },
    {
      "cell_type": "code",
      "metadata": {
        "id": "QM25tyZqEEBX"
      },
      "source": [
        "x = 'programacion'\n",
        "\n",
        "print( x[0:8] )\n",
        "print( x[4:8] )\n",
        "\n",
        "# Se pueden usar signos negativos para referir los índices desde el final para atras\n",
        "print( x[-7:-4] )\n",
        "\n",
        "# Se puede omitir el parametro de fin para seguir hasta el final\n",
        "print( x[8: ])\n",
        "\n",
        "# Se puede omitir el parametro de inicio para comenzar desde el principio\n",
        "print( x[ :8])"
      ],
      "execution_count": null,
      "outputs": []
    },
    {
      "cell_type": "markdown",
      "metadata": {
        "id": "4fDilixlFOv5"
      },
      "source": [
        " - **[ *comienzo* : *fin* : *salto* ]**: Se puede obtener una secuencia de letras a una separación regular de un string. Entre corchetes se indica el índice de la primer letra deseada, luego dos puntos, luego el índice de la última letra, luego 2 puntos, luego el salto entre letra y letra (la última letra no será incluída). Ejemplo:"
      ]
    },
    {
      "cell_type": "code",
      "metadata": {
        "id": "hy_CaSgxFfge"
      },
      "source": [
        "x = 'Curso de Python'\n",
        "\n",
        "print( x[0:5:2] )\n",
        "\n",
        "# Se pueden usar signos negativos para referir los índices desde el final para atras\n",
        "# Se puede omitir el parametro de inicio para comenzar desde el principio\n",
        "# Se puede omitir el parametro de fin para seguir hasta el final\n",
        "print( x[0: :3] )\n",
        "\n",
        "# Se puede usar un salto negativo para recorrer el string en sentido inverso\n",
        "print( x[11:1:-2] )\n",
        "# Se puede invertir un string de la siguiente forma\n",
        "print( x[ : :-1] )"
      ],
      "execution_count": null,
      "outputs": []
    },
    {
      "cell_type": "markdown",
      "metadata": {
        "id": "mdVTVfnAWc7P"
      },
      "source": [
        "### for sobre un string\n",
        "La estructura *for* que vimos la clase pasada tiene una gran versatilidad ya que como veremos, no está limitada a recorrer los valores generados por *range*. También es posible recorrer los caracteres de un string usando *for* como se muestra a continuación:"
      ]
    },
    {
      "cell_type": "code",
      "metadata": {
        "id": "QFXT0SfAWzs-"
      },
      "source": [
        "texto = \"Curso de Python\"\n",
        "vocales = 0\n",
        "for c in texto:\n",
        "  if c == 'a' or c == 'e' or c == 'i' or c == 'o' or c == 'u':\n",
        "    vocales += 1\n",
        "\n",
        "print(\"Vocales: \", vocales)"
      ],
      "execution_count": null,
      "outputs": []
    },
    {
      "cell_type": "code",
      "metadata": {
        "id": "M-Yrjgzl7rdB",
        "outputId": "37db0216-b64c-4f1f-8e78-2c4c9150e8c2",
        "colab": {
          "base_uri": "https://localhost:8080/",
          "height": 471
        }
      },
      "source": [
        "# Link a Youtube: \n",
        "# Tema: Strings, qué son, operaciones y sus métodos.\n",
        "\n",
        "from IPython.display import YouTubeVideo\n",
        "YouTubeVideo('PthbaJSEk4c', width=800, height=450)       #Video Clase 1.2"
      ],
      "execution_count": null,
      "outputs": [
        {
          "output_type": "execute_result",
          "data": {
            "text/html": [
              "\n",
              "        <iframe\n",
              "            width=\"800\"\n",
              "            height=\"450\"\n",
              "            src=\"https://www.youtube.com/embed/PthbaJSEk4c\"\n",
              "            frameborder=\"0\"\n",
              "            allowfullscreen\n",
              "        ></iframe>\n",
              "        "
            ],
            "text/plain": [
              "<IPython.lib.display.YouTubeVideo at 0x7f9691cfd860>"
            ]
          },
          "metadata": {
            "tags": []
          },
          "execution_count": 21
        }
      ]
    },
    {
      "cell_type": "markdown",
      "metadata": {
        "id": "L_4r67VRUpNC"
      },
      "source": [
        "#### Mini-desafío: Operaciones con strings\n",
        "Hacer un programa que permita ingresar un nombre y un apellido usando dos veces la función input( ). Luego debe crear la variable *nombre_y_apellido* que contenga ambos datos separados por un espacio. Un fabricante de tarjetas admite la impresión de hasta 26 caracteres para el nombre del dueño de la tarjeta, el programa debe imprimir \"Nombre admitido\" si *nombre_y_apellido* cumple con esta restricción y \"Nombre no admitido\" en caso contrario (el espacio cuenta como uno de los 26 caracteres disponibles).\n",
        "\n",
        "**Para un desafío mayor:** Si *nombre_y_apellido* cumple la restricción, mostrar el nombre y apellido. En caso contrario *nombre_y_apellido* debe valer la inicial del nombre y luego el apellido separado por un espacio. Si todavía no se cumple la restricción entonces el valor será la inicial del nombre y las primeras 24 letras del apellido. Mostrar el nombre resultante."
      ]
    },
    {
      "cell_type": "code",
      "metadata": {
        "id": "5rBruUXJUqo0"
      },
      "source": [
        ""
      ],
      "execution_count": null,
      "outputs": []
    },
    {
      "cell_type": "markdown",
      "metadata": {
        "id": "Cd8qsFnaLdHn"
      },
      "source": [
        "### Métodos\n",
        "\n",
        "Podemos observar que algunas de las operaciones con strings que vimos funcionan de una manera diferente a las que usamos hasta ahora. Por ejemplo, para usar **.startswith( )** debemos escribir la instrucción separada por un punto luego de la variable:\n",
        "\n",
        "```\n",
        "nombre = \"juan\"\n",
        "print( nombre.startswith('j') )\n",
        "```\n",
        "\n",
        "Este tipo de instrucción se la denomina un *método* (se utiliza con un punto luego de un objeto). La diferencia entre este y una función es sutil, el concepto es que un método es aplicado *sobre* un elemento. Tengo un elemento, como puede ser una variable de tipo string, y sobre ese elemento efectúo cierta acción. Los métodos pueden recibir parámetros, como es en el caso anterior la letra a evaluar.\n",
        "\n",
        "Es normal que todavía no quede clara realmente la diferencia con las funciones, pero a medida que avanza el curso se encontrarán con más métodos e irán adquiriendo este criterio de a poco.\n",
        "\n",
        "Python nos provee de muchos métodos distintos para todos los tipos de variables. Nadie conoce todos, ni siquiera los que programaron en Python toda su carrera, por lo cual nunca teman buscar qué métodos existen para ver si hay alguno que resuelva su problema.\n",
        "\n",
        "Esta es una lista de los métodos que existen para strings: https://docs.python.org/3/library/stdtypes.html#string-methods\n"
      ]
    },
    {
      "cell_type": "markdown",
      "metadata": {
        "id": "3tipHbU_OHnQ"
      },
      "source": [
        "#Estructuras de datos\n",
        "\n",
        "Utilizando variables de los distintos tipos de datos como los mostrados anteriormente se pueden armar programas con una complejidad notable. Sin embargo, hay un límite en la versatilidad de los programas si solo utilizamos los tipos de datos que vimos hasta ahora.\n",
        "\n",
        "<img src=\"https://raw.githubusercontent.com/IEEESBITBA/Curso-Python/master/_assets/data_structures.png\" alt = \"Visualización básica de una data structure\" height = 280 title=\"Las estructuras de datos son un concepto muy importante para cualquier lenguaje de programacion\">\n",
        "\n",
        "\n",
        "Se suele llamar \"estructura de datos\" a cierta clase de tipos de datos más complejos, los cuales nos permiten organizar la información de manera más efectiva. \n",
        "\n",
        "En particular, nos permiten agrupar datos (cada uno de ellos con su tipo), e interactuar con ellos de la forma más apropiada. \n",
        "\n",
        "A continuación mostraremos las estructuras de datos más sencillas (¡pero útiles!) que Python nos ofrece."
      ]
    },
    {
      "cell_type": "markdown",
      "metadata": {
        "id": "0VoVNCBaPdoF"
      },
      "source": [
        "## Listas\n"
      ]
    },
    {
      "cell_type": "code",
      "metadata": {
        "id": "Bs0j0EDo8DkI",
        "outputId": "2a52da12-9c6b-4eca-ee2b-5084bdcb7820",
        "colab": {
          "base_uri": "https://localhost:8080/",
          "height": 471
        }
      },
      "source": [
        "# Link a Youtube: \n",
        "# Tema: Listas, cómo estan construidas, operaciones y métodos.\n",
        "\n",
        "from IPython.display import YouTubeVideo\n",
        "YouTubeVideo('RjoEiJcyV_U', width=800, height=450)       #Video Clase 2.1"
      ],
      "execution_count": null,
      "outputs": [
        {
          "output_type": "execute_result",
          "data": {
            "text/html": [
              "\n",
              "        <iframe\n",
              "            width=\"800\"\n",
              "            height=\"450\"\n",
              "            src=\"https://www.youtube.com/embed/RjoEiJcyV_U\"\n",
              "            frameborder=\"0\"\n",
              "            allowfullscreen\n",
              "        ></iframe>\n",
              "        "
            ],
            "text/plain": [
              "<IPython.lib.display.YouTubeVideo at 0x7f9689b96748>"
            ],
            "image/jpeg": "[encoded data removed]"
          },
          "metadata": {
            "tags": []
          },
          "execution_count": 68
        }
      ]
    },
    {
      "cell_type": "markdown",
      "metadata": {
        "id": "MfnKbbeBPjpJ"
      },
      "source": [
        "Es una estructura de datos muy sencilla: nos permite almacenar elementos de manera secuencial, los cuales pueden ser accedidos mediante el conocimiento de su posición en la lista. Estas las creamos usando corchetes de la siguiente manera:\n",
        "\n",
        "> a = **[** $ a_{0},a_{1},a_{2},\\dots $ **]**\n",
        "\n",
        "A continuación se mostrara un ejemplo sencillo con una lista"
      ]
    },
    {
      "cell_type": "code",
      "metadata": {
        "id": "K23GjgqMQB9-"
      },
      "source": [
        "a = [ 13, 40, 10, 30, 67 ] \n",
        "print(a)"
      ],
      "execution_count": null,
      "outputs": []
    },
    {
      "cell_type": "markdown",
      "metadata": {
        "id": "UlcBp_8UvehI"
      },
      "source": [
        "Tambien podemos crear una lista del tamaño que queramos de la siguiente manera:\n",
        "\n",
        "> a = **[** x **for** x **in** **range**(N) **]**"
      ]
    },
    {
      "cell_type": "code",
      "metadata": {
        "id": "2tg0JHq_KwOM"
      },
      "source": [
        "b = [x for x in range(10)]\n",
        "print(b)"
      ],
      "execution_count": null,
      "outputs": []
    },
    {
      "cell_type": "markdown",
      "metadata": {
        "id": "3NnBGiXYKoFd"
      },
      "source": [
        "\n",
        "Podemos tambien aplicarle una operación a la variable x\n",
        "> a = **[** (operacion con x) **for** x **in** **range**(N) **]**"
      ]
    },
    {
      "cell_type": "code",
      "metadata": {
        "id": "hiu1MacNvyQd"
      },
      "source": [
        "a = [ x for x in range(0, 101)]\n",
        "print(a)\n",
        "b = [x*2 for x in range(15)]\n",
        "print(b)\n",
        "c = [3 * letra for letra in \"hola\"]\n",
        "print(c)\n",
        "d = []\n",
        "print(d)"
      ],
      "execution_count": null,
      "outputs": []
    },
    {
      "cell_type": "markdown",
      "metadata": {
        "id": "BYiMd8IzlhNO"
      },
      "source": [
        "Para acceder a un elemento de una lista se utiliza `lista[índice]` de forma similar a como funcionan los strings.\n",
        "Podemos modificar el elemento asignandole un valor.\n",
        "\n",
        "Al igual que los strings, las listas permiten hacer **slicing**. Esto significa obtener una sub-lista a partir de valores de comienzo, fin y step indicados entre corchetes y separados por dos puntos:"
      ]
    },
    {
      "cell_type": "code",
      "metadata": {
        "id": "hH1f4B8fl1vG"
      },
      "source": [
        "a = [x+2 for x in [2,3,4,5]]\n",
        "print(a)\n",
        "print(a[0]) \n",
        "print(a[2])\n",
        "\n",
        "a[2] = 0\n",
        "print(a)\n",
        "\n",
        "# Se pueden invertir dos elementos de una lista de la siguiente forma\n",
        "a[0], a[1] = a[1], a[0]\n",
        "print(a)\n",
        "\n",
        "# Se pueden usar signos negativos para referir los índices desde el final para atras\n",
        "print(a[-1]) \n",
        "\n",
        "print(a[1:3])    # Slicing\n",
        "\n",
        "# Se puede omitir el parametro de inicio para comenzar desde el principio\n",
        "# Se puede omitir el parametro de fin para seguir hasta el final\n",
        "# Se puede usar un salto negativo para recorrer la lista en sentido inverso\n",
        "# Se puede invertir una lista de la siguiente forma\n",
        "print( a[ : :-1] )"
      ],
      "execution_count": null,
      "outputs": []
    },
    {
      "cell_type": "markdown",
      "metadata": {
        "id": "njU7dNS8l9FL"
      },
      "source": [
        "Notar que, a diferencia de lo que diría el sentido común, el primer elemento de la lista se accede con el índice 0. Esto sucede en muchos lenguajes de programación hoy en día y una vez que uno se acostumbra resulta muy práctico empezar a contar desde 0 para aplicaciones de programación.\n",
        "\n",
        "Otro tema a tener en cuenta es que no es posible ponerle el nombre *list* a una lista, ya que es una palabra reservada. Esta es una función para generar una lista a partir de otro objeto, como un string. Por ejemplo:"
      ]
    },
    {
      "cell_type": "code",
      "metadata": {
        "id": "dACHK9WkQoo8"
      },
      "source": [
        "texto = \"Hola\"\n",
        "lista = list(texto)\n",
        "\n",
        "print(texto)\n",
        "print(lista)"
      ],
      "execution_count": null,
      "outputs": []
    },
    {
      "cell_type": "markdown",
      "metadata": {
        "id": "QSB8OdyDw1i7"
      },
      "source": [
        "### Operaciones sobre una lista\n",
        "Podemos realizar multiples operaciones sobre una lista:\n",
        "\n",
        "- **a+b**: Al igual que los strings se agrega el contenido de **b** al final de **a**."
      ]
    },
    {
      "cell_type": "code",
      "metadata": {
        "id": "dSYKydfFxTSr"
      },
      "source": [
        "a = [1,2]\n",
        "b = [3,4]\n",
        "z = a+b\n",
        "print(z)"
      ],
      "execution_count": null,
      "outputs": []
    },
    {
      "cell_type": "markdown",
      "metadata": {
        "id": "EomkxLecMMj3"
      },
      "source": [
        "- **len**( $lista$ ) Obtiene el largo de una lista."
      ]
    },
    {
      "cell_type": "code",
      "metadata": {
        "id": "4tCnGdcTMTvz"
      },
      "source": [
        "a = [1,2,3,4]\n",
        "print(len(a))"
      ],
      "execution_count": null,
      "outputs": []
    },
    {
      "cell_type": "markdown",
      "metadata": {
        "id": "DsZxDU1wVuuv"
      },
      "source": [
        "- **.sort**(): Ordena los elementos de la lista."
      ]
    },
    {
      "cell_type": "code",
      "metadata": {
        "id": "xSqtP2NxV-SY"
      },
      "source": [
        "a = [\"Hola\", \"Adios\", \"Como esta\", \"Buen día\" ]\n",
        "a.sort()\n",
        "print(a)\n",
        "\n",
        "b = [1, 2, 3, 123, 23, 12]\n",
        "b.sort()\n",
        "print(b)\n",
        "\n",
        "# Es posible hacer un orden inverso indicando reverse=True\n",
        "b.sort(reverse=True)\n",
        "print(b)"
      ],
      "execution_count": null,
      "outputs": []
    },
    {
      "cell_type": "markdown",
      "metadata": {
        "id": "-CLWt4-gYtaR"
      },
      "source": [
        "Es posible definir una regla de ordenamiento personalizada. Se debe definir una función, la cuál será evaluada en cada elemento de la lista, y el resultado de esta función se usa como criterio de orden. En la función *sort* se debe ingresar como parámetro *key=nombre_de_funcion*."
      ]
    },
    {
      "cell_type": "code",
      "metadata": {
        "id": "tVtWHKGjZB09"
      },
      "source": [
        "# En este ejemplo la regla es la longitud del elemento\n",
        "def mi_orden1(e):\n",
        "  return len(e)\n",
        "\n",
        "a = [\"Hola\", \"Adios\", \"Como esta\", \"Buen día\" ]\n",
        "a.sort(key=mi_orden1)\n",
        "print(a)\n",
        "\n",
        "# En este ejemplo se analiza el segundo valor de cada elemento\n",
        "def mi_orden2(e):\n",
        "  return e[1]\n",
        "\n",
        "area = [ [\"Argentina\", 2.78], [\"Brazil\", 8.51], [\"Mexico\", 1.96] ]\n",
        "area.sort(key=mi_orden2)\n",
        "print(area)"
      ],
      "execution_count": null,
      "outputs": []
    },
    {
      "cell_type": "markdown",
      "metadata": {
        "id": "4hht8kbW3Qvv"
      },
      "source": [
        "- **.append**($algo$): Permite agregar un elemento al final de la lista."
      ]
    },
    {
      "cell_type": "code",
      "metadata": {
        "id": "vSgGzYcINGRv"
      },
      "source": [
        "mensaje = \"Hola como estas\"\n",
        "v = [50, mensaje, 150.5, True]\n",
        "print(v)\n",
        "\n",
        "# Agrego al final de la lista un elemento que vale 200 (tipo int)\n",
        "v.append(200)      \n",
        "\n",
        "# Los elementos de la lista no son agregados individualmente\n",
        "# En cambio, la lista se agrega como un elemento en sí misma\n",
        "v.append([\"Uno\", \"Dos\", \"Tres\"]) \n",
        "print(v)"
      ],
      "execution_count": null,
      "outputs": []
    },
    {
      "cell_type": "markdown",
      "metadata": {
        "id": "kSMm3FS5a4fN"
      },
      "source": [
        "- **.extend**($lista$): Permite agregar elementos de una lista al final de otra. Es muy similar a la suma de listas."
      ]
    },
    {
      "cell_type": "code",
      "metadata": {
        "id": "nEfG08UnbFDH"
      },
      "source": [
        "v = [1, 2, 3]\n",
        "v.extend([\"Uno\", \"Dos\", \"Tres\"]) \n",
        "print(v)"
      ],
      "execution_count": null,
      "outputs": []
    },
    {
      "cell_type": "markdown",
      "metadata": {
        "id": "kZjHeYw3xpu7"
      },
      "source": [
        "- **.pop**(): Permite remover el ultimo elemento de la lista."
      ]
    },
    {
      "cell_type": "code",
      "metadata": {
        "id": "UDWAtoERNfCw"
      },
      "source": [
        "v = [\"Uno\", 2, \"Tres\", 4, \"Cinco\"]\n",
        "v.pop() # Quito el ultimo elemento \n",
        "print(v)"
      ],
      "execution_count": null,
      "outputs": []
    },
    {
      "cell_type": "markdown",
      "metadata": {
        "id": "xuJGzxm_30Vu"
      },
      "source": [
        "- **.remove**($valor$): Remueve el primer elemento de la lista cuyo valor sea el indicado."
      ]
    },
    {
      "cell_type": "code",
      "metadata": {
        "id": "rHDPAGdHNwlH"
      },
      "source": [
        "v = [1,2,1,2]\n",
        "v.remove(2) # elimino el primer valor igual a 2\n",
        "print(v)\n",
        "v.remove(2) # elimino el primer valor igual a 2\n",
        "print(v)"
      ],
      "execution_count": null,
      "outputs": []
    },
    {
      "cell_type": "markdown",
      "metadata": {
        "id": "5fLZ42t4zKbG"
      },
      "source": [
        "- **del** lista**[*índice*]**: Para eliminar un elemento en una posición determinada."
      ]
    },
    {
      "cell_type": "code",
      "metadata": {
        "id": "yTvsT5UazWN0"
      },
      "source": [
        "a = [\"hola\",\"como\",\"estas\"]\n",
        "del a[1]\n",
        "print(a)"
      ],
      "execution_count": null,
      "outputs": []
    },
    {
      "cell_type": "markdown",
      "metadata": {
        "id": "JBxjC81WznRe"
      },
      "source": [
        "- $algo$ **in** lista: Muchas veces es necesario saber si un elemento esta dentro de una lista, para ello utilizamos esta estructura.\n"
      ]
    },
    {
      "cell_type": "code",
      "metadata": {
        "id": "TcAgoTD-Ocvz"
      },
      "source": [
        "x = [1,2,3]\n",
        "if 5 in x:\n",
        "    x.remove(5)\n",
        "else:\n",
        "  print(5,'no esta en la lista')\n",
        "  \n",
        "print(x)"
      ],
      "execution_count": null,
      "outputs": []
    },
    {
      "cell_type": "markdown",
      "metadata": {
        "id": "XDGgUB3opnot"
      },
      "source": [
        "### for sobre una lista\n",
        "Al igual que con strings, la instrucción *for* puede ir avanzando sobre todos los elementos de una lista:"
      ]
    },
    {
      "cell_type": "code",
      "metadata": {
        "id": "UNFJKu_YpwmU"
      },
      "source": [
        "lista = [1, 10, 100, 1000, [5,6,7], 5, \"hola\"]\n",
        "\n",
        "for elemento in lista:\n",
        "    print(elemento)"
      ],
      "execution_count": null,
      "outputs": []
    },
    {
      "cell_type": "markdown",
      "metadata": {
        "id": "3plZLq9dT-1t"
      },
      "source": [
        "#### Mini-desafío: listas\n",
        "1. Crear una lista con los números pares menores a 50.\n",
        "2. Crear una lista con el nombre de los días de la semana. Realizar un programa al cual se ingresa el día del año mediante un número de 0 a 364, que determine a qué día de la semana corresponde mediante un número de 0 (Lunes) a 6 (Domingo) y luego muestre en pantalla el elemento correspondiente de la lista, o sea, el día de la semana en forma de texto (suponemos que el día 0 del año es Lunes).\n",
        "\n",
        "  *Ejemplos:*\n",
        "  \n",
        "  `calcularDia(1) => 'Martes'` (Ya que el día 0 es Lunes)\n",
        "\n",
        "  `calcularDia(10) => 'Jueves'` (Ya que el día 7 también es Lunes)\n",
        "3. Realizar un programa que ordena nombres alfabeticamente. Primero debe pedir al usuario que ingrese el número de nombres que serán ingresados, luego debe pedir al usuario que ingrese un nombre y repetir ese pedido la cantidad de veces indicada. Los nombres se deben ir agregando a una lista. Por último, ordenar la lista alfabéticamente y mostrar en pantalla de a uno por vez los nombres ordenados (usando un for)."
      ]
    },
    {
      "cell_type": "code",
      "metadata": {
        "id": "YC8rVjYOVSO0"
      },
      "source": [
        ""
      ],
      "execution_count": null,
      "outputs": []
    },
    {
      "cell_type": "code",
      "metadata": {
        "id": "ssRR4W2XcuX7"
      },
      "source": [
        ""
      ],
      "execution_count": null,
      "outputs": []
    },
    {
      "cell_type": "code",
      "metadata": {
        "id": "JXEUtiOtcuIk"
      },
      "source": [
        ""
      ],
      "execution_count": null,
      "outputs": []
    },
    {
      "cell_type": "markdown",
      "metadata": {
        "id": "ple-OvO2QdeD"
      },
      "source": [
        "#### Para pensar: ¿Cómo se podría hacer una matriz usando listas?"
      ]
    },
    {
      "cell_type": "code",
      "metadata": {
        "id": "Mh25rvel6BLJ"
      },
      "source": [
        "# Esto se puede lograr con listas que contengan listas\n",
        "# Cada elemento de la lista exterior corresponderá a una de las filas de la matriz\n",
        "# En este caso habría que procurar que todas las listas interiores tengan la misma longitud\n",
        "\n",
        "x = [[1,2,3],\n",
        "     [4,5,6],\n",
        "     [7,8,9]]\n",
        "\n",
        "print(x[1][2])"
      ],
      "execution_count": null,
      "outputs": []
    },
    {
      "cell_type": "markdown",
      "metadata": {
        "id": "unAFRKQ24-ym"
      },
      "source": [
        "### Nota final\n",
        "Es importante observar que en las listas los elementos se almacenan en un orden bien definido, es decir: siempre hay un elemento que está antes y otro que está después. Esto no será siempre cierto con otras estructuras de datos. \n",
        "\n",
        "Otro detalle es que es posible crear listas con elementos de cualquier tipo de dato, o con cualquier estructura de datos. De forma que se pueden crear listas de listas, o cualquier otra combinación de las estructuras que veremos más adelante.\n",
        "\n",
        "Mas información acerca de los métodos de una lista: https://docs.python.org/3/tutorial/datastructures.html#more-on-lists\n"
      ]
    },
    {
      "cell_type": "markdown",
      "metadata": {
        "id": "HQwUCjPn21bY"
      },
      "source": [
        "## Tuplas"
      ]
    },
    {
      "cell_type": "markdown",
      "metadata": {
        "id": "FAcmxvsU26PM"
      },
      "source": [
        "Las tuplas son similares a las listas, pero a diferencia de ellas se dice que las tuplas son **inmutables**, esto quiere decir que sus elementos no pueden cambiar una vez definidos. Se pueden crear usando paréntesis de la siguiente manera:\n",
        "\n",
        "> a = **(** $ a_{0},a_{1},a_{2},\\dots $ **)**\n",
        "\n",
        "Los elementos de una tupla se pueden acceder usando un índice entre corchetes, y al igual que las listas admiten **slicing**.\n",
        "\n",
        "Cuando creamos una función que devuelve más de un elemento separado por comas, estamos utilizando una tupla inadvertidamente. Cuando intercambiamos 2 elementos de una lista como en el ejemplo anterior, también aparecen tuplas. Estas son las principales aplicaciones de tuplas, y para concentrarnos en las principales estructuras de datos no ahondaremos en este tema."
      ]
    },
    {
      "cell_type": "code",
      "metadata": {
        "id": "5rloEp-e3p1r"
      },
      "source": [
        "tupla = (1, 2, 3)\n",
        "print(tupla, tupla[0], tupla[1], tupla[2])\n",
        "\n",
        "#tupla[0] = 10   # Las tuplas no admiten la asignación por índice\n",
        "\n",
        "def f(x):\n",
        "  return x, 2*x, 3*x\n",
        "\n",
        "print(f(10))\n",
        "x, y, z = f(10)\n",
        "print(x, y, z)\n",
        "\n",
        "x, y, z = z, 0, x\n",
        "print(x, y, z)"
      ],
      "execution_count": null,
      "outputs": []
    },
    {
      "cell_type": "markdown",
      "metadata": {
        "id": "LWdgjC8mSxuE"
      },
      "source": [
        "## Diccionarios"
      ]
    },
    {
      "cell_type": "code",
      "metadata": {
        "id": "38XhZAObASaT",
        "outputId": "8ece6337-6073-44a9-8d8b-9ed831aef19e",
        "colab": {
          "base_uri": "https://localhost:8080/",
          "height": 471
        }
      },
      "source": [
        "# Link a Youtube: \n",
        "# Tema: Diccionarios, cómo estan construidos, operaciones y métodos.\n",
        "\n",
        "from IPython.display import YouTubeVideo\n",
        "YouTubeVideo('0cD4gBnvnMY', width=800, height=450)       #Video Clase 2.2"
      ],
      "execution_count": null,
      "outputs": [
        {
          "output_type": "execute_result",
          "data": {
            "text/html": [
              "\n",
              "        <iframe\n",
              "            width=\"800\"\n",
              "            height=\"450\"\n",
              "            src=\"https://www.youtube.com/embed/0cD4gBnvnMY\"\n",
              "            frameborder=\"0\"\n",
              "            allowfullscreen\n",
              "        ></iframe>\n",
              "        "
            ],
            "text/plain": [
              "<IPython.lib.display.YouTubeVideo at 0x7f9689b21da0>"
            ],
            "image/jpeg": "[encoded data removed]"
          },
          "metadata": {
            "tags": []
          },
          "execution_count": 69
        }
      ]
    },
    {
      "cell_type": "markdown",
      "metadata": {
        "id": "KhV4CUvITVmc"
      },
      "source": [
        "Un diccionario es otra estructura de datos muy útil y muy utilizada cotidianamente. La analogía directa que se suele hacer es con un diccionario físico. Un diccionario (en el sentido físico) contiene una gran cantidad de información organizada por palabras y contenido asociado a ellas. Más precisamente, cada una ordenadas alfabéticamente tiene asociada una información que describe en profundidad su significado. Lo que nos interesa obtener de un diccionario son las definiciones, y la palabra correspondiente es lo que nos ayuda a encontrarlas.\n",
        "\n",
        "<img src=\"https://raw.githubusercontent.com/IEEESBITBA/Curso-Python/master/_assets/pydict.png\" alt = \"Dictionary PNG\" height = 200 title=\"Diccionario\">\n",
        "\n",
        "En programación los diccionarios no son muy distintos. Un \"diccionario\" en este contexto es una estructura de datos cuya información esta organizada igual que en un diccionario físico; cada bloque de información, es decir, cada elemento, tiene asociada una palabra. La palabra que se utiliza para encontrar el bloque de información se la suele denominar key o **clave**. Mediante la **clave** se puede acceder a dicha informacion, la cual se suele denominar **contenido**. El par **clave,contenido** suele llamarse **elemento**.\n",
        "\n",
        "Es muy importante notar que no pueden existir dos elementos con igual clave, estos serían indistinguibles.\n",
        "\n",
        "La clave suele ser información con tipo de dato **string** (aunque no necesariamente), mientras que el contenido puede tener cualquier tipo de dato, esto será decisión de ustedes.\n",
        "\n",
        "Estos se crean utilizando la siguiente estructura:\n",
        "\n",
        "> x = **{**  $k_{0}$ **:** $c_{0}$**,** $k_{1}$ **:** $c_{1}$, $\\dots$**}**\n",
        ">\n",
        "> Noten el \"**:**\" que divide el *key* del *contenido*, y que se usa entre llaves: **{ }**\n",
        "\n",
        "Comenzemos por crear un diccionario con la descripción de las palabras:"
      ]
    },
    {
      "cell_type": "code",
      "metadata": {
        "id": "x_M_vy5fUtyd"
      },
      "source": [
        "d = {\n",
        "    \"trueno\": \"Ruido muy fuerte que sigue al rayo durante una tempestad, producido por la expansión del aire al paso de la descarga eléctrica.\",\n",
        "    \"rayo\": \"Chispa eléctrica de gran intensidad producida por la descarga entre dos nubes o entre una nube y la tierra.\"\n",
        "} \n",
        "a = {} # Diccionario vacío\n",
        "print(d)\n",
        "print(a)"
      ],
      "execution_count": null,
      "outputs": []
    },
    {
      "cell_type": "markdown",
      "metadata": {
        "id": "L4qzUGar266U"
      },
      "source": [
        "Para acceder a los datos de un diccionario se utiliza la misma sintaxis que las listas pero en lugar de un *índice* numérico, utilizando la *clave* a la que queremos acceder."
      ]
    },
    {
      "cell_type": "code",
      "metadata": {
        "id": "X4NcAVrb3IOa"
      },
      "source": [
        "d = {\n",
        "    \"trueno\": \"Ruido muy fuerte que sigue al rayo durante una tempestad, producido por la expansión del aire al paso de la descarga eléctrica.\",\n",
        "    \"rayo\": \"Chispa eléctrica de gran intensidad producida por la descarga entre dos nubes o entre una nube y la tierra.\"\n",
        "} \n",
        "print(d['rayo'])"
      ],
      "execution_count": null,
      "outputs": []
    },
    {
      "cell_type": "markdown",
      "metadata": {
        "id": "Abnxh6zsuJp9"
      },
      "source": [
        "Tambien podemos usar los diccionarios para acceder de forma sencilla a datos. Creamos una base de datos donde se guarda de la siguiente manera:\n",
        "\n",
        "> **clave**=Legajo **contenido**=Nombre"
      ]
    },
    {
      "cell_type": "code",
      "metadata": {
        "id": "FLfNRSbXVxOr"
      },
      "source": [
        "database = {\n",
        "    50033:\"Karen Fernandez\",\n",
        "    50002:\"Matías Perez\"\n",
        "}\n",
        "print(\"Nombre completo del legajo\", 50002, \": \", database[50002])\n"
      ],
      "execution_count": null,
      "outputs": []
    },
    {
      "cell_type": "markdown",
      "metadata": {
        "id": "XfBwbaJi2Epw"
      },
      "source": [
        "### Operaciones con diccionarios\n",
        "- $clave$ **in** diccionario: Nos permite saber si esa key se encuentra en el diccionario."
      ]
    },
    {
      "cell_type": "code",
      "metadata": {
        "id": "IXfr9AU0JMMc"
      },
      "source": [
        "database = {\n",
        "    50001:\"Karen Fernandez\",\n",
        "    50002:\"Matías Perez\"\n",
        "}\n",
        "if 50001 in database:\n",
        "    print(\"la clave 50001 se encuentra en el diccionario\")\n",
        "x = int(input())\n",
        "if x in database:\n",
        "    print(x, 'Esta en el diccionario')"
      ],
      "execution_count": null,
      "outputs": []
    },
    {
      "cell_type": "markdown",
      "metadata": {
        "id": "ved0xALF2ffS"
      },
      "source": [
        "- **for** clave **in** diccionario: Nos permite iterar por todas las claves del diccionario."
      ]
    },
    {
      "cell_type": "code",
      "metadata": {
        "id": "Vrf_s_F1J7uA"
      },
      "source": [
        "database = {\n",
        "    50001:\"Karen Fernandez\",\n",
        "    50002:\"Matías Perez\"\n",
        "}\n",
        "\n",
        "for clave in database:\n",
        "    print('La clave',clave,'tiene asociado el valor',database[clave])"
      ],
      "execution_count": null,
      "outputs": []
    },
    {
      "cell_type": "markdown",
      "metadata": {
        "id": "xHAzhLywGEvB"
      },
      "source": [
        "- **.items**(): Devuelve la lista de claves y valores contenidas por el diccionario."
      ]
    },
    {
      "cell_type": "code",
      "metadata": {
        "id": "e58nY61-J_0D"
      },
      "source": [
        "database = {\n",
        "    50001:\"Karen Fernandez\",\n",
        "    50002:\"Matías Perez\"\n",
        "}\n",
        "\n",
        "for k,c in database.items():\n",
        "    print(\"key:\", k,\" content: \",c)\n",
        "    "
      ],
      "execution_count": null,
      "outputs": []
    },
    {
      "cell_type": "markdown",
      "metadata": {
        "id": "pr-mdzVqTKYH"
      },
      "source": [
        "Ya que se obtienen 2 datos por elemento, para utilizarlo en un *for* tendremos que indicar 2 nombres de variable separados por coma. En este ejemplo la variable *k* tomará el valor de la *key* de cada elemento y la variable *c* tomará el valor de cada *contenido*.\n",
        "\n",
        "Para agregar elementos a un diccionario utilizamos `diccionario[clave] = valor`:\n"
      ]
    },
    {
      "cell_type": "code",
      "metadata": {
        "id": "s0k9_NjxbGFm"
      },
      "source": [
        "x = {\n",
        "    'año':2019,\n",
        "    'mes':12\n",
        "}\n",
        "\n",
        "x['dia'] = 24\n",
        "print(x)\n",
        "\n",
        "x['mes'] = 'Diciembre'\n",
        "x['horas'] = 23\n",
        "x['minutos'] = 59\n",
        "print(x)"
      ],
      "execution_count": null,
      "outputs": []
    },
    {
      "cell_type": "markdown",
      "metadata": {
        "id": "62HlAxaNqWo9"
      },
      "source": [
        "- **.get**(clave, valor): Devuelve el valor asociado a la clave. Si la clave no se encuentra el diccionario, devuelve el valor indicado. Esto es útil cuando no sabemos si una clave existe o no."
      ]
    },
    {
      "cell_type": "code",
      "metadata": {
        "id": "q7NW97Hbq7AC"
      },
      "source": [
        "texto = \"Lorem ipsum dolor sit amet, consectetur adipiscing elit, sed eiusmod tempor incidunt ut labore et dolore magna aliqua. Ut enim ad minim veniam, quis nostrud exercitation ullamco laboris nisi ut aliquid ex ea commodi consequat. Quis aute iure reprehenderit in voluptate velit esse cillum dolore eu fugiat nulla pariatur. Excepteur sint obcaecat cupiditat non proident, sunt in culpa qui officia deserunt mollit anim id est laborum.\"\n",
        "ocurrencias = {}\n",
        "for letra in texto:\n",
        "  # Suma 1 a las ocurrencias de 'letra', o inicializa el elemento con valor 1\n",
        "  ocurrencias[letra] = ocurrencias.get(letra, 0) + 1\n",
        "\n",
        "print(ocurrencias)"
      ],
      "execution_count": null,
      "outputs": []
    },
    {
      "cell_type": "markdown",
      "metadata": {
        "id": "eK4Lm4w9WHfk"
      },
      "source": [
        "#### Mini-desafío: Diccionarios\n",
        "Realizar un programa que pida al usuario un número de legajo y el nombre completo, luego lo guarde en un diccionario.\n",
        "\n",
        "Usar dos celdas de codigo, en una crear el diccionario, y en la otra agregar el nombre y legajo, mostrar el contenido. La idea es que cuando se ejecute varias veces la segunda celda se agrege un nuevo nombre y legajo a lo que ya había sido almacenado en el diccionario."
      ]
    },
    {
      "cell_type": "code",
      "metadata": {
        "id": "2dcL9YmnWfbv"
      },
      "source": [
        "# celda 1\n",
        "dic = {}\n",
        "print(dic)"
      ],
      "execution_count": null,
      "outputs": []
    },
    {
      "cell_type": "code",
      "metadata": {
        "id": "8yuSm7HoA54V"
      },
      "source": [
        "# celda 2"
      ],
      "execution_count": null,
      "outputs": []
    },
    {
      "cell_type": "markdown",
      "metadata": {
        "id": "VWdCPrBJxITk"
      },
      "source": [
        "#### **Para un desafío mayor:** Mini-desafío: Diccionario²\n",
        "Se recibieron distintos postulantes para un empleo de traductor. Crear un diccionario en el cual la *clave* de cada elemento sea el nombre de un candidato y el *contenido* sea un diccionario de los idiomas que aprendió. Para armar el diccionario de idiomas de cada candidato, los elementos deben tener como *clave* el nombre del idioma y como *contenido* el valor True o False para los siguientes idiomas: Español, Ingles, Chino, Frances, Italiano.\n",
        "\n",
        "Ejemplo del diccionario de idiomas:\n",
        "\n",
        "```\n",
        "{\"Español\":True, \"Ingles\":True, \"Chino\":False, \"Frances\":False, \"Italiano\":True}\n",
        "```\n",
        "\n",
        "Inventar valores para 5 candidatos.\n",
        "\n",
        "El usuario luego debe poder ingresar el nombre de un idioma y el programa deberá mostrar en pantalla el nombre de aquellos candidatos que aprendieron ese idioma."
      ]
    },
    {
      "cell_type": "code",
      "metadata": {
        "id": "-nOROXjbl0aJ"
      },
      "source": [
        ""
      ],
      "execution_count": null,
      "outputs": []
    },
    {
      "cell_type": "markdown",
      "metadata": {
        "id": "EbcY0DGr9mwE"
      },
      "source": [
        "### Nota final\n",
        "Es importante ver que un diccionario tiene un cierto orden al igual que las listas, por otro lado también aceptan contenidos repetidos y todo marchará correctamente siempre que tengan distintas claves. Uno de los dilemas más comunes cuando se trabaja con grandes volúmenes de información es qué tomar como clave.\n",
        "\n",
        "En la proxima sección veremos un tipo de datos que ya no organizará la información de manera tal que exista un orden establecido; en algunos casos es provechoso que la información se estructure de manera tal que no exista un orden en los elementos."
      ]
    },
    {
      "cell_type": "markdown",
      "metadata": {
        "id": "otim_uNIDYcm"
      },
      "source": [
        "## Sets\n"
      ]
    },
    {
      "cell_type": "code",
      "metadata": {
        "id": "y3om5XDFAXHr",
        "outputId": "302a26f1-f319-4d49-d3ee-8245a5d430fa",
        "colab": {
          "base_uri": "https://localhost:8080/",
          "height": 471
        }
      },
      "source": [
        "# Link a Youtube: \n",
        "# Tema: Sets, cómo estan construidos, operaciones y métodos.\n",
        "\n",
        "from IPython.display import YouTubeVideo\n",
        "YouTubeVideo('6Yh3b-2y0es', width=800, height=450)       #Video Clase 2.3"
      ],
      "execution_count": null,
      "outputs": [
        {
          "output_type": "execute_result",
          "data": {
            "text/html": [
              "\n",
              "        <iframe\n",
              "            width=\"800\"\n",
              "            height=\"450\"\n",
              "            src=\"https://www.youtube.com/embed/6Yh3b-2y0es\"\n",
              "            frameborder=\"0\"\n",
              "            allowfullscreen\n",
              "        ></iframe>\n",
              "        "
            ],
            "text/plain": [
              "<IPython.lib.display.YouTubeVideo at 0x7f3f6d642470>"
            ]
          },
          "metadata": {
            "tags": []
          },
          "execution_count": 1
        }
      ]
    },
    {
      "cell_type": "markdown",
      "metadata": {
        "id": "uSUbyYQRAaF9"
      },
      "source": [
        "Un **set** es una estructura de datos más avanzada que las anteriores, la cual nos permite almacenar un grupo de elementos cuyo orden no es relevante. Lo único que tiene importancia cuando utilizamos un **set** es qué elemento está y qué elemento no. \n",
        "\n",
        "<img src=\"https://files.realpython.com/media/t.8b7abb515ae8.png\" height = 200 alt = \"Representación de Set usando diagrama Venn\" title= \"A&B\">\n",
        "\n",
        "\n",
        "Un **set** no admite repetidos, ya que por su funcionamiento interno no tiene la capacidad de determinar cuando un elemento se encuentra más de una vez, tan solo puede saber qué elementos están y qué elementos no.\n",
        "A primera vista parecería entonces que un **set** es muy limitado, ya que no está ordenado y no acepta repetidos, no obstante este es muy práctico para algunos tipos de operaciones, las cuales serían muy tediosas de  programar en listas o diccionarios.\n",
        "\n",
        "Para crear un **set** se utilizan llaves **{ }** y se colocan elementos separados por comas, su sintaxis es similar al de las listas.\n"
      ]
    },
    {
      "cell_type": "code",
      "metadata": {
        "id": "pGzhs39jEhPl"
      },
      "source": [
        "x = {1,2,3,4,7,7,7,7,7,7}\n",
        "print(\"Set x =\",x)"
      ],
      "execution_count": null,
      "outputs": []
    },
    {
      "cell_type": "markdown",
      "metadata": {
        "id": "vwXNR2eLMEHH"
      },
      "source": [
        "### Operaciones con sets\n",
        "- **|** : Es la operacion de $A \\cup B$ llamada \"*unión*\"."
      ]
    },
    {
      "cell_type": "code",
      "metadata": {
        "id": "yUtHifyMgoYc"
      },
      "source": [
        "x = {1,2,3,4,7,7,7,7,7,7}\n",
        "y = {1,2,10}\n",
        "z = {15, 20}\n",
        "\n",
        "k = x | y | z\n",
        "print(k)"
      ],
      "execution_count": null,
      "outputs": []
    },
    {
      "cell_type": "markdown",
      "metadata": {
        "id": "d51LnJdhMgxr"
      },
      "source": [
        "\n",
        "-  **&**: Es la operacion de $A \\cap B$ llamada \"*intersección*\"."
      ]
    },
    {
      "cell_type": "code",
      "metadata": {
        "id": "7pXUUZBMMunZ"
      },
      "source": [
        "x = {1,2,3,4,7,7,7,7,7,7}\n",
        "y = {1,2,10}\n",
        "w = x & y\n",
        "print(w)"
      ],
      "execution_count": null,
      "outputs": []
    },
    {
      "cell_type": "markdown",
      "metadata": {
        "id": "i-jBKc8rQz2I"
      },
      "source": [
        "- **A-B**: Todo elemento de A que también se encuentre en B, será quitado de A. El equivalente logico es $ A\\cap \\neg B$."
      ]
    },
    {
      "cell_type": "code",
      "metadata": {
        "id": "Y-ERvaLKRFbS"
      },
      "source": [
        "x = {1,2,3,4,7,7,7,7,7,7}\n",
        "y = {1,2,10}\n",
        "z = x-y\n",
        "print(z)\n",
        "print(y-x)"
      ],
      "execution_count": null,
      "outputs": []
    },
    {
      "cell_type": "markdown",
      "metadata": {
        "id": "bD9Y4BIeQOY2"
      },
      "source": [
        "- **.remove**($valor$): Remueve el valor del set."
      ]
    },
    {
      "cell_type": "code",
      "metadata": {
        "id": "tLd3WIpxGT-o"
      },
      "source": [
        "x = {1,2,3,4,7}\n",
        "x.remove(1)\n",
        "print(x)"
      ],
      "execution_count": null,
      "outputs": []
    },
    {
      "cell_type": "markdown",
      "metadata": {
        "id": "B7B3zozkQZKe"
      },
      "source": [
        "- **.add**($valor$): Agrega el valor al set."
      ]
    },
    {
      "cell_type": "code",
      "metadata": {
        "id": "04Qm70ySHlEn"
      },
      "source": [
        "x = {1,2,3,4,7}\n",
        "x.add(\"hola\")\n",
        "print(x)"
      ],
      "execution_count": null,
      "outputs": []
    },
    {
      "cell_type": "markdown",
      "metadata": {
        "id": "4AaFXPmnpH6L"
      },
      "source": [
        "- **len**( $set$ ) Obtiene el tamaño de un set."
      ]
    },
    {
      "cell_type": "code",
      "metadata": {
        "id": "Z2xvvwqXpTRo"
      },
      "source": [
        "conjunto = { 1, 2, 1, 3, 1, 6}\n",
        "print(conjunto)\n",
        "print(len(conjunto))"
      ],
      "execution_count": null,
      "outputs": []
    },
    {
      "cell_type": "markdown",
      "metadata": {
        "id": "GTYqk43YWl_3"
      },
      "source": [
        "### Mini-desafío: Sets\n",
        "Se cuentan con varios sets que contienen las personas que les gusta un cierto sabor de helado:\n",
        "\n",
        "```\n",
        "vainilla = { \"Juan\", \"Marina\", \"Tomas\", \"Paula\" }\n",
        "chocolate = { \"Pedro\", \"Paula\", \"Marina\" }\n",
        "dulceDeLeche = { \"Juan\", \"Julian\", \"Pedro\", \"Marina\" }\n",
        "```\n",
        "\n",
        "Responder usando operaciones de sets:\n",
        "\n",
        "- Hay alguna persona que le gusten todos los gustos?\n",
        "\n",
        "- Hay alguna persona que le gusten la vainilla y no el dulce de leche?\n",
        "\n",
        "- Cuantas personas distintas tenemos?"
      ]
    },
    {
      "cell_type": "code",
      "metadata": {
        "id": "g3blObRMYI1O"
      },
      "source": [
        ""
      ],
      "execution_count": null,
      "outputs": []
    },
    {
      "cell_type": "markdown",
      "metadata": {
        "id": "-D91D6uJqZcy"
      },
      "source": [
        "# Desafío final\n",
        "Este desafío debe ser corregido automáticamente a través de [nuestro foro](https://ieeeitba.web.app/python), pueden realizar todos los intentos que deseen. En la página principal pueden ver un tutorial acerca de cómo se utiliza el corrector.\n",
        "\n",
        "Les recomendamos primero probar su solución en Colab para luego realizar la corrección."
      ]
    },
    {
      "cell_type": "markdown",
      "metadata": {
        "id": "Rvlf1T7MNTjo"
      },
      "source": [
        "### El ABC de Python\n",
        "\n",
        "*Aclaración: Este desafío es inventado, es posible que haya errores fácticos en cuanto a los alfabetos reales.*\n",
        "\n",
        "Encontramos una piedra antigua en una plaza de Buenos Aires cuyas inscripciones nos ayudan a decifrar nuevos alfabetos. Gracias a estas inscripciones descubrimos que las letras del [alfabeto latino arcaico](https://es.wikipedia.org/wiki/Alfabeto_latino#Alfabeto_latino_arcaico) tienen una correspondencia con el [alfabeto latino](https://es.wikipedia.org/wiki/Alfabeto_latino) y vamos a crear un programa que nos ayude a traducir palabras de un alfabeto a otro.\n",
        "\n",
        "Crear una función que recibe un *string*, transforma todos los caracteres del *alfabeto latino arcaico*  en caracteres modernos, no modifica el resto de los caracteres (signos de puntuacion, espacios, etc.) y devuelve el resultado con *return*.\n",
        "\n",
        "**Ejemplos:**\n",
        "\n",
        "``traducir( \"𐌀𐌋𐌅𐌀𐌁𐌄𐌕𐌏\" ) => \"ALFABETO\"``\n",
        "\n",
        "``traducir( \"¡𐌐𐌄𐌓𐌃𐌉!\" ) => \"¡PERDI!``\n",
        "\n",
        "``traducir( \"¿𐌔𐌉 𐌏 𐌍𐌏? 𐌌𐌌𐌌... 𐌔𐌉.\" ) => \"¿SI O NO? MMM... SI.\"``\n",
        "\n",
        "**Correspondencia entre alfabetos:**\n",
        "```\n",
        "Arcaico : Moderno\n",
        "'𐌀' : 'A',\n",
        "'𐌁' : 'B',\n",
        "'𐌂' : 'C',\n",
        "'𐌃' : 'D',\n",
        "'𐌄' : 'E',\n",
        "'𐌅' : 'F',\n",
        "'𐌆' : 'Z',\n",
        "'𐌇' : 'H',\n",
        "'𐌉' : 'I',\n",
        "'𐌊' : 'K',\n",
        "'𐌋' : 'L',\n",
        "'𐌌' : 'M',\n",
        "'𐌍' : 'N',\n",
        "'𐌏' : 'O',\n",
        "'𐌐' : 'P',\n",
        "'𐌒' : 'Q',\n",
        "'𐌓' : 'R',\n",
        "'𐌔' : 'S',\n",
        "'𐌕' : 'T',\n",
        "'𐌖' : 'V',\n",
        "'𐌗' : 'X'\n",
        "```\n",
        "\n"
      ]
    },
    {
      "cell_type": "code",
      "metadata": {
        "id": "o8CgaKJG0_Ov"
      },
      "source": [
        ""
      ],
      "execution_count": null,
      "outputs": []
    },
    {
      "cell_type": "markdown",
      "metadata": {
        "id": "hpW3cNya1ESA"
      },
      "source": [
        "# Ejercitación integradora\n",
        "$\\newcommand{\\dif}{\\bigstar}$$\\newcommand{\\facil}{\\color{\\green}{\\dif}}$ $\\newcommand{\\pieceofcake}{\\color{\\cyan}{\\dif}}$$\\newcommand{\\medio}{\\color{\\yellow}{\\dif\\dif}}$$\\newcommand{\\media}{\\medio}$$\\newcommand{\\normal}{\\medio}$  $\\newcommand{\\dificil}{\\color{\\orange}{\\dif\\dif\\dif}}$ $\\newcommand{\\imposible}{\\color{\\red}{\\dif\\dif\\dif\\dif}}$"
      ]
    },
    {
      "cell_type": "markdown",
      "metadata": {
        "id": "dz1uvBrZlIHA"
      },
      "source": [
        "### $\\facil$ Call me $\\frac{\\partial}{\\partial x}$, or $\\mathrm{diff}$ for short\n",
        "Una operacion muy comun al manejar datos es la derivada\n",
        "\n",
        "$$ \\frac{d }{dt} (\\mathrm{Datos}) $$\n",
        "\n",
        "Escribir una función que reciba una lista de números. Llamemos $n$ a la cantidad de elementos en esta lista. Debe devolver una lista de tamaño $n-1$ con los valores de la *derivada discreta* de la lista recibida.\n",
        "\n",
        "La *derivada discreta* corresponde a la diferencia entre un elemento y su anterior, podemos usar la siguiente definición:\n",
        "* $\\mathrm{derivada}[i]=x[i+1]-x[i]$ \n"
      ]
    },
    {
      "cell_type": "code",
      "metadata": {
        "id": "NwAlHXUVrc7M"
      },
      "source": [
        ""
      ],
      "execution_count": null,
      "outputs": []
    },
    {
      "cell_type": "markdown",
      "metadata": {
        "id": "r0WDu6POoM0e"
      },
      "source": [
        "### $\\facil$ ¿Acaso hubo buhos aca?\n",
        "\n",
        "Definir una función que detecte si una palabra es un [palíndromo](https://es.wikipedia.org/wiki/Pal%C3%ADndromo) y devuelve True o False.\n",
        "\n",
        "**Ejemplos:**\n",
        "\n",
        "``palindromo( \"python\" ) => False``\n",
        "\n",
        "``palindromo( \"reconocer\" ) => True``\n",
        "\n",
        "``palindromo( \"Neuquén\" ) => False``\n",
        "\n",
        "$\\medio$ *Challenge*: Modificar la función para ignorar espacios, signos de puntuación, y que no haga distinción entre mayúsculas y minúsculas (pueden usar [str.lower](https://docs.python.org/3/library/stdtypes.html?highlight=str.lower#str.lower)). Sugerimos usar el nombre del desafío como un palindromo de ejemplo.\n"
      ]
    },
    {
      "cell_type": "code",
      "metadata": {
        "id": "-cfM3AcMp-C3"
      },
      "source": [
        ""
      ],
      "execution_count": null,
      "outputs": []
    },
    {
      "cell_type": "markdown",
      "metadata": {
        "id": "WQK4B7zHjucS"
      },
      "source": [
        "### $\\medio$ Menta y Dulce de leche\n",
        "\n",
        "**Introducción:**\n",
        "\n",
        "*Una de las muchas ventajas de los sets y los diccionarios es que permiten averiguar si contienen cierto elemento con gran velocidad, sin importar la cantidad de elementos que almacenan (esto se debe a que internamente utilizan una [función hash](https://es.wikipedia.org/wiki/Funci%C3%B3n_hash)). Acceder al valor asociado a cierta clave en un diccionario también es una operación muy veloz.*\n",
        "\n",
        "*En comparación, verificar si un elemento se encuentra dentro de una lista es lento, ya que el tiempo necesario es proporcional a la cantidad de elementos en la lista y para listas muy grandes con miles, millones o billones de elementos (como puede suceder en una base de datos) esto puede ser un problema importante. Sin embargo, una vez que se conoce el índice del elemento, acceder al elemento es una operación tan rápida como en un diccionario.*\n",
        "\n",
        "**Problema:**\n",
        "\n",
        "Volviendo de hacer las compras en el supermercado, pasas cerca de una heladería y decidís comprar helado para tus hermanos, los cuales son amantes de la menta granizada y del dulce de leche con nuez. El negocio ofrece helado en todo tipo de formato, desde mini-cucuruchos hasta potes de 1 kilo, y cada formato cuesta cierta cantidad de dinero. Decidís gastar exactamente todo el dinero que te queda luego de haber ido al supermercado, de forma tal que no sobre ni falte.\n",
        "\n",
        "Programar una función que recibe una lista con los precios de los distintos formatos en que se vende el helado, y además reciba la cantidad de dinero disponible para gastar. La función debe encontrar la manera de comprar cierto formato de helado sabor menta, y cierto formato sabor dulce de leche, de manera de gastar la totalidad del dinero disponible. En consecuencia, la cantidad de formatos seleccionados debe ser exactamente 2, está permitido seleccionar el mismo formato para ambos sabores de helado. La función debe devolver con *return* una lista de 2 elementos, los cuales serán los precios de los formatos de helado seleccionados. En caso de no existir una combinación que satisface los requisitos se debe devolver ``[-1, -1]``.\n",
        "\n",
        "**Tips:**\n",
        " - Al usar un set o un diccionario como estructura de datos pueden mejorar la velocidad con la que el programa analiza si cierto elemento se encuentra dentro de los datos. La operación ``mi_set = set( mi_lista )`` puede serles de utilidad para este propósito.\n",
        "\n",
        "**Ejemplos:**\n",
        "\n",
        "``buscar_precios( [1, 2, 3, 4, 5] , 8) => [3, 5]``\n",
        "\n",
        "``buscar_precios( [7, 4, 2, 6, 7, 7] , 4) => [2, 2]``\n",
        "\n",
        "``buscar_precios( [4, 3, 7, 5] , 5) => [-1, -1]``\n",
        "\n",
        "\n",
        "$\\dificil$ *Challenge*: Modificar la función para que el resultado sea 1 sólo número: La cantidad de maneras diferentes de conseguir el objetivo (si dos formatos tienen el mismo precio, igualmente califican como formatos diferentes)."
      ]
    },
    {
      "cell_type": "code",
      "metadata": {
        "id": "AI5TR0K2tBId"
      },
      "source": [
        ""
      ],
      "execution_count": null,
      "outputs": []
    },
    {
      "cell_type": "markdown",
      "metadata": {
        "id": "0CqTiYpZG-AO"
      },
      "source": [
        "###$\\normal$  Une y triunfarás\n",
        "Se recibieron distintos postulantes para un empleo de traductor. Crear un **diccionario** en el cuál la *key* de cada elemento sea el nombre de un candidato y el *contenido* sea un **set** con los idiomas que aprendió.\n",
        "Inventar valores para 5 candidatos.\n",
        "\n",
        "- Mostrar en pantalla los idiomas que todos los candidatos aprendieron.\n",
        "- Mostrar en pantalla todos los candidatos que aprendieron por lo menos Español e Inglés.\n",
        "\n",
        "El usuario luego debe poder ingresar el nombre de un idioma y el programa deberá mostrar en pantalla el nombre de aquellos candidatos que aprendieron ese idioma."
      ]
    },
    {
      "cell_type": "code",
      "metadata": {
        "id": "81Kzws-ka5L9"
      },
      "source": [
        ""
      ],
      "execution_count": null,
      "outputs": []
    },
    {
      "cell_type": "markdown",
      "metadata": {
        "id": "3YitqSp9Z3sD"
      },
      "source": [
        "###$\\normal$ Las naranjas de Miguel \n",
        "Miguel vive en un pueblo frutero con su hermana en el valle de Oz. Todos los días cosecha bananas y naranjas de su campo. Como son abundantes, suele darle 2 bananas y 1 naranja a su hermana. No obstante Miguel siempre quiere quedarse con por lo menos una naranja, por lo cual le da una naranja a su hermana solo cuando se cosechan al menos 2 naranjas.\n",
        "\n",
        "Miguel ahora quiere modernizarse, compró una cinta transportadora que detecta cada fruta que la atraviesa y te pide ayuda para  escribir un programa que reciba el código generado por la máquina y *devuelva la cantidad de bananas y naranjas que le quedarán* luego de quitar las frutas que le dará a su hermana.\n",
        "\n",
        "``\n",
        "ejemploCodigoDePedido = \"BBBBBNNNNNNNN\"\n",
        "``\n",
        "\n",
        "Cada N representa una naranja y cada B representa una banana.\n",
        "\n",
        "**Tips**\n",
        "* La función `list()` toma un string y lo convierte a una lista\n",
        "\n",
        "```\n",
        "P = list( ejemploCodigoDePedido )\n",
        ">> P = ['B', 'B', 'B', 'B', 'B', 'N', 'N', 'N', 'N', 'N', 'N', 'N', 'N']\n",
        "```"
      ]
    },
    {
      "cell_type": "code",
      "metadata": {
        "id": "3fotZ5anaVs6"
      },
      "source": [
        ""
      ],
      "execution_count": null,
      "outputs": []
    },
    {
      "cell_type": "markdown",
      "metadata": {
        "id": "cCUOtpRTcRBx"
      },
      "source": [
        "###$\\dificil$ Convirtiendo números\n",
        "\n",
        "Después de usar tantas veces la instrucción ``int()`` para realizar conversiones, uno empieza a preguntarse ¿Será muy complicado convertir textos a números?\n",
        "\n",
        "Para poner esto a prueba, les proponemos crear su propio ``int()``. Para lograrlo deben definir una funcion ``text2number()`` que reciba como parámetro una variable de tipo *string* y devuelva un número entero correspondiente a la conversión, tal como funciona ``int()``. Los requisitos que debe cumplir la entrada para ser considerada válida son:\n",
        " - Al inicio puede contener o no cierta cantidad de espacios ``' '``.\n",
        " - Luego puede o no tener 1 caracter de signo: ``'+'`` ó ``'-'``.\n",
        " - Luego tiene cierta cantidad de caracteres numéricos: entre ``'0'`` y ``'9'``.\n",
        " - Por último puede contener o no cierta cantidad de espacios ``' '``.\n",
        "\n",
        "Como buena práctica de programación, les recomendamos considerar diferentes casos límites para verificar que el código logra manejarlos adecuadamente, además de ejemplos válidos también comprobar donde las condiciones no se cumplen o estan en el límite de cumplirse. De esa forma pueden asegurarse de que su código hace lo que esperaban en todo tipo de situaciones.\n",
        "\n",
        "Quedará a su criterio definir lo que hace la función cuando la entrada no se considera válida.\n",
        "\n",
        "**Tips:**\n",
        "* Al igual que las listas, los strings son \"iterables\". Los tipos de datos \"iterables\" permiten entre otras cosas realizar un *for* que recorre todos sus elementos:\n",
        "```\n",
        "texto = \"Hola Mundo!\"\n",
        "for letra in texto:\n",
        "    print(letra)\n",
        "```\n",
        "* Para obtener el valor numérico de 1 sólo caracter comprendido entre ``'0'`` y ``'9'`` pueden definir un diccionario como el siguiente:\n",
        "\n",
        "  ``numeros = {'0':0, '1':1, '2':2, '3':3, '4':4, '5':5, '6':6 '7':7, '8':8 , '9':9}``\n",
        "\n",
        "  Una alternativa más sofisticada involucra el llamado código ASCII, y se relaciona con la forma en la cual los caracteres son representados en la memoria. Usando el comando ``ord()`` se obtiene el código ASCII de un caracter, y restando ``ord('0')`` se obtiene el valor numérico de un caracter entre ``'0'`` y ``'9'``:\n",
        "```\n",
        "caracter = '5'\n",
        "numero = ord(caracter) - ord('0')\n",
        "```"
      ]
    },
    {
      "cell_type": "code",
      "metadata": {
        "id": "vfEEy6HSifyz"
      },
      "source": [
        ""
      ],
      "execution_count": null,
      "outputs": []
    },
    {
      "cell_type": "markdown",
      "metadata": {
        "id": "58bbfFzqurNj"
      },
      "source": [
        "### $\\dificil$ Dr. Chaos, el malevolo semiótico\n",
        "\n",
        "\"Chaos es caos en inglés\" te diría Dr. Chaos, charlando con una taza de té Chai en la mano. En verdad no es tán malo como su nombre lo hace aparentar... si es que tenés un buen manejo de los idiomas.\n",
        "\n",
        "Dr. Chaos esta armando un diccionario. Este diccionario tiene la particularidad de no tener definiciones; el diccionario de Dr. Chaos define *una palabra como otra*. Dr. Chaos quiere comenzar a traducir la literatura de todo el mundo usando el diccionario y ha venido a ti, el *Number One* programador de Python. \n",
        "\n",
        "**Objetivo:** Cambiar las palabras de una oración usando el diccionario de Dr. Chaos e imprimir la nueva oración en el lenguaje unificado.\n",
        "\n",
        "*Ejemplo:*\n",
        "\n",
        "``\n",
        "diccionario = {\"hola\":\"你好\",\"como\":\"how\",\"estás\":\"estáis\"}\n",
        "``\n",
        "\n",
        "``\n",
        "oracion = \"hola, como estás?\"\n",
        "``\n",
        "\n",
        "\n",
        "*OUTPUT:*\n",
        "``\n",
        "\"你好, how estáis?\"\n",
        "``\n",
        "\n",
        "\n",
        "*Ejemplo 2:*\n",
        "\n",
        "``\n",
        "diccionario = {\"ve\":\"regards\",\"bien\":\"bom\",\"se\":\"it\"}\n",
        "``\n",
        "\n",
        "``\n",
        "oracion = \"se ve bien!\"\n",
        "``\n",
        "\n",
        "**Tips:** \n",
        "\n",
        "* El programa debería tratar los símbolos de interrogación, exclamación, los puntos y comas como `whitespace`, es decir, espacio en blanco.\n",
        " \n",
        "* Suponer que las letras son todas minusculas.\n"
      ]
    },
    {
      "cell_type": "code",
      "metadata": {
        "id": "kDvIsxZCxawO"
      },
      "source": [
        ""
      ],
      "execution_count": null,
      "outputs": []
    },
    {
      "cell_type": "markdown",
      "metadata": {
        "id": "0_lEQuB-fIH4"
      },
      "source": [
        "###$\\dificil$ Las elecciones\n",
        "Realizar un programa en el cual se decida cual es el ganador de una **elección a presidente**\n",
        "\n",
        "En el diccionario candidatos la clave es el nombre del cadidato y el contenido la cantidad de votos. \n",
        "\n",
        "**Hint**: Usen for, if, variables auxiliares."
      ]
    },
    {
      "cell_type": "code",
      "metadata": {
        "id": "QH9KkPS6fMzX"
      },
      "source": [
        "candidatos = {\n",
        "    \"Michael Jackson\": 34453,\n",
        "    \"Oliver Kahn\": 18445,\n",
        "    \"Walt Disney\": 5434444,\n",
        "    \"John Lennon\": 12332,\n",
        "    \"Roque Sáenz Peña\": 5543,\n",
        "    \"Alexandria Ocasio-Cortez\": 343343,\n",
        "    \"Ludwig van Beethoven\":1232322\n",
        "}\n",
        "\n",
        "for nombre, votos in candidatos.items():\n",
        "    print(nombre,\":\", votos)"
      ],
      "execution_count": null,
      "outputs": []
    },
    {
      "cell_type": "markdown",
      "metadata": {
        "id": "EB1w1IxifRzY"
      },
      "source": [
        "Hacer que el programa anterior indique si debe haber **[ballotage](https://es.wikipedia.org/wiki/Segunda_vuelta_electoral)** (es decir, si el ganador obtuvo menos del 50%+1 de los votos). "
      ]
    },
    {
      "cell_type": "code",
      "metadata": {
        "id": "RU0qaWD5fUjY"
      },
      "source": [
        ""
      ],
      "execution_count": null,
      "outputs": []
    },
    {
      "cell_type": "markdown",
      "metadata": {
        "id": "2a0QjbS3QrlX"
      },
      "source": [
        "###$\\imposible$ Quiero Retruco\n",
        "El [Truco](https://es.wikipedia.org/wiki/Truco_argentino) es un juego de cartas muy popular en Argentina. Se suele jugar con naipes españoles de 40 cartas, las cuales tienen 4 palos (basto, oro, espada y copa) y 10 números, 1,2,3,4,5,6,7,10,11 y 12.\n",
        "Si bien en esta ocasión no vamos a programar un juego de truco, sí vamos a resolver uno de los problemas más usuales que surgen cuando jugamos, el cual es definir qué carta gana y qué carta pierde cuando hay un duelo entre dos cartas. \n",
        "\n",
        "<img src=\"https://raw.githubusercontent.com/IEEESBITBA/Curso-Python/master/_assets/truco_jerarquia.png\" height=300 alt =\"Esquema de hierarquia de cartas para el juego truco argentino\" title=\"Un palo le gana a 7 espadas y ambos pierden ante una espada envainada? What?\">\n",
        "\n",
        "En la imagen podemos observar el orden de importancia de las cartas de izquierda a derecha. El 1 de espada es la más importante (y por lo tanto **siempre** gana) mientras que los 4s son las cartas de menor importancia (casi siempre pierden). Las cartas en la misma columna empatan si se enfrentan.\n",
        "\n",
        "- Programar una función con dos inputs tipo string **carta A** y **carta B** que retorne la carta ganadora (tipo string), o \"empate\" en caso de que lo haya. Ejemplos de como debería funcionar\n",
        "\n",
        "```\n",
        "   dueloDeCartas(\"1 de espada\", \"1 de basto\")\n",
        "   >>> 1 de espada\n",
        "   dueloDeCartas(\"7 de oro\", \"5 de oro\")\n",
        "   >>> 7 de oro\n",
        "   dueloDeCartas(\"11 de copa\", \"11 de espada\")\n",
        "   >>> empate\n",
        "```\n",
        "\n",
        "**Pista** (seleccionar texto para ver): <font color=\"white\"> Usar un diccionario donde la **clave** sea el nombre de la carta, y su **contenido** su importancia (un tipo **int**). Aprovechen la instrucción *for* para evitar tener que cargar todas las cartas una por una.\n",
        "</font>\n",
        "\n",
        "- A veces se suele jugar al truco con más de dos jugadores. Podría ocurrir duelos en los que participan $n$ cartas. Programar una función cuyo input sea una lista de strings con todas las cartas y retorne la ganadora. (En caso de empate que retorne alguna de las ganadoras, o una lista con las ganadoras).\n",
        "Ejemplos de como podría funcionar:\n",
        "```\n",
        "   dueloDeCartas([\"7 de basto\",\"7 de espada\",\"12 de espada\", \"4 de espada\"])\n",
        "   >>> \"7 de espada\"\n",
        "   dueloDeCartas([\"4 de espada\",\"7 de basto\",\"7 de copa\", \"5 de copa\"]) #también podría haber dado 7 de basto \n",
        "   >>> \"7 de copa\"\n",
        "```"
      ]
    },
    {
      "cell_type": "markdown",
      "metadata": {
        "id": "cPg3_nytSrCG"
      },
      "source": [
        "# Anexo: Funcionamiento de la memoria\n",
        "\n",
        "En la explicación al principio de la clase representamos la memoria como un conjunto de casilleros que almacenan números, vamos a explicar un poco más en detalle de dónde salen esos números, y por qué es la única manera de almacenar información en la memoria.\n",
        "\n",
        "La memoria de una computadora es un dispositivo que contiene un conjunto de componentes electrónicos que pueden alternar entre 2 estados, un estado de encendido y uno de apagado. La computadora puede dar instrucciones a la memoria para modificar el estado de estos componentes, de forma que determine si cada uno está encendido o apagado, y más tarde puede revisar estos componentes para saber el estado en el que están. De alguna forma tenemos que usar las distintas combinaciones de encendidos y apagados (también llamados 0 y 1) de los distintos componentes para representar toda la información que necesitamos. Cada uno de estos \"pedacitos\" de información que únicamente tienen 2 estados se los llama \"digitos binarios\" o \"bits\", y como dijimos anteriormente cada *bit* puede valer 0 o 1.\n",
        "\n",
        "En los comienzos de la informática se adoptó una convención que es ahora casi universal, esta gran cantidad de *bits* que tiene la memoria se van a separar en grupos de 8. Cada \"casillero\" de la memoria en la imagen de la explicación del inicio, corresponde a un grupo de 8 *bits* de memoria, es decir, a 8 de estos componentes que pueden estar encendidos o apagados.\n",
        "\n",
        "*¿Entonces por qué dijimos que cada casillero es un número, cuando es realidad son 8 dígitos binarios?*\n",
        "\n",
        "La respuesta es que es mucho más fácil usar números decimales (los números \"normales\") en lugar de 8 dígitos binarios, entonces convertimos esos 8 *bits* en un número decimal usando el [sistema binario](https://es.wikipedia.org/wiki/Sistema_binario). Usando este sistema, cada combinación de 8 *bits*, es decir 8 ceros y unos, corresponde a un número decimal.\n",
        "\n",
        "Por ejemplo:\n",
        "\n",
        "| Binario | Decimal   |\n",
        "|----------|-----|\n",
        "| 00000000 | 0   |\n",
        "| 00000001 | 1   |\n",
        "| 00000010 | 2   |\n",
        "| 00000011 | 3   |\n",
        "| ...      | ... |\n",
        "| 11111111 | 255 |\n",
        "\n",
        "<br />\n",
        "\n",
        "Usando 8 *bits* se pueden generar 256 combinaciones distintas, y en el sistema decimal corresponden a los números del 0 al 255. Cada uno de estos paquetes de 8 *bits* se denomina \"byte\", cuando nos referíamos a un \"casillero\" de memoria en realidad estabamos haciendo referencia a un *byte*.\n",
        "\n",
        "Para guardar números mayores a 255, la variable correspondiente deberá ocupar más de 1 *byte* o \"casillero\". Cuándo se utilizan 2 *bytes* para almacenar un número, una estrategia posible es usar un *byte* para almacenar el cociente N/256 y el otro para almacenar el resto N%256 (en donde N es el número que se desea guardar). Luego para recrear el número original se multiplica el cociente por 256 y se suma el resto. Este es sólo un ejemplo, se utilizan diferentes estrategias para almacenar números negativos, números con decimales, y más.\n",
        "\n",
        "Otro tipo de variables como strings, listas, sets, etc. utilizan diferentes técnicas. En algunos casos se reserva una cantidad grande de *bytes* por si el tamaño de la variable crece mucho, en algunos casos se pueden reservar más *bytes* si la cantidad reservada previamente no es suficiente.\n",
        "\n",
        "Hay muchos más detalles acerca de cada una de las cosas que mencionamos, y de cada tema se podrían hacer varias clases enteras, por lo cual si quieren conocer más pueden seguir investigando por su cuenta.\n",
        "\n",
        "Algunos links interesantes:\n",
        "\n",
        "https://es.wikipedia.org/wiki/ASCII\n",
        "\n",
        "https://es.wikipedia.org/wiki/Unicode\n",
        "\n",
        "https://es.wikipedia.org/wiki/Byte\n",
        "\n",
        "https://es.wikipedia.org/wiki/Coma_flotante\n",
        "\n",
        "https://es.wikipedia.org/wiki/Direcci%C3%B3n_de_memoria\n",
        "\n",
        "https://es.wikipedia.org/wiki/Puntero_(inform%C3%A1tica)\n",
        "\n",
        "https://es.wikipedia.org/wiki/Biestable"
      ]
    }
  ]
}