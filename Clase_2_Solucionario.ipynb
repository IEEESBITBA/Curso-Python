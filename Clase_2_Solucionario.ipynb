{
  "nbformat": 4,
  "nbformat_minor": 0,
  "metadata": {
    "colab": {
      "name": "Clase 2 Solucionario.ipynb",
      "provenance": [],
      "collapsed_sections": [],
      "toc_visible": true
    },
    "kernelspec": {
      "name": "python3",
      "display_name": "Python 3"
    }
  },
  "cells": [
    {
      "cell_type": "markdown",
      "metadata": {
        "id": "ghBKrYxhuQTB"
      },
      "source": [
        "# Clase 2 - Solucionario\n",
        "\n",
        "En este documento se encuentran soluciones propuestas para todos los desafíos y ejercicios de la Clase 2. Los problemas pueden ser resueltos de muchas maneras distintas por lo cual no se preocupen si las soluciones que proponen ustedes no son idénticas a las que les proponemos."
      ]
    },
    {
      "cell_type": "markdown",
      "metadata": {
        "id": "zKSV7bfyLWNv"
      },
      "source": [
        "### Mini-desafío: floats\n",
        "Crear: \n",
        "*   Una función que convierta grados **Celsius** a grados **Farenheit** (https://es.wikipedia.org/wiki/Grado_Fahrenheit)\n",
        "*   Una función que convierta grados **Celsius** a grados **Kelvin** (https://es.wikipedia.org/wiki/Kelvin)\n",
        "\n",
        "El usuario debe ingresar una temperatura en grados Celsius y el programa debe mostrar las conversiones a Farenheit y Kelvin utilizando las funciones. Si la temperatura ingresada es inferior al [cero absoluto](https://es.wikipedia.org/wiki/Cero_absoluto), el programa debe mostrar un mensaje de advertencia.\n",
        "\n",
        "Pueden leer [aqui](https://en.wikipedia.org/wiki/Conversion_of_units_of_temperature) sobre como hacer las conversiones "
      ]
    },
    {
      "cell_type": "code",
      "metadata": {
        "id": "Jel3LmEwQoDc"
      },
      "source": [
        "def CelciusToFarenheit(temp):\n",
        "    return temp * 9 / 5 + 32\n",
        "\n",
        "def CelciusToKelvin(temp):\n",
        "    return temp + 273.15\n",
        "\n",
        "temp = float(input(\"Ingrese temperatura en celcius:\"))\n",
        "\n",
        "if temp < -273.15:\n",
        "  print(\"Advertencia: La temperatura es inferior al cero absoluto\")\n",
        "else:\n",
        "  print(\"Temperatura en Farenheit:\", CelciusToFarenheit(temp))\n",
        "  print(\"Temperatura en Kelvin:\", CelciusToKelvin(temp))"
      ],
      "execution_count": null,
      "outputs": []
    },
    {
      "cell_type": "markdown",
      "metadata": {
        "id": "L_4r67VRUpNC"
      },
      "source": [
        "### Mini-desafío: Operaciones con strings\n",
        "Hacer un programa que permita ingresar un nombre y un apellido usando dos veces la función input( ). Luego debe crear la variable *nombre_y_apellido* que contenga ambos datos separados por un espacio. Un fabricante de tarjetas admite la impresión de hasta 26 caracteres para el nombre del dueño de la tarjeta, el programa debe imprimir \"Nombre admitido\" si *nombre_y_apellido* cumple con esta restricción y \"Nombre no admitido\" en caso contrario (el espacio cuenta como uno de los 26 caracteres disponibles).\n",
        "\n",
        "**Para un desafío mayor:** Si *nombre_y_apellido* cumple la restricción, mostrar el nombre y apellido. En caso contrario *nombre_y_apellido* debe valer la inicial del nombre y luego el apellido separado por un espacio. Si todavía no se cumple la restricción entonces el valor será la inicial del nombre y las primeras 24 letras del apellido. Mostrar el nombre resultante."
      ]
    },
    {
      "cell_type": "code",
      "metadata": {
        "id": "qsyMK1YUR-0Y"
      },
      "source": [
        "nombre = input(\"Ingrese el nombre: \")\n",
        "apellido = input(\"Ingrese el apellido: \")\n",
        "\n",
        "nombre_y_apellido = nombre + \" \" + apellido\n",
        "\n",
        "# El largo es mayor a 26?\n",
        "if len(nombre_y_apellido) > 26:\n",
        "  print(\"Nombre no admitido\")\n",
        "else:\n",
        "  print(\"Nombre admitido\")"
      ],
      "execution_count": null,
      "outputs": []
    },
    {
      "cell_type": "code",
      "metadata": {
        "id": "uCfOg9NdRvyw"
      },
      "source": [
        "# Desafío mayor\n",
        "\n",
        "nombre = input(\"Ingrese el nombre: \")\n",
        "apellido = input(\"Ingrese el apellido: \")\n",
        "\n",
        "nombre_y_apellido = nombre + \" \" + apellido\n",
        "\n",
        "# El largo es mayor a 26?\n",
        "if len(nombre_y_apellido) > 26:\n",
        "  nombre_y_apellido = nombre[0] + \" \" + apellido\n",
        "\n",
        "  # El largo todavia es mayor a 26?\n",
        "  if len(nombre_y_apellido) > 26:\n",
        "    nombre_y_apellido = nombre[0] + \" \" + apellido[:24]\n",
        "\n",
        "print(nombre_y_apellido)"
      ],
      "execution_count": null,
      "outputs": []
    },
    {
      "cell_type": "markdown",
      "metadata": {
        "id": "3plZLq9dT-1t"
      },
      "source": [
        "### Ejercicios de listas\n",
        "1. Crear una lista con los números pares menores a 50.\n",
        "2. Crear una lista con el nombre de los días de la semana. Realizar un programa al cual se ingresa el día del año mediante un número de 0 a 364, que determine a qué día de la semana corresponde mediante un número de 0 (Lunes) a 6 (Domingo) y luego muestre en pantalla el elemento correspondiente de la lista (suponemos que el día 0 del año es Lunes).\n",
        "3. Realizar un programa que ordena nombres alfabeticamente. Primero debe pedir al usuario que ingrese el número de nombres que serán ingresados, luego debe pedir al usuario que ingrese un nombre y repetir ese pedido la cantidad de veces indicada. Los nombres se deben ir agregando a una lista. Por último, ordenar la lista alfabéticamente y mostrar en pantalla de a uno por vez los nombres ordenados (usando un for)."
      ]
    },
    {
      "cell_type": "markdown",
      "metadata": {
        "id": "WSsk5gTARHV6"
      },
      "source": [
        "#### Solución 1, versión A"
      ]
    },
    {
      "cell_type": "code",
      "metadata": {
        "id": "YC8rVjYOVSO0"
      },
      "source": [
        "numeros = []\n",
        "for i in range(50):\n",
        "    if i % 2 == 0:\n",
        "        numeros.append(i)\n",
        "print(numeros)"
      ],
      "execution_count": null,
      "outputs": []
    },
    {
      "cell_type": "markdown",
      "metadata": {
        "id": "MTuQhvPqRNzT"
      },
      "source": [
        "#### Solución 1, versión B"
      ]
    },
    {
      "cell_type": "code",
      "metadata": {
        "id": "ciYbvE5pRTSB"
      },
      "source": [
        "numeros = []\n",
        "for i in range(0,50,2):\n",
        "    numeros.append(i)\n",
        "print(numeros)"
      ],
      "execution_count": null,
      "outputs": []
    },
    {
      "cell_type": "markdown",
      "metadata": {
        "id": "eEUa1eECRdG2"
      },
      "source": [
        "#### Solución 1, versión C"
      ]
    },
    {
      "cell_type": "code",
      "metadata": {
        "id": "lhqxnxGxRedZ"
      },
      "source": [
        "numeros = [i for i in range(0,50,2)]\n",
        "print(numeros)"
      ],
      "execution_count": null,
      "outputs": []
    },
    {
      "cell_type": "markdown",
      "metadata": {
        "id": "RQCMf2TlSp-Q"
      },
      "source": [
        "#### Solución 2"
      ]
    },
    {
      "cell_type": "code",
      "metadata": {
        "id": "uGo7i0bHSuKj"
      },
      "source": [
        "weekdays = ['Lunes', 'Martes', 'Miercoles', 'Jueves', 'Viernes', 'Sabado', 'Domingo']\n",
        "\n",
        "day_of_the_year = int(input(\"Ingrese el dia del año: \"))\n",
        "day_of_the_week = day_of_the_year % 7\n",
        "print( weekdays[day_of_the_week] )"
      ],
      "execution_count": null,
      "outputs": []
    },
    {
      "cell_type": "markdown",
      "metadata": {
        "id": "_ucC51MhTSwy"
      },
      "source": [
        "#### Solución 3"
      ]
    },
    {
      "cell_type": "code",
      "metadata": {
        "id": "bJAWmvaUTVgK"
      },
      "source": [
        "cantidad = int(input(\"Cuantos nombres serán ingresados? \"))\n",
        "nombres = []\n",
        "\n",
        "for i in range(cantidad):\n",
        "  mensaje = \"Ingrese el nombre #\" + str(i+1) + \": \"\n",
        "  nuevo_nombre = input(mensaje)\n",
        "  nombres.append(nuevo_nombre)\n",
        "\n",
        "nombres.sort()\n",
        "\n",
        "print(\"Los nombres ingresados son: \")\n",
        "for n in nombres:\n",
        "  print(n)"
      ],
      "execution_count": null,
      "outputs": []
    },
    {
      "cell_type": "markdown",
      "metadata": {
        "id": "eK4Lm4w9WHfk"
      },
      "source": [
        "### Mini-desafío: Diccionarios\n",
        "Realizar un programa que pida al usuario un número de legajo y el nombre completo, luego lo guarde en un diccionario.\n",
        "\n",
        "Usar dos celdas de codigo, en una crear el diccionario, y en la otra agregar el nombre y legajo, mostrar el contenido. La idea es que cuando se ejecute varias veces la segunda celda se agrege un nuevo nombre y legajo a lo que ya había sido almacenado en el diccionario."
      ]
    },
    {
      "cell_type": "code",
      "metadata": {
        "id": "2dcL9YmnWfbv"
      },
      "source": [
        "# celda 1\n",
        "dic = {}"
      ],
      "execution_count": null,
      "outputs": []
    },
    {
      "cell_type": "code",
      "metadata": {
        "id": "8yuSm7HoA54V"
      },
      "source": [
        "# celda 2\n",
        "\n",
        "nombre = input(\"Ingrese un nuevo nombre: \")\n",
        "legajo = int(input(\"Ingrese su número de legajo: \"))\n",
        "\n",
        "dic[legajo] = nombre\n",
        "\n",
        "print(dic)"
      ],
      "execution_count": null,
      "outputs": []
    },
    {
      "cell_type": "markdown",
      "metadata": {
        "id": "VWdCPrBJxITk"
      },
      "source": [
        "#### **Para un desafío mayor:** Mini-desafío: Diccionario²\n",
        "Se recibieron distintos postulantes para un empleo de traductor. Crear un diccionario en el cuál la *key* de cada elemento sea el nombre de un candidato y el *contenido* sea un diccionario de los idiomas que aprendió. Para armar el diccionario de idiomas de cada candidato, los elementos deben tener como *key* el nombre del idioma y como *contenido* el valor True o False para los siguientes idiomas: Español, Ingles, Chino, Frances, Italiano.\n",
        "\n",
        "Ejemplo del diccionario de idiomas:\n",
        "\n",
        "```\n",
        "{\"Español\":True, \"Ingles\":True, \"Chino\":False, \"Frances\":False, \"Italiano\":True}\n",
        "```\n",
        "\n",
        "Inventar valores para 5 candidatos.\n",
        "\n",
        "El usuario luego debe poder ingresar el nombre de un idioma y el programa deberá mostrar en pantalla el nombre de aquellos candidatos que aprendieron ese idioma."
      ]
    },
    {
      "cell_type": "code",
      "metadata": {
        "id": "Cu8waRJTVBdI"
      },
      "source": [
        "postulantes ={\n",
        "    \"Juan\":{\"Español\":True, \"Ingles\":True, \"Chino\":False, \"Frances\":False, \"Italiano\":True} , \n",
        "    \"Pablo\": {\"Español\":False, \"Ingles\":True, \"Chino\":True, \"Frances\":False, \"Italiano\":False}, \n",
        "    \"Carlos\":{\"Español\":True, \"Ingles\":False, \"Chino\":False, \"Frances\":True, \"Italiano\":True},\n",
        "    \"Ana\": {\"Español\":True, \"Ingles\":True, \"Chino\":True, \"Frances\":False, \"Italiano\":True},\n",
        "    \"Maria\": {\"Español\":False, \"Ingles\":True, \"Chino\":False, \"Frances\":False, \"Italiano\":True}\n",
        "}\n",
        "\n",
        "idioma = input(\"Qué idioma quiere traducir? \")\n",
        "\n",
        "print(\"Los siguientes traductores aprendieron ese idioma:\")\n",
        "\n",
        "# Recorro todos los postulantes\n",
        "for k in postulantes:\n",
        "  #Obtengo su diccionario de idiomas personal\n",
        "  dic_idioma = postulantes[k]\n",
        "  if dic_idioma[idioma] == True:\n",
        "    print( k )"
      ],
      "execution_count": null,
      "outputs": []
    },
    {
      "cell_type": "markdown",
      "metadata": {
        "id": "GTYqk43YWl_3"
      },
      "source": [
        "### Mini-desafío: Sets\n",
        "Se cuentan con varios sets que contienen las personas que les gusta un cierto sabor de helado:\n",
        "\n",
        "```\n",
        "vainilla = { \"Juan\", \"Marina\", \"Tomas\", \"Paula\" }\n",
        "chocolate = { \"Pedro\", \"Paula\", \"Marina\" }\n",
        "dulceDeLeche = { \"Juan\", \"Julian\", \"Pedro\", \"Marina\" }\n",
        "```\n",
        "\n",
        "Responder usando operaciones de sets:\n",
        "\n",
        "- Hay alguna persona que le gusten todos los gustos?\n",
        "\n",
        "- Hay alguna persona que le gusten la vainilla y no el dulce de leche?\n",
        "\n",
        "- Cuantas personas distintas tenemos?"
      ]
    },
    {
      "cell_type": "code",
      "metadata": {
        "id": "g3blObRMYI1O"
      },
      "source": [
        "vainilla = {\"Juan\",\"Marina\",\"Tomas\",\"Paula\"}\n",
        "chocolate = {\"Pedro\",\"Paula\",\"Marina\"}\n",
        "dulceDeLeche = {\"Juan\",\"Julian\",\"Pedro\",\"Marina\"}\n",
        "\n",
        "print(\"Le gustan todos los gustos:\", vainilla & chocolate & dulceDeLeche )\n",
        "\n",
        "print(\"Le gusta la vainilla y no el dulce de leche:\", vainilla-dulceDeLeche )\n",
        "\n",
        "print(\"Total de personas:\", len(vainilla|chocolate|dulceDeLeche) )"
      ],
      "execution_count": null,
      "outputs": []
    },
    {
      "cell_type": "markdown",
      "metadata": {
        "id": "hpW3cNya1ESA"
      },
      "source": [
        "# Ejercitación integradora\n",
        "$\\newcommand{\\dif}{\\bigstar}$$\\newcommand{\\facil}{\\color{\\green}{\\dif}}$ $\\newcommand{\\pieceofcake}{\\color{\\cyan}{\\dif}}$$\\newcommand{\\medio}{\\color{\\yellow}{\\dif\\dif}}$$\\newcommand{\\media}{\\medio}$$\\newcommand{\\normal}{\\medio}$  $\\newcommand{\\dificil}{\\color{\\orange}{\\dif\\dif\\dif}}$ $\\newcommand{\\imposible}{\\color{\\red}{\\dif\\dif\\dif\\dif}}$"
      ]
    },
    {
      "cell_type": "markdown",
      "metadata": {
        "id": "dz1uvBrZlIHA"
      },
      "source": [
        "### $\\facil$ Call me $\\frac{\\partial}{\\partial x}$, or $\\mathrm{diff}$ for short\n",
        "Una operacion muy comun al manejar datos es la derivada\n",
        "\n",
        "$$ \\frac{d }{dt} (\\mathrm{Datos}) $$\n",
        "\n",
        "Objetivo: Escribir una funcion que tome una lista de $n$ numeros y devuelva la *derivada discreta* de la lista de tamano $n-1$.\n",
        "\n",
        "Tips\n",
        "* $\\mathrm{derivada}[i]=x[i+1]-x[i]$ \n"
      ]
    },
    {
      "cell_type": "markdown",
      "metadata": {
        "id": "QHldLaTpQcCQ"
      },
      "source": [
        "#### Solución"
      ]
    },
    {
      "cell_type": "code",
      "metadata": {
        "id": "NwAlHXUVrc7M"
      },
      "source": [
        "## Derivada: Solución propuesta\n",
        "\n",
        "def derivada(x):\n",
        "    return [x[i]-x[i-1] for i in range(1,len(x))]\n",
        "\n",
        "z = [4,5,6]\n",
        "print(derivada(z))"
      ],
      "execution_count": null,
      "outputs": []
    },
    {
      "cell_type": "markdown",
      "metadata": {
        "id": "4toXeDzCIDwn"
      },
      "source": [
        "### $\\facil$ ¿Acaso hubo buhos aca?\n",
        "\n",
        "Definir una función que detecte si una palabra es un [palíndromo](https://es.wikipedia.org/wiki/Pal%C3%ADndromo) y devuelve True o False.\n",
        "\n",
        "**Ejemplos:**\n",
        "\n",
        "``palindromo( \"python\" ) => False``\n",
        "\n",
        "``palindromo( \"reconocer\" ) => True``\n",
        "\n",
        "``palindromo( \"Neuquén\" ) => False``\n",
        "\n",
        "$\\medio$ *Challenge*: Modificar la función para ignorar espacios, signos de puntuación, y que no haga distinción entre mayúsculas y minúsculas (pueden usar [str.lower()](https://docs.python.org/3/library/stdtypes.html?highlight=str.lower#str.lower)). Pueden usar el nombre del desafío como un palindromo de ejemplo.\n"
      ]
    },
    {
      "cell_type": "markdown",
      "metadata": {
        "id": "-9xjy-1lsQgH"
      },
      "source": [
        "#### Solución"
      ]
    },
    {
      "cell_type": "code",
      "metadata": {
        "id": "zQp_TJzPsTTU",
        "outputId": "0bf054f2-bef2-4fbc-a597-05f6c183a909",
        "colab": {
          "base_uri": "https://localhost:8080/"
        }
      },
      "source": [
        "def palindromo(texto):\n",
        "  return texto == texto[::-1]\n",
        "\n",
        "print( palindromo( \"python\" ) )\n",
        "print( palindromo( \"reconocer\" ) )\n",
        "print( palindromo( \"Neuquén\" ) )"
      ],
      "execution_count": null,
      "outputs": [
        {
          "output_type": "stream",
          "text": [
            "False\n",
            "True\n",
            "False\n"
          ],
          "name": "stdout"
        }
      ]
    },
    {
      "cell_type": "markdown",
      "metadata": {
        "id": "6n4-jFD4sUDk"
      },
      "source": [
        "#### Solución: Challenge"
      ]
    },
    {
      "cell_type": "code",
      "metadata": {
        "id": "cOmasbt5sWuT"
      },
      "source": [
        "def palindromo(texto):\n",
        "  puntuacion = {' ','.', ',', ':', ';', '-', '¿', '?', '¡', '!'}\n",
        "  nuevo_texto = ''\n",
        "  for letra in texto:\n",
        "    if letra not in puntuacion:\n",
        "      nuevo_texto += letra\n",
        "  texto = nuevo_texto.lower()\n",
        "  return texto == texto[::-1]\n",
        "\n",
        "print( palindromo( \"reconocer\" ) )\n",
        "print( palindromo( \"Neuquén\" ) )\n",
        "print( palindromo( \"¿Acaso hubo buhos aca?\" ) )\n",
        "print( palindromo( \"¡Arriba la birra!\" ) )\n",
        "print( palindromo( \"No di mi decoro, cedi mi don.\" ) )"
      ],
      "execution_count": null,
      "outputs": []
    },
    {
      "cell_type": "markdown",
      "metadata": {
        "id": "WQK4B7zHjucS"
      },
      "source": [
        "### $\\medio$ Menta y Dulce de leche\n",
        "\n",
        "**Introducción:**\n",
        "\n",
        "*Una de las muchas ventajas de los sets y los diccionarios es que permiten averiguar si contienen cierto elemento con gran velocidad, sin importar la cantidad de elementos que almacenan (esto se debe a que internamente utilizan una [función hash](https://es.wikipedia.org/wiki/Funci%C3%B3n_hash)). Acceder al valor asociado a cierta clave en un diccionario también es una operación muy veloz.*\n",
        "\n",
        "*En comparación, verificar si un elemento se encuentra dentro de una lista es lento, ya que el tiempo necesario es proporcional a la cantidad de elementos en la lista y para listas muy grandes con miles, millones o billones de elementos (como puede suceder en una base de datos) esto puede ser un problema importante. Sin embargo, una vez que se conoce el índice del elemento, acceder al elemento es una operación tan rápida como en un diccionario.*\n",
        "\n",
        "**Problema:**\n",
        "\n",
        "Volviendo de hacer las compras en el supermercado, pasas cerca de una heladería y decidís comprar helado para tus hermanos, los cuales son amantes de la menta granizada y del dulce de leche con nuez. El negocio ofrece helado en todo tipo de formato, desde mini-cucuruchos hasta potes de 1 kilo, y cada formato cuesta cierta cantidad de dinero. Decidís gastar exactamente todo el dinero que te queda luego de haber ido al supermercado, de forma tal que no sobre ni falte.\n",
        "\n",
        "Programar una función que recibe una lista con los precios de los distintos formatos en que se vende el helado, y además reciba la cantidad de dinero disponible para gastar. La función debe encontrar la manera de comprar cierto formato de helado sabor menta, y cierto formato sabor dulce de leche, de manera de gastar la totalidad del dinero disponible. En consecuencia, la cantidad de formatos seleccionados debe ser exactamente 2, está permitido seleccionar el mismo formato para ambos sabores de helado. La función debe devolver con *return* una lista de 2 elementos, los cuales serán los precios de los formatos de helado seleccionados. En caso de no existir una combinación que satisface los requisitos se debe devolver ``[-1, -1]``.\n",
        "\n",
        "**Tips:**\n",
        " - Usar un set o un diccionario como estructura de datos para mejorar la velocidad con la que el programa analiza si cierto elemento se encuentra dentro de los datos.\n",
        "\n",
        "**Ejemplos:**\n",
        "\n",
        "``buscar_precios( [1, 2, 3, 4, 5] , 8) => [3, 5]``\n",
        "\n",
        "``buscar_precios( [7, 4, 2, 6, 7, 7] , 4) => [2, 2]``\n",
        "\n",
        "``buscar_precios( [4, 3, 7, 5] , 5) => [-1, -1]``\n",
        "\n",
        "\n",
        "$\\dificil$ *Challenge*: Modificar la función para que el resultado sea 1 sólo número: La cantidad de maneras diferentes de conseguir el objetivo (si dos formatos tienen el mismo precio, igualmente califican como formatos diferentes)."
      ]
    },
    {
      "cell_type": "markdown",
      "metadata": {
        "id": "DD6GAhfxIJKx"
      },
      "source": [
        "#### Solución"
      ]
    },
    {
      "cell_type": "code",
      "metadata": {
        "id": "OtPrN6jRIJ4t"
      },
      "source": [
        "def buscar_precios(lista_precios, dinero):\n",
        "  # Convertir la lista en un set\n",
        "  set_precios = set(lista_precios)\n",
        "\n",
        "  # Iterar por todos los precios en el set\n",
        "  # Analizar si el dinero restante se encuentra en el set\n",
        "  for p in set_precios:\n",
        "    restante = dinero - p\n",
        "    if restante in set_precios:\n",
        "      return [p, restante]\n",
        "\n",
        "  # En caso de no lograr una combinación, devolver [-1, -1]\n",
        "  return [-1, -1]\n",
        "\n",
        "print(buscar_precios( [1, 2, 3, 4, 5] , 8))\n",
        "print(buscar_precios( [7, 4, 2, 6, 7, 7] , 4))\n",
        "print(buscar_precios( [4, 3, 7, 5] , 5))"
      ],
      "execution_count": null,
      "outputs": []
    },
    {
      "cell_type": "markdown",
      "metadata": {
        "id": "T-2T4936QvlX"
      },
      "source": [
        "#### Solución: Challenge"
      ]
    },
    {
      "cell_type": "code",
      "metadata": {
        "id": "9qwHYmviQxL5"
      },
      "source": [
        "def buscar_precios(lista_precios, dinero):\n",
        "  resultado = 0\n",
        "\n",
        "  # Convertir la lista en un diccionario\n",
        "  # Las claves serán los precios, los valores serán la cantidad de ocurrencias\n",
        "  dict_precios = dict()\n",
        "  \n",
        "  # Iterar por todos los precios en la lista\n",
        "  for p in lista_precios:\n",
        "    # Agregar los elementos previos al diccionario\n",
        "    dict_precios[p] = dict_precios.get(p, 0) + 1\n",
        "\n",
        "    # Analizar si el dinero restante se encuentra en el dict y cuantas veces\n",
        "    # Ya que solamente chequeamos con los elementos anteriores, evitamos el riesgo de contar doble\n",
        "    restante = dinero - p\n",
        "    if restante in dict_precios:\n",
        "      resultado += dict_precios[restante]\n",
        "\n",
        "  return resultado\n",
        "\n",
        "print(buscar_precios( [1, 2, 3, 4, 5, 4] , 8))\n",
        "print(buscar_precios( [7, 4, 2, 6, 7, 7] , 9))\n",
        "print(buscar_precios( [4, 3, 7, 5] , 5))"
      ],
      "execution_count": null,
      "outputs": []
    },
    {
      "cell_type": "markdown",
      "metadata": {
        "id": "0CqTiYpZG-AO"
      },
      "source": [
        "###$\\normal$  Une y triunfarás\n",
        "Se recibieron distintos postulantes para un empleo de traductor. Crear un **diccionario** en el cuál la *key* de cada elemento sea el nombre de un candidato y el *contenido* sea un **set** con los idiomas que aprendió.\n",
        "Inventar valores para 5 candidatos.\n",
        "\n",
        "- Mostrar en pantalla los idiomas que todos los candidatos aprendieron.\n",
        "- Mostrar en pantalla todos los candidatos que aprendieron por lo menos Español e Inglés.\n",
        "\n",
        "El usuario luego debe poder ingresar el nombre de un idioma y el programa deberá mostrar en pantalla el nombre de aquellos candidatos que aprendieron ese idioma."
      ]
    },
    {
      "cell_type": "markdown",
      "metadata": {
        "id": "8sQU5cvKIHve"
      },
      "source": [
        "#### Solución"
      ]
    },
    {
      "cell_type": "code",
      "metadata": {
        "id": "3q6_Qg93WeTk",
        "outputId": "3cc18da7-42f6-4e3d-8660-58e59b7b7556",
        "colab": {
          "base_uri": "https://localhost:8080/",
          "height": 109
        }
      },
      "source": [
        "postulantes = {\n",
        "    \"Juan\":{\"Español\", \"Ingles\", \"Italiano\"} , \n",
        "    \"Pablo\":{\"Ingles\", \"Chino\", \"Italiano\"}, \n",
        "    \"Carlos\":{\"Español\", \"Frances\", \"Italiano\"},\n",
        "    \"Ana\": {\"Español\", \"Ingles\", \"Chino\", \"Italiano\"},\n",
        "    \"Maria\": {\"Ingles\", \"Italiano\"}\n",
        "}\n",
        "\n",
        "# Creamos un set con todos los idiomas\n",
        "todos = {\"Español\", \"Ingles\", \"Chino\", \"Frances\", \"Italiano\"}\n",
        "\n",
        "for p in postulantes:\n",
        "  todos &= postulantes[p] # Es lo mismo que: todos = todos & postulantes[p]\n",
        "\n",
        "print(\"Todos los candidatos aprendieron estos idiomas:\")\n",
        "for i in todos:\n",
        "  print(i)\n",
        "\n",
        "esp_ing = set() #Creamos un set vacio\n",
        "for p in postulantes:\n",
        "  if \"Español\" in postulantes[p] and \"Ingles\" in postulantes[p]:\n",
        "    esp_ing.add(p)\n",
        "\n",
        "print(\"Los candidatos que aprendieron al menos Español e Inglés:\")\n",
        "for i in esp_ing:\n",
        "  print(i)"
      ],
      "execution_count": 6,
      "outputs": [
        {
          "output_type": "stream",
          "text": [
            "Todos los candidatos aprendieron estos idiomas:\n",
            "Italiano\n",
            "Los candidatos que aprendieron al menos Español e Inglés:\n",
            "Juan\n",
            "Ana\n"
          ],
          "name": "stdout"
        }
      ]
    },
    {
      "cell_type": "markdown",
      "metadata": {
        "id": "3YitqSp9Z3sD"
      },
      "source": [
        "###$\\normal$ Las naranjas de Miguel \n",
        "Miguel vive en un pueblo frutero con su hermana en el valle de Oz. Todos los días cosecha bananas y naranjas de su campo. Como son abundantes, suele darle 2 bananas y 1 naranja a su hermana. No obstante Miguel siempre quiere quedarse con por lo menos una naranja, por lo cual le da una naranja a su hermana solo cuando se cosechan al menos 2 naranjas\n",
        "\n",
        "Miguel ahora quiere modernizarse, compró una cinta transportadora que detecta cada fruta que la atraviesa y te pide ayuda para  escribir un programa que reciba el código generado por la máquina y *devuelva la cantidad de bananas y naranjas que le quedarán* luego de quitar las frutas que le dará a su hermana.\n",
        "\n",
        "``\n",
        "ejemploCodigoDePedido = \"BBBBBNNNNNNNN\"\n",
        "``\n",
        "\n",
        "Cada N representa una naranja y cada B representa una banana.\n",
        "\n",
        "**Tips**\n",
        "* La función `list()` toma un string y lo convierte a una lista\n",
        "\n",
        "```\n",
        "P = list( ejemploCodigoDePedido )\n",
        ">> P = ['B', 'B', 'B', 'B', 'B', 'N', 'N', 'N', 'N', 'N', 'N', 'N', 'N']\n",
        "```"
      ]
    },
    {
      "cell_type": "markdown",
      "metadata": {
        "id": "a6klAEheQdHg"
      },
      "source": [
        "#### Solución"
      ]
    },
    {
      "cell_type": "code",
      "metadata": {
        "id": "81Kzws-ka5L9"
      },
      "source": [
        "## Las naranjas de Miguel: Solución propuesta\n",
        "\n",
        "P = \"BNBBBBN\"  \n",
        "\n",
        "def leerPedido(pedido):\n",
        "    naranjas=0\n",
        "    bananas=0\n",
        "    for i in range(len(pedido)): \n",
        "        letra = pedido[i]\n",
        "        if letra==\"N\": \n",
        "            naranjas+=1 \n",
        "        else:\n",
        "            bananas+=1\n",
        "    return naranjas,bananas\n",
        "\n",
        "def cuantasDar(naranjas,bananas):\n",
        "    naranjasParaHermana = 0\n",
        "    bananasParaHermana = 0\n",
        "    if naranjas<2:\n",
        "        naranjasParaHermana = 0\n",
        "    else:\n",
        "        naranjasParaHermana = 1 \n",
        "\n",
        "    if bananas > 1:\n",
        "        bananasParaHermana = 2\n",
        "    else:\n",
        "        bananasParaHermana = bananas\n",
        "\n",
        "    return naranjasParaHermana,bananasParaHermana\n",
        "\n",
        "n,b = leerPedido(P) #Leo pedido y guardo a memoria las frutas que tengo\n",
        "nh,bh = cuantasDar(n,b) #Aqui calculo naranjas para darle a la hermana\n",
        "\n",
        "print(\"Bienvenido Miguel. Hoy te quedaron \",n-nh,\" Naranja(s) y \",b-bh,\" banana(s).\")"
      ],
      "execution_count": null,
      "outputs": []
    },
    {
      "cell_type": "markdown",
      "metadata": {
        "id": "cCUOtpRTcRBx"
      },
      "source": [
        "###$\\dificil$ Convirtiendo números\n",
        "\n",
        "Después de usar tantas veces la instrucción ``int()`` para realizar conversiones, uno empieza a preguntarse ¿Será muy complicado convertir textos a números?\n",
        "\n",
        "Para poner esto a prueba, les proponemos crear su propio ``int()``. Para lograrlo deben definir una funcion ``text2number()`` que reciba como parámetro una variable de tipo *string* y devuelva un número entero correspondiente a la conversión, tal como funciona ``int()``. Los requisitos que debe cumplir la entrada para ser considerada válida son:\n",
        " - Al inicio puede contener o no cierta cantidad de espacios ``' '``.\n",
        " - Luego puede o no tener 1 caracter de signo: ``'+'`` ó ``'-'``.\n",
        " - Luego tiene cierta cantidad de caracteres numéricos: entre ``'0'`` y ``'9'``.\n",
        " - Por último puede contener o no cierta cantidad de espacios ``' '``.\n",
        "\n",
        "Como buena práctica de programación, les recomendamos considerar diferentes casos límites para verificar que el código logra manejarlos adecuadamente, además de ejemplos válidos también comprobar donde las condiciones no se cumplen o estan en el límite de cumplirse. De esa forma pueden asegurarse de que su código hace lo que esperaban en todo tipo de situaciones.\n",
        "\n",
        "Quedará a su criterio definir lo que hace la función cuando la entrada no se considera válida.\n",
        "\n",
        "**Tips:**\n",
        "* Al igual que las listas, los strings son \"iterables\". Los tipos de datos \"iterables\" permiten entre otras cosas realizar un *for* que recorre todos sus elementos:\n",
        "```\n",
        "texto = \"Hola Mundo!\"\n",
        "for letra in texto:\n",
        "    print(letra)\n",
        "```\n",
        "* Para obtener el valor numérico de 1 sólo caracter comprendido entre ``'0'`` y ``'9'`` pueden definir un diccionario como el siguiente:\n",
        "\n",
        " ```python\n",
        "numeros = {'0':0, '1':1, '2':2, '3':3, '4':4, '5':5, '6':6 '7':7, '8':8 , '9':9}\n",
        "```\n",
        "Una alternativa más sofisticada involucra el llamado código ASCII, y se relaciona con la forma en la cual los caracteres son representados en la memoria. Usando el comando ``ord()`` se obtiene el código ASCII de un caracter, y restando ``ord('0')`` se obtiene el valor numérico de un caracter entre ``'0'`` y ``'9'``:\n",
        "```\n",
        "caracter = '5'\n",
        "numero = ord(caracter) - ord('0')\n",
        "```"
      ]
    },
    {
      "cell_type": "code",
      "metadata": {
        "id": "zKj9FXviYZcq"
      },
      "source": [
        "def text2number(text):\n",
        "  numeros = {'0':0, '1':1, '2':2, '3':3, '4':4, '5':5, '6':6, '7':7, '8':8 , '9':9}\n",
        "\n",
        "  number = 0\n",
        "  sign = 1\n",
        "\n",
        "  i = 0\n",
        "  while text[i] == ' ':\n",
        "    i += 1\n",
        "    if i == len(text):\n",
        "      return None # Inválido, sólo hay espacios\n",
        "\n",
        "  if text[i] == '+':\n",
        "    sign = 1      # Positivo\n",
        "    i += 1\n",
        "  if text[i] == '-':\n",
        "    sign = -1     # Negativo\n",
        "    i += 1\n",
        "\n",
        "  if i == len(text):\n",
        "    return None # Inválido, sólo hay espacios y/o signos +-\n",
        "\n",
        "  while i < len(text):\n",
        "    if text[i] in numeros:\n",
        "      number *= 10                 # Multiplico por 10 lo que tenía\n",
        "      number += numeros[ text[i] ] # y sumo el nuevo dígito\n",
        "    elif text[i] != ' ':\n",
        "      return None # Inválido, no es ni número ni espacio\n",
        "    else:\n",
        "      break  # Llegué a un espacio\n",
        "    i += 1\n",
        "\n",
        "  if i < len(text):\n",
        "    while text[i] == ' ':\n",
        "      i += 1\n",
        "      if i == len(text):\n",
        "        return sign*number # Válido, llegué al final\n",
        "    else:\n",
        "      return None          # Inválido, el número ya terminó y no es un espacio\n",
        "  else:\n",
        "    return sign*number     # Válido, no hay más espacios despues del número\n",
        "\n",
        "print(text2number('   +123   '))\n",
        "print(text2number(' 4 5 6 '))\n",
        "print(text2number(' -789 '))\n",
        "print(text2number(' - 123 '))\n",
        "print(text2number('456'))"
      ],
      "execution_count": null,
      "outputs": []
    },
    {
      "cell_type": "markdown",
      "metadata": {
        "id": "58bbfFzqurNj"
      },
      "source": [
        "### $\\dificil$ Dr. Chaos, el malevolo semiótico\n",
        "\n",
        "\"Chaos es caos en inglés\" te diría Dr. Chaos, charlando con una taza de té Chai en la mano. En verdad no es tán malo como su nombre lo hace aparentar... si es que tenes un buen manejo de los idiomas.\n",
        "\n",
        "Dr. Chaos esta armando un diccionario. Este diccionario tiene la particularidad de no tener definiciones; el diccionario de Dr. Chaos define *una palabra como otra*. Dr. Chaos quiere comenzar a traducir la literatura de todo el mundo usando el diccionario y ha venido a ti, el *Number One* programador de Python. \n",
        "\n",
        "**Objetivo:** Cambiar las palabras de una oración usando el diccionario de Dr. Chaos e imprimir la nueva oración en el lenguaje unificado.\n",
        "\n",
        "*Ejemplo:*\n",
        "\n",
        "``\n",
        "diccionario = {\"hola\":\"你好\",\"como\":\"how\",\"estás\":\"estáis\"}\n",
        "``\n",
        "\n",
        "``\n",
        "oracion = \"hola, como estás?\"\n",
        "``\n",
        "\n",
        "\n",
        "*OUTPUT:*\n",
        "``\n",
        "\"你好, how estáis?\"\n",
        "``\n",
        "\n",
        "*Ejemplo 2:*\n",
        "\n",
        "``\n",
        "diccionario = {\"ve\":\"regards\",\"bien\":\"bom\",\"se\":\"it\"}\n",
        "``\n",
        "\n",
        "``\n",
        "oracion = \"se ve bien!\"\n",
        "``\n",
        "\n",
        "**Tips:** \n",
        "\n",
        "* El programa debería tratar los símbolos de interrogación, exclamación, los puntos y comas como `whitespace`, es decir, espacio en blanco.\n",
        " \n",
        "* Suponer que las letras son todas minusculas.\n"
      ]
    },
    {
      "cell_type": "markdown",
      "metadata": {
        "id": "4zEDfhn7QfrW"
      },
      "source": [
        "#### Solución"
      ]
    },
    {
      "cell_type": "code",
      "metadata": {
        "id": "kDvIsxZCxawO"
      },
      "source": [
        "# Solución 1\n",
        "\n",
        "espanolToChaos = {\"ve\":\"regards\",\"bien\":\"bom\",\"se\":\"it\"}\n",
        "oracion = \"se ve bien!\"\n",
        "whitespace = [\" \",\".\",\",\",\"!\",\"?\"]\n",
        "\n",
        "resultado = \"\"\n",
        "palabra = \"\"\n",
        "for i in range(0,len(oracion)):\n",
        "    letra=oracion[i]\n",
        "    if letra in whitespace: # reviso si la letra es una espacio en blanco\n",
        "        if palabra!=\"\":\n",
        "            resultado = resultado+espanolToChaos[palabra] # traducir la palabra que tengo hasta ahora y agregarla\n",
        "    \n",
        "        resultado = resultado+letra # agrego el espacio a la palabra nueva\n",
        "        palabra=\"\"\n",
        "    else:\n",
        "        palabra = palabra+letra\n",
        "        \n",
        "print(resultado)"
      ],
      "execution_count": null,
      "outputs": []
    },
    {
      "cell_type": "code",
      "metadata": {
        "id": "8va1BwGcGuhe"
      },
      "source": [
        "# Solución 2\n",
        "\n",
        "espanolToChaos = {\"ve\":\"regards\",\"bien\":\"bom\",\"se\":\"it\"}\n",
        "oracion = \"se ve bien!\"\n",
        "whitespace = [\" \",\".\",\",\",\"!\",\"?\"]\n",
        "\n",
        "resultado = \"\"\n",
        "palabra = \"\"\n",
        "for letra in oracion:\n",
        "  if letra in whitespace:\n",
        "    resultado += espanolToChaos[ palabra ]\n",
        "    resultado += letra\n",
        "    print(palabra)\n",
        "    palabra = \"\"\n",
        "  else:\n",
        "    palabra += letra\n",
        "\n",
        "print(resultado)"
      ],
      "execution_count": null,
      "outputs": []
    },
    {
      "cell_type": "markdown",
      "metadata": {
        "id": "2a0QjbS3QrlX"
      },
      "source": [
        "###$\\imposible$ Quiero Retruco\n",
        "El [Truco](https://es.wikipedia.org/wiki/Truco_argentino) es un juego de cartas muy popular en Argentina. Se suele jugar con naipes españoles de 40 cartas, las cuales tienen 4 palos (basto, oro, espada y copa) y 10 números, 1,2,3,4,5,6,7,10,11 y 12.\n",
        "Si bien en esta ocasión no vamos a programar un juego de truco, si, vamos a resolver uno de los problemas más usuales que surgen cuando jugamos el cual es definir cual carta gana y cual carta pierde cuando hay un duelo entre dos cartas. \n",
        "\n",
        "<img src=\"https://steemitimages.com/640x0/http://k46.kn3.net/taringa/B/D/9/7/2/4/KevinTrimboli/338.png\" height=300 alt =\"Esquema de hierarquia de cartas para el juego truco argentino\" title=\"Un palo le gana a 7 espadas y ambos pierden ante una espada envainada? What?\">\n",
        "\n",
        "En la imagen podemos observar en orden de importancia de las cartas de izquierda a derecha. El 1 de espada es la más importante (y por lo tanto **siempre** gana) mientras que los 4s son las cartas de menor importancia (casi siempre pierden). Las cartas en la misma columna empatan si se enfrentan.\n",
        "\n",
        "- Programar una función con dos inputs tipo string **carta A** y **carta B** que retorne la carta ganadora (tipo string), o \"empate\" en caso de que lo haya. Ejemplos de como debería funcionar\n",
        "\n",
        "```\n",
        "   dueloDeCartas(\"1 de espada\", \"1 de basto\")\n",
        "   >>> 1 de basto\n",
        "   dueloDeCartas(\"7 de oro\", \"5 de oro\")\n",
        "   >>> 7 de oro\n",
        "   dueloDeCartas(\"11 de copa\", \"11 de espada\")\n",
        "   >>> empate\n",
        "```\n",
        "\n",
        "Hint: usar un diccionario donde la **clave** sea el nombre de la carta, y su **contenido** su importancia (un tipo **int**). Aprovechen la instrucción for para evitar tener que cargar todas las cartas una por una\n",
        "\n",
        "- A veces se suele jugar al truco con más de dos jugadores. Podría ocurrir duelos en los que participan $n$ cartas. Programar una funcion cuyo input sea una lista de strings con todas las cartas y retorne la ganadora. (En caso de empate que retorne alguna de las ganadoras, o un arreglo con las ganadoras)\n",
        "Ejemplos de como podria funcionar funcionar\n",
        "```\n",
        "   dueloDeCartas([\"7 de basto\",\"7 de espada\",\"12 de espada\", \"4 de espada\"])\n",
        "   >>> \"7 de espada\"\n",
        "   dueloDeCartas([\"4 de espada\",\"7 de basto\",\"7 de copa\", \"5 de copa\"]) #también podría haber dado 7 de basto \n",
        "   >>> \"7 de copa\"\n",
        "```"
      ]
    },
    {
      "cell_type": "markdown",
      "metadata": {
        "id": "FdsIdtdhQgpn"
      },
      "source": [
        "#### Solución"
      ]
    },
    {
      "cell_type": "code",
      "metadata": {
        "id": "L3jCZ-sc6Nd-"
      },
      "source": [
        "#Solucion 1: diccionario\n",
        "\n",
        "# antes de hacer la funcion dueloDeCartas, creamos el diccionario que leera \n",
        "#  para saber que carta gana\n",
        "valorCarta = dict() \n",
        "\n",
        " # casos especiales: esto no lo puedo hacer con un for\n",
        "valorCarta[\"1 de espada\"] = 14    \n",
        "valorCarta[\"1 de basto\"] = 13     \n",
        "valorCarta[\"7 de espada\"] = 12\n",
        "valorCarta[\"7 de oro\"] = 11\n",
        "\n",
        "# el resto de los valores son de 10 para abajo\n",
        "valor = 10\n",
        "for x in [3,2,1,12,11,10,7,6,5,4]: \n",
        "    # itero por los numeros de las cartas, de la mas a la menos poderosa\n",
        "    if x == 1: # con este if elijo que palos de este numero guardo\n",
        "        palos = [\"oro\",\"copa\"] \n",
        "    elif x == 7:\n",
        "        palos = [\"basto\", \"copa\"]\n",
        "    else: \n",
        "        palos = [\"oro\",\"copa\",\"basto\",\"espada\"]\n",
        "    \n",
        "    for palo in palos:\n",
        "        valorCarta[str(x)+\" de \" + palo] = valor\n",
        "        # para todos los palos que elegi para este numero, guardo la carta\n",
        "        # con el mismo valor\n",
        "    \n",
        "    valor -= 1 # la carta que viene es menos poderosa\n",
        "\n",
        "def dueloDeCartas(cartaA, cartaB):\n",
        "    # usamos el diccionario que creamos para saber el valor de las cartas\n",
        "    # que nos pasan\n",
        "    if valorCarta[cartaA] > valorCarta[cartaB]:\n",
        "        return cartaA\n",
        "    elif valorCarta[cartaA] < valorCarta[cartaB]:\n",
        "        return cartaB\n",
        "    else:\n",
        "        return \"empate\"\n",
        "    \n",
        "    \n",
        "# verificamos que la funcion ande correctamente\n",
        "print(dueloDeCartas(\"7 de basto\",\"1 de basto\")) #encontre más errores! el 7 trae problems!\n",
        "print(dueloDeCartas(\"1 de copa\", \"1 de oro\"))\n",
        "print(dueloDeCartas(\"7 de copa\",\"3 de copa\"))\n",
        "\n",
        "\n",
        "# verificamos que todos los valores esten correctamente calculados\n",
        "print(valorCarta) "
      ],
      "execution_count": null,
      "outputs": []
    },
    {
      "cell_type": "code",
      "metadata": {
        "id": "SvEw17LdV6hb"
      },
      "source": [
        "#Solucion 2: lista\n",
        "\n",
        "cartas = [[\"1 de espada\"],\n",
        "          [\"1 de basto\"],\n",
        "          [\"7 de espada\"],\n",
        "          [\"7 de oro\"],\n",
        "          [\"3 de espada\", \"3 de basto\", \"3 de oro\", \"3 de copa\"],\n",
        "          [\"2 de espada\", \"2 de basto\", \"2 de oro\", \"2 de copa\"]]\n",
        "\n",
        "def dueloDeCartas(cartaA, cartaB):\n",
        "  resultado = \"\"\n",
        "  for c in cartas:\n",
        "    if cartaA in c and cartaB in c:\n",
        "      resultado = \"empate\"\n",
        "      break\n",
        "    if cartaA in c:\n",
        "      resultado = cartaA\n",
        "      break\n",
        "    if cartaB in c:\n",
        "      resultado = cartaB\n",
        "      break\n",
        "  return resultado\n",
        "\n",
        "print(dueloDeCartas(\"7 de basto\",\"1 de basto\"))\n",
        "print(dueloDeCartas(\"2 de copa\", \"3 de oro\"))\n",
        "print(dueloDeCartas(\"7 de copa\",\"3 de copa\"))"
      ],
      "execution_count": null,
      "outputs": []
    }
  ]
}