{
  "nbformat": 4,
  "nbformat_minor": 0,
  "metadata": {
    "colab": {
      "name": "LiveByAri.ipynb",
      "provenance": [],
      "authorship_tag": "ABX9TyPOkeDRGWr+Es0fDIF5aAO0",
      "include_colab_link": true
    },
    "kernelspec": {
      "name": "python3",
      "display_name": "Python 3"
    }
  },
  "cells": [
    {
      "cell_type": "markdown",
      "metadata": {
        "id": "view-in-github",
        "colab_type": "text"
      },
      "source": [
        "<a href=\"https://colab.research.google.com/github/IEEESBITBA/Curso-Python/blob/master/LiveByAri.ipynb\" target=\"_parent\"><img src=\"https://colab.research.google.com/assets/colab-badge.svg\" alt=\"Open In Colab\"/></a>"
      ]
    },
    {
      "cell_type": "code",
      "metadata": {
        "id": "1RJ_CGkekIfn",
        "colab_type": "code",
        "colab": {}
      },
      "source": [
        "t= float(input(\"Temperatura\"))\n",
        "print(CAF(t))\n",
        "def CAF(t):\n",
        "    if t >  -273.15:  \n",
        "        print(1.8*t+32)\n",
        "    else:\n",
        "        print(\"Advertencia\")"
      ],
      "execution_count": 0,
      "outputs": []
    },
    {
      "cell_type": "markdown",
      "metadata": {
        "id": "B4SY9OKvkgJz",
        "colab_type": "text"
      },
      "source": [
        "Ejercicio "
      ]
    },
    {
      "cell_type": "code",
      "metadata": {
        "id": "9hSqEC9Wkdwj",
        "colab_type": "code",
        "colab": {}
      },
      "source": [
        "x=0\n",
        "while x<=4:\n",
        "  x+=1\n",
        "  print(x)\n",
        "  if x==5:\n",
        "     x-=1\n",
        "     print(x)\n",
        "  else:\n",
        "     print(0)"
      ],
      "execution_count": 0,
      "outputs": []
    },
    {
      "cell_type": "markdown",
      "metadata": {
        "id": "FIkzDcjkk1ej",
        "colab_type": "text"
      },
      "source": [
        "Integradora"
      ]
    },
    {
      "cell_type": "code",
      "metadata": {
        "id": "D17E_hG0kwA1",
        "colab_type": "code",
        "colab": {}
      },
      "source": [
        "#Cant. de fichas para un n máximo\n",
        "n=int(input(\"Ingrese el número máximo: \"))\n",
        "def cantfichas(n):\n",
        "  x=0\n",
        "  fichas=0\n",
        "  for x in range(1,n+2):\n",
        "    fichas+=x\n",
        "  return fichas\n",
        "\n",
        "print(\"La cantidad de fichas es de: \",cantfichas(n))\n",
        "\n",
        "#Mostrar fichas para el n máximo\n",
        "print(\"Las fichas son: \")\n",
        "def mostrarfichas(n):\n",
        "  x=0\n",
        "  y=0\n",
        "  for x in range (n+1):\n",
        "    while y<=n:\n",
        "      print(x,\"-\",y)\n",
        "      y+=1\n",
        "    x+=1\n",
        "    y=x\n",
        "\n",
        "print(mostrarfichas(n))"
      ],
      "execution_count": 0,
      "outputs": []
    },
    {
      "cell_type": "markdown",
      "metadata": {
        "id": "-XTOb2YemJ3T",
        "colab_type": "text"
      },
      "source": [
        "Funciones"
      ]
    },
    {
      "cell_type": "code",
      "metadata": {
        "id": "78WgSx95mKyD",
        "colab_type": "code",
        "colab": {}
      },
      "source": [
        "usuario = input(\"Ingrese su usuario: \")\n",
        "password = input(\"Ingrese su contraseña: \")\n",
        "\n",
        "def chequearCredenciales(usuario, password):\n",
        "if usuario == \"Juan\" and password ==\"12345_\":\n",
        "print (\"Acceso OK\")\n",
        "else:\n",
        "print (\"Acceso denegado\")"
      ],
      "execution_count": 0,
      "outputs": []
    },
    {
      "cell_type": "markdown",
      "metadata": {
        "id": "UQZnZsfKlRF7",
        "colab_type": "text"
      },
      "source": [
        "Cuerdas"
      ]
    },
    {
      "cell_type": "code",
      "metadata": {
        "id": "F8cQmPJplRqT",
        "colab_type": "code",
        "colab": {}
      },
      "source": [
        "import math\n",
        "\n",
        "rad = float(input(\"Ingrese el radio: \"))\n",
        "ang = float(input(\"Ingrese el ángulo: \"))\n",
        "\n",
        "def arco(rad,ang) :\n",
        "    return ang*rad\n",
        "    \n",
        "def cuerda(rad,ang) :\n",
        "    return 2*rad*math.sin(ang/2)\n",
        "\n",
        "# Obtengo el ángulo entre 0 y 2π \n",
        "mod = (ang % (2*math.pi) + (2*math.pi)) % (2*math.pi)\n",
        "\n",
        " min(arco(rad,mod),cuerda(rad,mod))"
      ],
      "execution_count": 0,
      "outputs": []
    },
    {
      "cell_type": "markdown",
      "metadata": {
        "id": "SQcWW6Yflfds",
        "colab_type": "text"
      },
      "source": [
        "Lothar"
      ]
    },
    {
      "cell_type": "code",
      "metadata": {
        "id": "1owdt3kRlgZb",
        "colab_type": "code",
        "colab": {}
      },
      "source": [
        "numero = int(input(\"Ingrese un número: \"))\n",
        "                   \n",
        "def espar(nro) : \n",
        "    if nro % 2 == 0 :\n",
        "        return True\n",
        "    else :\n",
        "        return False\n",
        "\n",
        "while numero != 1 : \n",
        "    if espar(numero) == True : \n",
        "        print(numero)\n",
        "        numero /= 2\n",
        "    else :\n",
        "        print(numero)\n",
        "        numero *= 3\n",
        "        numero += 1\n",
        "print(1)"
      ],
      "execution_count": 0,
      "outputs": []
    },
    {
      "cell_type": "code",
      "metadata": {
        "id": "XF4_esJSljYD",
        "colab_type": "code",
        "colab": {}
      },
      "source": [
        "Lothar mejorado"
      ],
      "execution_count": 0,
      "outputs": []
    },
    {
      "cell_type": "code",
      "metadata": {
        "id": "5yPjFKGZlhG8",
        "colab_type": "code",
        "colab": {}
      },
      "source": [
        "numero = int(input(\"Ingrese un número: \"))\n",
        "                   \n",
        "def espar(nro) : \n",
        "    if nro % 2 == 0 :\n",
        "        return True\n",
        "    else :\n",
        "        return False\n",
        "        \n",
        "print(\"Numero ingresado\",numero)\n",
        "\n",
        "while numero != 1 : \n",
        "    if espar(numero): \n",
        "        numero /= 2\n",
        "    else :\n",
        "        numero *= 3\n",
        "        numero += 1\n",
        "    print(numero)"
      ],
      "execution_count": 0,
      "outputs": []
    },
    {
      "cell_type": "markdown",
      "metadata": {
        "id": "tQDfN45jlr1s",
        "colab_type": "text"
      },
      "source": [
        "Y cuál de las dos siguientes opciones es más eficiente?\n",
        "\n",
        "numero *= 3\n",
        "numero += 1\n",
        "o\n",
        "\n",
        "numero = (numero * 3) + 1"
      ]
    },
    {
      "cell_type": "markdown",
      "metadata": {
        "id": "Gool6Y0kl2Kj",
        "colab_type": "text"
      },
      "source": [
        "Primalidad - error"
      ]
    },
    {
      "cell_type": "code",
      "metadata": {
        "id": "8qjid3X7l1sj",
        "colab_type": "code",
        "colab": {}
      },
      "source": [
        "n=int(input('ingrese un número: '))\n",
        "\n",
        "for x in range(2,n):\n",
        "  if n%x ==0:\n",
        "    print(\"El número NO es primo\")\n",
        "  else:\n",
        "    print(\"El número es primo\")"
      ],
      "execution_count": 0,
      "outputs": []
    },
    {
      "cell_type": "markdown",
      "metadata": {
        "id": "rIG4PMQjBgsV",
        "colab_type": "text"
      },
      "source": [
        "Pregunta"
      ]
    },
    {
      "cell_type": "code",
      "metadata": {
        "id": "0k2KvTJTBlt4",
        "colab_type": "code",
        "outputId": "6fa69cd3-0e36-496c-fc0f-c027dc8eddfc",
        "colab": {
          "base_uri": "https://localhost:8080/",
          "height": 51
        }
      },
      "source": [
        "\n",
        "\n",
        "def miFuncion():\n",
        "    e = 0\n",
        "\n",
        "    while e < 10:\n",
        "        print(e)\n",
        "        return e\n",
        "        e += 1\n",
        "\n",
        "miFuncion()\n",
        "\n",
        "# editor de texto: VISUAL STUDIO ATOM O SUBLIME TEXT (instalar python aparte)\n",
        "\n",
        "# IDE: pycharm\n",
        "    \n",
        "\n",
        "\n",
        "\n",
        "\n"
      ],
      "execution_count": 0,
      "outputs": [
        {
          "output_type": "stream",
          "text": [
            "0\n"
          ],
          "name": "stdout"
        },
        {
          "output_type": "execute_result",
          "data": {
            "text/plain": [
              "0"
            ]
          },
          "metadata": {
            "tags": []
          },
          "execution_count": 6
        }
      ]
    },
    {
      "cell_type": "markdown",
      "metadata": {
        "id": "BdykfMHtCYgx",
        "colab_type": "text"
      },
      "source": [
        ""
      ]
    },
    {
      "cell_type": "code",
      "metadata": {
        "id": "c_e4EV--IUJE",
        "colab_type": "code",
        "outputId": "f458ff8c-0935-4517-a538-dfb68e2d7e33",
        "colab": {
          "base_uri": "https://localhost:8080/",
          "height": 34
        }
      },
      "source": [
        "h = 5\n",
        "\n",
        "def miFuncion(a, b):\n",
        "    a = a * 2\n",
        "    b = b * 2\n",
        "    return a,b\n",
        "\n",
        "\n",
        "print(miFuncion(5, \"hola\"))\n"
      ],
      "execution_count": 0,
      "outputs": [
        {
          "output_type": "stream",
          "text": [
            "(10, 'holahola')\n"
          ],
          "name": "stdout"
        }
      ]
    },
    {
      "cell_type": "code",
      "metadata": {
        "id": "q-bBP0TEKpWI",
        "colab_type": "code",
        "outputId": "7497f2c8-0764-4fb7-c442-763fab12ae94",
        "colab": {
          "base_uri": "https://localhost:8080/",
          "height": 34
        }
      },
      "source": [
        "a = 5\n",
        "b = 2\n",
        "\n",
        "a, b = b, a\n",
        "print(a, b)\n"
      ],
      "execution_count": 0,
      "outputs": [
        {
          "output_type": "stream",
          "text": [
            "2 5\n"
          ],
          "name": "stdout"
        }
      ]
    },
    {
      "cell_type": "markdown",
      "metadata": {
        "id": "7bcTflMbRC8i",
        "colab_type": "text"
      },
      "source": [
        ""
      ]
    },
    {
      "cell_type": "code",
      "metadata": {
        "id": "QG41NRmGRDgv",
        "colab_type": "code",
        "outputId": "78327d19-8e65-444c-a0a1-95345e9ed1e1",
        "colab": {
          "base_uri": "https://localhost:8080/",
          "height": 51
        }
      },
      "source": [
        "def miFunction(a, b):\n",
        "    \n",
        "    print(a + b)\n",
        "\n",
        "\n",
        "print(miFunction(5, 2))\n"
      ],
      "execution_count": 0,
      "outputs": [
        {
          "output_type": "stream",
          "text": [
            "7\n",
            "None\n"
          ],
          "name": "stdout"
        }
      ]
    },
    {
      "cell_type": "code",
      "metadata": {
        "id": "OlEBU9eSRMWO",
        "colab_type": "code",
        "outputId": "b1bd80f7-6024-4ce5-b6ba-d668d0d8d289",
        "colab": {
          "base_uri": "https://localhost:8080/",
          "height": 51
        }
      },
      "source": [
        "def miFunction(a, b):\n",
        "\n",
        "    return a + b\n",
        "\n",
        "h = miFunction(5, 2)\n"
      ],
      "execution_count": 0,
      "outputs": [
        {
          "output_type": "stream",
          "text": [
            "a =  5\n",
            "b =  2\n"
          ],
          "name": "stdout"
        }
      ]
    },
    {
      "cell_type": "code",
      "metadata": {
        "id": "uKKFaRlWW8fZ",
        "colab_type": "code",
        "outputId": "db02950d-7dae-43d7-9539-b38c3da15cb4",
        "colab": {
          "base_uri": "https://localhost:8080/",
          "height": 34
        }
      },
      "source": [
        "var = 10\n",
        "\n",
        "print(var)"
      ],
      "execution_count": 0,
      "outputs": [
        {
          "output_type": "stream",
          "text": [
            "10\n"
          ],
          "name": "stdout"
        }
      ]
    },
    {
      "cell_type": "code",
      "metadata": {
        "id": "1-pkXtLsYiAM",
        "colab_type": "code",
        "outputId": "69d63b9c-ba75-4ef6-fbf0-bec71aabc738",
        "colab": {
          "base_uri": "https://localhost:8080/",
          "height": 34
        }
      },
      "source": [
        "def miFunction(a):\n",
        "    return a\n",
        "\n",
        "print(miFunction(423.332))\n"
      ],
      "execution_count": 0,
      "outputs": [
        {
          "output_type": "stream",
          "text": [
            "423.332\n"
          ],
          "name": "stdout"
        }
      ]
    },
    {
      "cell_type": "code",
      "metadata": {
        "id": "bfR35dUJZGtW",
        "colab_type": "code",
        "outputId": "db896623-7086-404e-cf07-e8585f771a84",
        "colab": {
          "base_uri": "https://localhost:8080/",
          "height": 34
        }
      },
      "source": [
        "h = 7\n",
        "if h > 6:\n",
        "    print(\"h es mayor a 6\")\n",
        "\n"
      ],
      "execution_count": 0,
      "outputs": [
        {
          "output_type": "stream",
          "text": [
            "h es mayor a 6\n"
          ],
          "name": "stdout"
        }
      ]
    },
    {
      "cell_type": "code",
      "metadata": {
        "id": "6IH0lcsAZZOU",
        "colab_type": "code",
        "outputId": "7575e9c2-e8bd-4495-b059-0dfc05c49e28",
        "colab": {
          "base_uri": "https://localhost:8080/",
          "height": 187
        }
      },
      "source": [
        "h = 1\n",
        "for h in range(10):\n",
        "    print(h)\n",
        "    "
      ],
      "execution_count": 0,
      "outputs": [
        {
          "output_type": "stream",
          "text": [
            "0\n",
            "1\n",
            "2\n",
            "3\n",
            "4\n",
            "5\n",
            "6\n",
            "7\n",
            "8\n",
            "9\n"
          ],
          "name": "stdout"
        }
      ]
    },
    {
      "cell_type": "code",
      "metadata": {
        "id": "9QjDZSe-Zhk1",
        "colab_type": "code",
        "outputId": "921cf18c-faca-4eb6-bb88-93a740e63874",
        "colab": {
          "base_uri": "https://localhost:8080/",
          "height": 136
        }
      },
      "source": [
        "h = 1\n",
        "while h < 100:\n",
        "    print(h)\n",
        "    h *= 2\n"
      ],
      "execution_count": 0,
      "outputs": [
        {
          "output_type": "stream",
          "text": [
            "1\n",
            "2\n",
            "4\n",
            "8\n",
            "16\n",
            "32\n",
            "64\n"
          ],
          "name": "stdout"
        }
      ]
    }
  ]
}