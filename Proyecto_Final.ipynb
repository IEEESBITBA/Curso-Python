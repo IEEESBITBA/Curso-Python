{
  "nbformat": 4,
  "nbformat_minor": 0,
  "metadata": {
    "colab": {
      "name": "Trabajo integrador.ipynb",
      "provenance": [],
      "collapsed_sections": [],
      "include_colab_link": true
    },
    "kernelspec": {
      "name": "python3",
      "display_name": "Python 3"
    }
  },
  "cells": [
    {
      "cell_type": "markdown",
      "metadata": {
        "id": "view-in-github",
        "colab_type": "text"
      },
      "source": [
        "<a href=\"https://colab.research.google.com/github/IEEESBITBA/Curso-Python/blob/master/Trabajo_integrador.ipynb\" target=\"_parent\"><img src=\"https://colab.research.google.com/assets/colab-badge.svg\" alt=\"Open In Colab\"/></a>"
      ]
    },
    {
      "cell_type": "markdown",
      "metadata": {
        "id": "kegH31D9TmYk",
        "colab_type": "text"
      },
      "source": [
        "# **Curso introductorio de Python - Trabajo integrador**"
      ]
    },
    {
      "cell_type": "markdown",
      "metadata": {
        "id": "DMg0wMnCqXpa",
        "colab_type": "text"
      },
      "source": [
        "<img width=\"320\" height=\"150\" src=\"https://i.ibb.co/b52mZQG/ieee-cs.png\">"
      ]
    },
    {
      "cell_type": "markdown",
      "metadata": {
        "id": "Pxj3Bz92T-SE",
        "colab_type": "text"
      },
      "source": [
        "\n",
        "\n",
        "Este trabajo es un proyecto de desarrollo que servirá para que los participantes del curso introductorio de Python demuestren el conocimiento adquirido mediante la aplicación del lenguaje Python a un ejemplo de aplicación práctico.\n",
        "\n",
        "**Objetivos a evaluar en el trabajo**:\n",
        "\n",
        "*   Que el participante domine las bases de la programación en Python.\n",
        "*   Que el participante tenga conocimientos elementales sobre la lectura de archivos, procesamiento de datos, y visualización de datos.\n",
        "*   Que el participante pueda encontrar y aplicar conocimientos que vayan más allá de los explicados en el curso.\n",
        "*   Que el participante tenga una experiencia de aplicación de la programación Python a un ejemplo práctico.\n",
        "\n",
        "Se presentan diferentes opciones de proyectos, de dificultad comparable, para que cada uno pueda elegir el que considere más interesante, es decir que deben realizar uno sólo de los proyectos entre las opciones.\n"
      ]
    },
    {
      "cell_type": "markdown",
      "metadata": {
        "id": "ACxZpO29SxeN",
        "colab_type": "text"
      },
      "source": [
        "**Detalles de la entrega**\n",
        "\n",
        "*   **Si se eligen las opciones 1, 2 o 3:** Se debe entregar un archivo *.ipynb* (Jupyter Notebook), que podría ser descargado directamente desde Google Colaboratory, o editado con otro software, con los scripts ya ejecutados por ustedes.\n",
        "*   **Si se elige la opción 4:** Se debe entregar un zip con todos los archivos *.py*\n",
        "\n",
        "*   Además del código en Python, **se valorará en la corrección las explicaciones del funcionamiento del programa y los razonamientos de su solución**.\n",
        "*   El programa debe ser **robusto**, es decir, con pocas probabilidades de fallar al alterar su entrada. Una estrategia para detectar posibles fallos es imaginarse que una persona esta empeñada en producir un error en su programa y pensar: **¿Qué intentaría esta persona para romper el código?** Esto involucra, por ejemplo, contemplar casos en que el usuario ingrese texto cuando se esperaba un número, o que ingrese un valor desconocido, etc.\n",
        "*   La descripción de los proyectos especifica las características mínimas que deben tener. **Damos libertad para agregar funcionalidad o mejorar el proyecto si así lo desean, en tanto se cumpla con todo lo detallado en la descripción**.\n"
      ]
    },
    {
      "cell_type": "markdown",
      "metadata": {
        "id": "d6mrZ0toqrRx",
        "colab_type": "text"
      },
      "source": [
        "**Fecha de entrega**: **10 de Mayo de 2020**\n",
        "\n",
        "\n",
        "*   Deben completar [este formulario](https://bit.ly/PythonTP) para la pre-inscripción al trabajo práctico donde deben pre-elegir la consigna que quieren resolver. Les pedimos que lo completen lo antes posible para que podamos organizarnos, Pueden cambiar de opción en luego de haber enviado el form.\n",
        "\n",
        "*   El trabajo definitivo deben enviarlo a la siguiente casilla: curso.de.python.itba.entregas@gmail.com con el mail con el que llenaron el form.\n",
        "\n",
        "\n",
        "\n",
        "\n"
      ]
    },
    {
      "cell_type": "markdown",
      "metadata": {
        "id": "sGIp0nvGf9Ac",
        "colab_type": "text"
      },
      "source": [
        "**Corrección**\n",
        "\n",
        "*   Si el trabajo es aprobado se otorgara un certificado digital por haber completado el curso, y podrán figurar en la página web del curso por haberlo completado.\n",
        "\n",
        "*   Si se considera que el trabajo aún le falta corregir detalles, se pedirá una re-entrega.\n",
        "\n"
      ]
    },
    {
      "cell_type": "markdown",
      "metadata": {
        "id": "vBRyO-4_nGwj",
        "colab_type": "text"
      },
      "source": [
        "**Consultas acerca del trabajo:** Podrán realizar todas las consultas que quieran a través de nuestro [subreddit](https://www.reddit.com/r/CursoDePythonITBA/) dejando un comentario en el post titulado \"Consultas del trabajo práctico final\", teniendo especial cuidado de no mostrar grandes partes de su solución, ya que si consideramos que el comentario tiene un *spoiler* importante será eliminado."
      ]
    },
    {
      "cell_type": "markdown",
      "metadata": {
        "id": "40C-h2RsTAr-",
        "colab_type": "text"
      },
      "source": [
        "# **Opción 1: Graficador de casos del COVID-19**\n",
        "\n",
        "*Analisis y visualización de datos sobre los casos de coronavirus en distintos paises*\n",
        "\n",
        "<img width=\"450\" height=\"300\" src=\"https://cdn.pixabay.com/photo/2020/02/04/16/53/hand-washing-4818792_960_720.jpg\">\n",
        "\n",
        "En esta era de la desinformación puede resultar útil poder sacar uno mismo sus propias conclusiones acerca de los datos presentados. El objetivo de este trabajo es obtener datos de casos y muertes por el Coronavirus de un repositorio de datos online y graficar por país.\n",
        "\n",
        "* La aplicación debe recibir del usuario el nombre del país deseado y graficar casos detectados y fallecimientos totales para ese país en función del tiempo.\n",
        "* Pedir al usuario ingresar dos paises y gráficar para dichos países la cantidad de casos y fallecimientos en dos gráfico con etiquetas, el usuario debe ingresar el intervalo de tiempo a graficar. Calcular las intersecciónes entre graficos si las hubiera y marcarlas con un punto.\n",
        "* Pedir al usuario ingresar *n* países y gráficar para dichos países la cantidad de casos en una [escala logaritmica](https://es.wikipedia.org/wiki/Escala_logar%C3%ADtmica). El programa debe pedirle al usuario el intervalo de tiempo\n",
        "* Almacenar en un archivo de excel los países ordenados de mayor cantidad de casos a menor cantidad de casos indicando en las distintas columnas la cantidad de casos y fallecimientos de cada país. Colocar en distintas hojas del archivo excel la evolución de este ranking, es decir armar una hoja para cada día transcurrido (Defina los días a utilizar acorde a cuanta información se disponga, podría ser una entrada del programa).\n",
        "\n",
        "**Sugerencia:** \n",
        "*   Se pueden rotar las leyendas usando `plt.xticks(rotation=60)` (rotación de 60 grados). Es útil para leyendas largas, como por ejemplo, fechas.  \n",
        "*   En esta [página web](https://nexiandigitalacademy.es/visualizacion-y-procesamiento-de-datos-ante-de-la-pandemia-del-covid-19/) hay un ejemplo de gráficos logaritmicos\n",
        "\n",
        "\n",
        "\n",
        "\n"
      ]
    },
    {
      "cell_type": "code",
      "metadata": {
        "id": "ASU5hpqvTY62",
        "colab_type": "code",
        "colab": {}
      },
      "source": [
        "!wget 'https://covid.ourworldindata.org/data/ecdc/full_data.csv'"
      ],
      "execution_count": 0,
      "outputs": []
    },
    {
      "cell_type": "code",
      "metadata": {
        "id": "ybYwDnPfTSo4",
        "colab_type": "code",
        "colab": {}
      },
      "source": [
        ""
      ],
      "execution_count": 0,
      "outputs": []
    },
    {
      "cell_type": "markdown",
      "metadata": {
        "id": "s0qKIOh3UzGF",
        "colab_type": "text"
      },
      "source": [
        "# **Opción 2: El mercado financiero**\n",
        "\n",
        "*Estudio comparativo del desempeño financiero de distintas empresas*\n",
        "\n",
        "<img width=\"450\" height=\"300\" src=\"https://cdn.pixabay.com/photo/2016/11/27/21/42/stock-1863880_960_720.jpg\">\n",
        "\n",
        "Puede ser muy útil visualizar la información del mercado financiero para sacar conclusiones, en esta opción de trabajo práctico la idea es estudiar comparativamente el desempeño de dos empresas en la bolsa.\n",
        "\n",
        "*   Realizar un grafico del valor de las acciones diarias de las compañias **Amazon** y **Google** utilizando dos tipos de lineas distintos. Colocar como una entrada del programa el intervalo de fechas que se desea gráficar\n",
        "*   Encontrar los puntos donde se cruzan los dos gráficos y marcarlos con puntos.\n",
        "*   Almacenar en un archivo de excel las fechas donde ocurrieron las intersecciones."
      ]
    },
    {
      "cell_type": "code",
      "metadata": {
        "id": "gYpFgOGgWyi9",
        "colab_type": "code",
        "colab": {}
      },
      "source": [
        "! wget  \"https://raw.githubusercontent.com/LedesmaFran/python/master/GOOGLE.csv\"\n",
        "! wget  \"https://raw.githubusercontent.com/LedesmaFran/python/master/AMZN.csv\""
      ],
      "execution_count": 0,
      "outputs": []
    },
    {
      "cell_type": "code",
      "metadata": {
        "id": "tVf-bFSwbZYq",
        "colab_type": "code",
        "colab": {}
      },
      "source": [
        ""
      ],
      "execution_count": 0,
      "outputs": []
    },
    {
      "cell_type": "markdown",
      "metadata": {
        "id": "sIMvKzpzbZgi",
        "colab_type": "text"
      },
      "source": [
        "*   Armar un programa donde se analize la información de ciertas empresas (entrada del usuario) y se las gráfique comparativamente.\n",
        "*   Gráficar la *derivada discreta* de los valores de bolsa de cada empresa, esto es, la diferencia entre el valor actual y el anterior para cada punto en el tiempo.\n",
        "*   Calcular cual es aquella que creció más y aquella que creció menos en el mes pasado (Marzo), en el mes anterior (Febrero) y los últimos 12 meses, almacenar la información en un archivo excel.\n",
        "\n",
        "**Sugerecia**: En esta [base de datos](https://github.com/scikit-learn/examples-data/tree/master/financial-data) esta la información de bolsa de muchas empresas, también en algunos sitios como [Yahoo Finance](https://finance.yahoo.com/) o [investing.com](https://www.investing.com/) pueden buscar información del estado de la bolsa de las empresas en formato csv o excel. "
      ]
    },
    {
      "cell_type": "code",
      "metadata": {
        "id": "DW5R1_uyccNq",
        "colab_type": "code",
        "colab": {}
      },
      "source": [
        ""
      ],
      "execution_count": 0,
      "outputs": []
    },
    {
      "cell_type": "markdown",
      "metadata": {
        "id": "lVowRzeIL3sr",
        "colab_type": "text"
      },
      "source": [
        "# **Opción 3: Detección de picos en un electrocardiograma**\n",
        "\n",
        "*Analisis de una señal de un electrocardiograma para conseguir información de un paciente*\n",
        "\n",
        "<img width=\"450\" height=\"300\" src=\"https://cdn.pixabay.com/photo/2017/04/29/13/16/ecg-2270728_960_720.jpg\">\n"
      ]
    },
    {
      "cell_type": "markdown",
      "metadata": {
        "id": "YeXTkpeNdBCY",
        "colab_type": "text"
      },
      "source": [
        "Un electrocardiograma es una representación gráfica de los pulsos cardiacos. Se tiene un archivo **electrocardiograma.xlsx** con la información del resultado de un electrocardiograma en dos columnas, una tiene los valores de las mediciones en $eV$ (**señal**), y la segunda los tiempos de las mediciones (**tiempo**) que fueron tomadas con una frecuencia de 360 Hz.\n",
        "\n",
        "*   Calcular los picos del gráfico y marcarlos.\n",
        "*   Calcular las frecuencia cardiaca del paciente medida en latidos por minuto.\n",
        "*   Determinar si el electrocardiograma fue tomado mientras el paciente dormía, estaba en reposo o hacia actividad física. Tomar como referencia los [criterios de la frecuencia cardíaca](https://es.wikipedia.org/wiki/Frecuencia_card%C3%ADaca) y pedir como entrada del programa cualquier información adicional necesaria (como la edad o el género del paciente).\n",
        "*   Almacenar los resultados en un archivo de texto *.txt*\n",
        "\n",
        "\n",
        "**Sugerencia**: [find_peaks](https://docs.scipy.org/doc/scipy/reference/generated/scipy.signal.find_peaks.html)"
      ]
    },
    {
      "cell_type": "code",
      "metadata": {
        "id": "E_NWYz3HdDZ7",
        "colab_type": "code",
        "colab": {}
      },
      "source": [
        "! wget \"https://raw.githubusercontent.com/IEEESBITBA/Curso-Python/master/Clase_4_datos/electrocardiograma.xlsx\""
      ],
      "execution_count": 0,
      "outputs": []
    },
    {
      "cell_type": "code",
      "metadata": {
        "id": "bfo-5xKyd2Qe",
        "colab_type": "code",
        "colab": {}
      },
      "source": [
        ""
      ],
      "execution_count": 0,
      "outputs": []
    },
    {
      "cell_type": "markdown",
      "metadata": {
        "id": "4-Mq-KV0ZdVt",
        "colab_type": "text"
      },
      "source": [
        "# **Opción 4: Unificador de bases de datos con GUI**\n",
        "\n",
        "*Armado de una interfaz de usuario para procesar bases de datos*\n",
        "\n",
        "<img width=\"450\" height=\"300\" src=\"https://cdn.pixabay.com/photo/2016/03/04/12/20/server-1235959_960_720.jpg\">"
      ]
    },
    {
      "cell_type": "markdown",
      "metadata": {
        "id": "DwDiLj4h0_I6",
        "colab_type": "text"
      },
      "source": [
        "- **Nota:** No puede ser programado dentro de Google Colab. Para poder crear una ventana deberá ser ejecutado en una IDE u otro programa instalado en su computadora como puede ser PyCharm, VSCode, Spyder, etc.\n",
        "\n",
        "El objetivo de este proyecto es crear un programa que unifique bases de datos, de forma similar al ejercicio integrador de la Clase 3. Se cuentan con diferentes archivos *.xlsx* con datos de personas que se fueron obteniendo en diferentes momentos, por ejemplo a través de formularios online. Puede haber personas repetidas en diferentes archivos o incluso repetidos en el mismo archivo. Además de este problema, también puede suceder que los campos de información en cada archivo sean distintos, por ejemplo puede haber un archivo en el cuál aparece la edad de cada persona y otro en el que no. El formato de los archivos es una tabla en la cual cada columna tiene el nombre de un dato (mail, nombre, dni, etc.) y cada fila en la tabla contiene los datos de la persona. Para poder unificar todos los archivos, estos deben tener al menos una columna en común, que se utilizará para distinguir a las personas.\n",
        "\n",
        "Se debe crear una interfaz de usuario (GUI) que permita seleccionar diferentes archivos y el usuario debe poder ingresar el nombre de la columna que todos tienen en común. Luego con un botón de unificar, la aplicación deberá intentar realizar el proceso de unificación. En caso de éxito se muestra al usuario un mensaje exitoso, y en caso de algún error o problema se muestra un mensaje de error. El problema podría ser causado, por ejemplo, si el nombre de columna elegida no existe en algún archivo.\n",
        "\n",
        "Si se logra la tarea, se debe guardar un archivo *listas_unificadas.xlsx* en el cual aparezca cada persona sin repeticiones, y se muestren todos los datos de cada uno. En el caso de no contar con cierto dato de una persona, a causa de que el archivo en el cual aparece no lo contenía, la celda debe ser completada con un guión (-) indicando que no se conoce el dato. En caso de haber información conflictiva, si una persona tiene valores distintos para cierto dato en diferentes archivos, no le daremos importancia a cual quedará en la lista unificada y queda a criterio del programador.\n",
        "\n",
        "**Sugerencia:** Para programar la interfaz gráfica pueden usar la librería [tkinter](https://wiki.python.org/moin/TkInter). Dado que esta librería no fue explicada en el curso, deberán encontrar información por su cuenta, les recomendamos [este tutorial](https://likegeeks.com/python-gui-examples-tkinter-tutorial/).\n",
        "\n",
        "Les mostramos un ejemplo de GUI con *tkinter* con la funcionalidad básica del proyecto que pueden usar para empezar, pero ya que crea una ventana nueva no podrá ejecutarse desde Google Colab:\n",
        "\n",
        "\n",
        "![Ejemplo GUI](https://drive.google.com/uc?id=1ISlSYpA2erG9HyskvKOuEY3B0crY2RTI)\n"
      ]
    },
    {
      "cell_type": "code",
      "metadata": {
        "id": "8sU4MQJiHKAa",
        "colab_type": "code",
        "colab": {}
      },
      "source": [
        "from tkinter import *\n",
        "from tkinter import filedialog\n",
        "from tkinter import Menu\n",
        "from tkinter import messagebox\n",
        "\n",
        "# Lista con el path de los archivos\n",
        "archivos = []\n",
        "\n",
        "# Nombre de la columna en común\n",
        "columna_comun = ''\n",
        "\n",
        "# Funcion que se ejecuta cuando se hace click en el botón Unificar\n",
        "def click_unificar():\n",
        "    error_msg = ''\n",
        "\n",
        "    # Deberán programar ustedes algo parecido a:\n",
        "    # dataframe, error_msg = funcion_de_unificar(archivos, columna_comun)\n",
        "    if len(error_msg) > 0:\n",
        "        messagebox.showerror('Error!', error_msg)\n",
        "    else:\n",
        "        messagebox.showinfo('Operación exitosa!', \"Listas correctamente unificadas\")\n",
        "        # Guardar el archivo (deberan programar)\n",
        "\n",
        "# Funcion que se ejecuta cuando se hace click en el botón Abrir\n",
        "def openfile():\n",
        "    # Cuadro de dialogo para abrir el archivo\n",
        "    nuevo_archivo = filedialog.askopenfilename(initialdir = \"/\",title = \"Seleccionar archivo\",filetypes = ((\"Formato excel\",\"*.xlsx\"),(\"all files\",\"*.*\")))\n",
        "    \n",
        "    # Si se selecciono correctamente un archivo\n",
        "    if len(nuevo_archivo) > 0:\n",
        "        viejo_texto = archivos_label.cget(\"text\")\n",
        "\n",
        "        # Si es el primer archivo:\n",
        "        if len(archivos) == 0:\n",
        "            viejo_texto = \" Archivos seleccionados:\"\n",
        "            columna_entry.configure(state=\"normal\")    # Habilito el Entry de texto\n",
        "            unificar_button.configure(state=\"normal\")  # Habilito el botón unificar\n",
        "\n",
        "        nuevo_texto =  viejo_texto + \"\\n - \" + nuevo_archivo   # Agrego el nuevo archivo a la lista\n",
        "        archivos_label.configure(text=nuevo_texto)             # Actualizo el texto del Label\n",
        "\n",
        "        archivos.append(nuevo_archivo)  # Lo agrego a la lista\n",
        "\n",
        "window = Tk()\n",
        "window.title(\"Unificador de bases de datos\")\n",
        "window.geometry('500x200')\n",
        "\n",
        "# Menu 'Archivo' - 'Abrir'\n",
        "menu = Menu(window)\n",
        "new_item = Menu(menu, tearoff=0)\n",
        "new_item.add_command(label='Abrir', command=openfile)\n",
        "menu.add_cascade(label='Archivo', menu=new_item)\n",
        "window.config(menu=menu)\n",
        "\n",
        "# Label con la lista de archivos\n",
        "archivos_label = Label(window, text=\" No se seleccionaron archivos\", justify=LEFT)\n",
        "archivos_label.grid(column=0, row=0)\n",
        "\n",
        "# Entrada de texto del nombre de la columna en comun\n",
        "columna_label = Label(window, text=\"\\n Columna en común:\")\n",
        "columna_label.grid(column=0, row=1)\n",
        "columna_entry = Entry(window,width=20, state='disabled')  # Empieza desabilitada\n",
        "columna_entry.grid(column=0, row=2)\n",
        "\n",
        "# Boton de unificar\n",
        "unificar_button = Button(window, text=\"Unificar listas\", command=click_unificar, state = 'disabled')  # Empieza desabilitado\n",
        "unificar_button.grid(column=0, row=3, pady=10)\n",
        "\n",
        "window.mainloop()"
      ],
      "execution_count": 0,
      "outputs": []
    }
  ]
}